{
 "cells": [
  {
   "cell_type": "markdown",
   "metadata": {},
   "source": [
    "# Data Analysis for  WeRateDogs Twitter archive\n",
    "\n",
    "## Table of Contents\n",
    "\n",
    "[1 Introduction](#intro)\n",
    "\n",
    "[2 Gathering Data](#2)\n",
    "\n",
    "[3 Data Wrangling](#3)\n",
    "\n",
    "[4 Explorary Data Analysis](#4)\n",
    "\n",
    "[5 Conclusion and Limitations](#5)"
   ]
  },
  {
   "cell_type": "markdown",
   "metadata": {},
   "source": [
    "<a id='#intro'></a>\n",
    "## 1 Introduction\n",
    "> Twitter is one of the most popular social media where people post and interact with messages known as \"tweets\". It can be really interesting to dive into the user accounts with large follower base. For this project, we analyze a specific user account \"WeRateDogs\". This a micro-community for dog lover to share funny and adorable photos of dogs. \n",
    "\n",
    "> This project consist of three sections, data gathering, data wrangling and explorary data analysis. The first two sections focus on generating clean and tidy dataset, then the dataset is export to .csv file and .db file for later analysis. The explorary data analysis uses the clean dataset derived from the previous sections and conduct analysis to provide insights on the trends of popular dogs based on retweet count, favorate count and image prediction results."
   ]
  },
  {
   "cell_type": "code",
   "execution_count": 1,
   "metadata": {},
   "outputs": [],
   "source": [
    "import numpy as np\n",
    "import pandas as pd\n",
    "import requests\n",
    "import io\n",
    "import os\n",
    "import tweepy\n",
    "from tweepy import OAuthHandler\n",
    "import json\n",
    "import timeit\n",
    "import re\n",
    "import datetime\n",
    "from sqlalchemy import create_engine\n",
    "import matplotlib.pyplot as plt\n",
    "import seaborn as sns\n",
    "import calendar\n",
    "from sklearn.linear_model import LinearRegression"
   ]
  },
  {
   "cell_type": "markdown",
   "metadata": {},
   "source": [
    "<a id='2'></a>\n",
    "## 2 Gathering Data\n",
    "There are three data resources:\n",
    "* Manually download: `twitter_archive_enhanced.csv`\n",
    "* Derive from Udacity's servers: `image_predictions.tsv`\n",
    "* Derive by Tweepy: `tweet_json.txt`\n",
    "\n",
    ">`twitter_archive_enhanced.csv`: This file is downloaded manually and stores under the same path of this notebook for accessibility.\n",
    "\n",
    ">`image_predictions.tsv`: This file is obtained using requests library in [section 2.1](need a html link here)\n",
    "\n",
    ">`tweet_json.txt`: This file is obtained using requests library in [section 2.2](need a html link here)"
   ]
  },
  {
   "cell_type": "markdown",
   "metadata": {},
   "source": [
    "### 2.1 Read `twitter_archive_enhanced.csv` from Udacity's servers "
   ]
  },
  {
   "cell_type": "code",
   "execution_count": 2,
   "metadata": {},
   "outputs": [],
   "source": [
    "twitter_archive = pd.read_csv('twitter-archive-enhanced.csv')"
   ]
  },
  {
   "cell_type": "markdown",
   "metadata": {},
   "source": [
    "### 2.1 Extract `image_predictions.tsv` from Udacity's servers "
   ]
  },
  {
   "cell_type": "code",
   "execution_count": 3,
   "metadata": {},
   "outputs": [],
   "source": [
    "url = 'https://d17h27t6h515a5.cloudfront.net/topher/2017/August/599fd2ad_image-predictions/image-predictions.tsv'\n",
    "urlData = requests.get(url).content\n",
    "img_pred = pd.read_csv(io.StringIO(urlData.decode('utf-8')),sep='\\t')"
   ]
  },
  {
   "cell_type": "code",
   "execution_count": 4,
   "metadata": {},
   "outputs": [
    {
     "data": {
      "text/html": [
       "<div>\n",
       "<style scoped>\n",
       "    .dataframe tbody tr th:only-of-type {\n",
       "        vertical-align: middle;\n",
       "    }\n",
       "\n",
       "    .dataframe tbody tr th {\n",
       "        vertical-align: top;\n",
       "    }\n",
       "\n",
       "    .dataframe thead th {\n",
       "        text-align: right;\n",
       "    }\n",
       "</style>\n",
       "<table border=\"1\" class=\"dataframe\">\n",
       "  <thead>\n",
       "    <tr style=\"text-align: right;\">\n",
       "      <th></th>\n",
       "      <th>tweet_id</th>\n",
       "      <th>jpg_url</th>\n",
       "      <th>img_num</th>\n",
       "      <th>p1</th>\n",
       "      <th>p1_conf</th>\n",
       "      <th>p1_dog</th>\n",
       "      <th>p2</th>\n",
       "      <th>p2_conf</th>\n",
       "      <th>p2_dog</th>\n",
       "      <th>p3</th>\n",
       "      <th>p3_conf</th>\n",
       "      <th>p3_dog</th>\n",
       "    </tr>\n",
       "  </thead>\n",
       "  <tbody>\n",
       "    <tr>\n",
       "      <th>0</th>\n",
       "      <td>666020888022790149</td>\n",
       "      <td>https://pbs.twimg.com/media/CT4udn0WwAA0aMy.jpg</td>\n",
       "      <td>1</td>\n",
       "      <td>Welsh_springer_spaniel</td>\n",
       "      <td>0.465074</td>\n",
       "      <td>True</td>\n",
       "      <td>collie</td>\n",
       "      <td>0.156665</td>\n",
       "      <td>True</td>\n",
       "      <td>Shetland_sheepdog</td>\n",
       "      <td>0.061428</td>\n",
       "      <td>True</td>\n",
       "    </tr>\n",
       "    <tr>\n",
       "      <th>1</th>\n",
       "      <td>666029285002620928</td>\n",
       "      <td>https://pbs.twimg.com/media/CT42GRgUYAA5iDo.jpg</td>\n",
       "      <td>1</td>\n",
       "      <td>redbone</td>\n",
       "      <td>0.506826</td>\n",
       "      <td>True</td>\n",
       "      <td>miniature_pinscher</td>\n",
       "      <td>0.074192</td>\n",
       "      <td>True</td>\n",
       "      <td>Rhodesian_ridgeback</td>\n",
       "      <td>0.072010</td>\n",
       "      <td>True</td>\n",
       "    </tr>\n",
       "    <tr>\n",
       "      <th>2</th>\n",
       "      <td>666033412701032449</td>\n",
       "      <td>https://pbs.twimg.com/media/CT4521TWwAEvMyu.jpg</td>\n",
       "      <td>1</td>\n",
       "      <td>German_shepherd</td>\n",
       "      <td>0.596461</td>\n",
       "      <td>True</td>\n",
       "      <td>malinois</td>\n",
       "      <td>0.138584</td>\n",
       "      <td>True</td>\n",
       "      <td>bloodhound</td>\n",
       "      <td>0.116197</td>\n",
       "      <td>True</td>\n",
       "    </tr>\n",
       "    <tr>\n",
       "      <th>3</th>\n",
       "      <td>666044226329800704</td>\n",
       "      <td>https://pbs.twimg.com/media/CT5Dr8HUEAA-lEu.jpg</td>\n",
       "      <td>1</td>\n",
       "      <td>Rhodesian_ridgeback</td>\n",
       "      <td>0.408143</td>\n",
       "      <td>True</td>\n",
       "      <td>redbone</td>\n",
       "      <td>0.360687</td>\n",
       "      <td>True</td>\n",
       "      <td>miniature_pinscher</td>\n",
       "      <td>0.222752</td>\n",
       "      <td>True</td>\n",
       "    </tr>\n",
       "    <tr>\n",
       "      <th>4</th>\n",
       "      <td>666049248165822465</td>\n",
       "      <td>https://pbs.twimg.com/media/CT5IQmsXIAAKY4A.jpg</td>\n",
       "      <td>1</td>\n",
       "      <td>miniature_pinscher</td>\n",
       "      <td>0.560311</td>\n",
       "      <td>True</td>\n",
       "      <td>Rottweiler</td>\n",
       "      <td>0.243682</td>\n",
       "      <td>True</td>\n",
       "      <td>Doberman</td>\n",
       "      <td>0.154629</td>\n",
       "      <td>True</td>\n",
       "    </tr>\n",
       "  </tbody>\n",
       "</table>\n",
       "</div>"
      ],
      "text/plain": [
       "             tweet_id                                          jpg_url  \\\n",
       "0  666020888022790149  https://pbs.twimg.com/media/CT4udn0WwAA0aMy.jpg   \n",
       "1  666029285002620928  https://pbs.twimg.com/media/CT42GRgUYAA5iDo.jpg   \n",
       "2  666033412701032449  https://pbs.twimg.com/media/CT4521TWwAEvMyu.jpg   \n",
       "3  666044226329800704  https://pbs.twimg.com/media/CT5Dr8HUEAA-lEu.jpg   \n",
       "4  666049248165822465  https://pbs.twimg.com/media/CT5IQmsXIAAKY4A.jpg   \n",
       "\n",
       "   img_num                      p1   p1_conf  p1_dog                  p2  \\\n",
       "0        1  Welsh_springer_spaniel  0.465074    True              collie   \n",
       "1        1                 redbone  0.506826    True  miniature_pinscher   \n",
       "2        1         German_shepherd  0.596461    True            malinois   \n",
       "3        1     Rhodesian_ridgeback  0.408143    True             redbone   \n",
       "4        1      miniature_pinscher  0.560311    True          Rottweiler   \n",
       "\n",
       "    p2_conf  p2_dog                   p3   p3_conf  p3_dog  \n",
       "0  0.156665    True    Shetland_sheepdog  0.061428    True  \n",
       "1  0.074192    True  Rhodesian_ridgeback  0.072010    True  \n",
       "2  0.138584    True           bloodhound  0.116197    True  \n",
       "3  0.360687    True   miniature_pinscher  0.222752    True  \n",
       "4  0.243682    True             Doberman  0.154629    True  "
      ]
     },
     "execution_count": 4,
     "metadata": {},
     "output_type": "execute_result"
    }
   ],
   "source": [
    "img_pred.head()"
   ]
  },
  {
   "cell_type": "markdown",
   "metadata": {},
   "source": [
    "### 2.2 Extract data using twitter API"
   ]
  },
  {
   "cell_type": "code",
   "execution_count": 5,
   "metadata": {},
   "outputs": [],
   "source": [
    "# read key value pairs from a json file.\n",
    "with open('config.json') as f:\n",
    "    config = json.load(f)"
   ]
  },
  {
   "cell_type": "code",
   "execution_count": 6,
   "metadata": {},
   "outputs": [],
   "source": [
    "consumer_key = config['consumer_key']\n",
    "consumer_secret = config['consumer_secret']\n",
    "access_token = config['access_token']\n",
    "access_secret = config['access_secret']"
   ]
  },
  {
   "cell_type": "code",
   "execution_count": 7,
   "metadata": {},
   "outputs": [],
   "source": [
    "auth = tweepy.OAuthHandler(consumer_key, consumer_secret)\n",
    "auth.set_access_token(access_token, access_secret)\n",
    "\n",
    "api = tweepy.API(auth, wait_on_rate_limit=True)"
   ]
  },
  {
   "cell_type": "code",
   "execution_count": 8,
   "metadata": {},
   "outputs": [
    {
     "name": "stdout",
     "output_type": "stream",
     "text": [
      "File already exist!\n"
     ]
    }
   ],
   "source": [
    "# start to retrieve data from twitter\n",
    "# Since this takes more than 20 mins, check if the file exist or not.\n",
    "# If the file exist, just skip this step.\n",
    "if not os.path.exists(\"tweet_json.txt\"):\n",
    "    start = timeit.timeit() # set up a timer\n",
    "    fails_dict={} # collect deleted ids\n",
    "    count = 0 # get the processing status\n",
    "    with open('tweet_json.txt', 'w') as outfile:\n",
    "        for twt_id in img_pred['tweet_id']:\n",
    "            try:\n",
    "                tweet = api.get_status(twt_id,tweet_mode='extended',wait_on_rate_limit=True,wait_on_rate_limit_notify=True)\n",
    "                print('{} record success'.format(count),end=\"\\r\")\n",
    "                json.dump(tweet._json, outfile)\n",
    "                outfile.write('\\n')\n",
    "            except tweepy.TweepError as e:\n",
    "                print('Fail',end=\"\\r\")\n",
    "                fails_dict[twt_id] = e\n",
    "                pass\n",
    "            count += 1\n",
    "else:\n",
    "    print(\"File already exist!\")"
   ]
  },
  {
   "cell_type": "code",
   "execution_count": 9,
   "metadata": {},
   "outputs": [],
   "source": [
    "df_api = pd.DataFrame(columns=['id','display_text_range','retweet_count','favorite_count'])\n",
    "with open('tweet_json.txt') as json_file:\n",
    "    for line in json_file:\n",
    "        data_str = json.loads(line)\n",
    "        data_parse = pd.DataFrame.from_dict(data_str,orient=\"index\")\n",
    "        data_interested = data_parse[0][['id','display_text_range','retweet_count','favorite_count']]\n",
    "        df_api = df_api.append(data_interested,ignore_index=True)"
   ]
  },
  {
   "cell_type": "code",
   "execution_count": 10,
   "metadata": {
    "scrolled": true
   },
   "outputs": [
    {
     "data": {
      "text/html": [
       "<div>\n",
       "<style scoped>\n",
       "    .dataframe tbody tr th:only-of-type {\n",
       "        vertical-align: middle;\n",
       "    }\n",
       "\n",
       "    .dataframe tbody tr th {\n",
       "        vertical-align: top;\n",
       "    }\n",
       "\n",
       "    .dataframe thead th {\n",
       "        text-align: right;\n",
       "    }\n",
       "</style>\n",
       "<table border=\"1\" class=\"dataframe\">\n",
       "  <thead>\n",
       "    <tr style=\"text-align: right;\">\n",
       "      <th></th>\n",
       "      <th>id</th>\n",
       "      <th>display_text_range</th>\n",
       "      <th>retweet_count</th>\n",
       "      <th>favorite_count</th>\n",
       "    </tr>\n",
       "  </thead>\n",
       "  <tbody>\n",
       "    <tr>\n",
       "      <th>0</th>\n",
       "      <td>666020888022790149</td>\n",
       "      <td>[0, 131]</td>\n",
       "      <td>466</td>\n",
       "      <td>2434</td>\n",
       "    </tr>\n",
       "    <tr>\n",
       "      <th>1</th>\n",
       "      <td>666029285002620928</td>\n",
       "      <td>[0, 139]</td>\n",
       "      <td>42</td>\n",
       "      <td>121</td>\n",
       "    </tr>\n",
       "    <tr>\n",
       "      <th>2</th>\n",
       "      <td>666033412701032449</td>\n",
       "      <td>[0, 130]</td>\n",
       "      <td>41</td>\n",
       "      <td>113</td>\n",
       "    </tr>\n",
       "    <tr>\n",
       "      <th>3</th>\n",
       "      <td>666044226329800704</td>\n",
       "      <td>[0, 137]</td>\n",
       "      <td>133</td>\n",
       "      <td>274</td>\n",
       "    </tr>\n",
       "    <tr>\n",
       "      <th>4</th>\n",
       "      <td>666049248165822465</td>\n",
       "      <td>[0, 120]</td>\n",
       "      <td>41</td>\n",
       "      <td>99</td>\n",
       "    </tr>\n",
       "  </tbody>\n",
       "</table>\n",
       "</div>"
      ],
      "text/plain": [
       "                   id display_text_range retweet_count favorite_count\n",
       "0  666020888022790149           [0, 131]           466           2434\n",
       "1  666029285002620928           [0, 139]            42            121\n",
       "2  666033412701032449           [0, 130]            41            113\n",
       "3  666044226329800704           [0, 137]           133            274\n",
       "4  666049248165822465           [0, 120]            41             99"
      ]
     },
     "execution_count": 10,
     "metadata": {},
     "output_type": "execute_result"
    }
   ],
   "source": [
    "df_api.head()"
   ]
  },
  {
   "cell_type": "markdown",
   "metadata": {},
   "source": [
    "<a id='3'></a>\n",
    "## 3 Data Wrangling\n",
    "In the previous section, three tables are generated from different sources. In this sections, each table is carefully assessed and cleaned. The three dataframes are listed below:\n",
    "\n",
    "* `twitter_archive`: retrieved from a .csv file\n",
    "* `img_pred`: retrieved from Udacity server\n",
    "* `df_api`: retrieved from twitter"
   ]
  },
  {
   "cell_type": "markdown",
   "metadata": {},
   "source": [
    "### 3.1 Data Assesssing"
   ]
  },
  {
   "cell_type": "markdown",
   "metadata": {},
   "source": [
    "#### 3.1.1 Data Assessing: `twitter_archive` table\n",
    "**Quality issues**\n",
    "* redundant information in `source` column.\n",
    "* Erroneous datatypes(in_reply_to_status_id, in_reply_to_user_id, timestamp,retweet_status_id, retweet_status_user_id, retweet_status_timestamp, source,doggo,floofer,pupper,puppo)\n",
    "* contains retweeted tweets (with retweet_user_id)\n",
    "* more than 50% of NAN values in columns related `in_reply_to` and `retweeted_status`\n",
    "* incorrect ratings (and change type to string)\n",
    "* For some entries, key words 'doggo','floofer','pupper','puppo' exist in the text but did not record in the corresponding columns\n",
    "* incorrect name for the dogs with name 'a' or 'None', some of them have a name and some of them do not have a name.\n",
    "* Name column has uppercase letters.\n",
    "\n",
    "**Tidniess issues**\n",
    "* Text column contains multiple variables: text, rate and url\n",
    "* ['doggo','floofer','pupper','puppo'] should be in one column.\n",
    "\n"
   ]
  },
  {
   "cell_type": "code",
   "execution_count": 11,
   "metadata": {
    "scrolled": true
   },
   "outputs": [
    {
     "data": {
      "text/html": [
       "<div>\n",
       "<style scoped>\n",
       "    .dataframe tbody tr th:only-of-type {\n",
       "        vertical-align: middle;\n",
       "    }\n",
       "\n",
       "    .dataframe tbody tr th {\n",
       "        vertical-align: top;\n",
       "    }\n",
       "\n",
       "    .dataframe thead th {\n",
       "        text-align: right;\n",
       "    }\n",
       "</style>\n",
       "<table border=\"1\" class=\"dataframe\">\n",
       "  <thead>\n",
       "    <tr style=\"text-align: right;\">\n",
       "      <th></th>\n",
       "      <th>tweet_id</th>\n",
       "      <th>in_reply_to_status_id</th>\n",
       "      <th>in_reply_to_user_id</th>\n",
       "      <th>timestamp</th>\n",
       "      <th>source</th>\n",
       "      <th>text</th>\n",
       "      <th>retweeted_status_id</th>\n",
       "      <th>retweeted_status_user_id</th>\n",
       "      <th>retweeted_status_timestamp</th>\n",
       "      <th>expanded_urls</th>\n",
       "      <th>rating_numerator</th>\n",
       "      <th>rating_denominator</th>\n",
       "      <th>name</th>\n",
       "      <th>doggo</th>\n",
       "      <th>floofer</th>\n",
       "      <th>pupper</th>\n",
       "      <th>puppo</th>\n",
       "    </tr>\n",
       "  </thead>\n",
       "  <tbody>\n",
       "    <tr>\n",
       "      <th>0</th>\n",
       "      <td>892420643555336193</td>\n",
       "      <td>NaN</td>\n",
       "      <td>NaN</td>\n",
       "      <td>2017-08-01 16:23:56 +0000</td>\n",
       "      <td>&lt;a href=\"http://twitter.com/download/iphone\" r...</td>\n",
       "      <td>This is Phineas. He's a mystical boy. Only eve...</td>\n",
       "      <td>NaN</td>\n",
       "      <td>NaN</td>\n",
       "      <td>NaN</td>\n",
       "      <td>https://twitter.com/dog_rates/status/892420643...</td>\n",
       "      <td>13</td>\n",
       "      <td>10</td>\n",
       "      <td>Phineas</td>\n",
       "      <td>None</td>\n",
       "      <td>None</td>\n",
       "      <td>None</td>\n",
       "      <td>None</td>\n",
       "    </tr>\n",
       "    <tr>\n",
       "      <th>1</th>\n",
       "      <td>892177421306343426</td>\n",
       "      <td>NaN</td>\n",
       "      <td>NaN</td>\n",
       "      <td>2017-08-01 00:17:27 +0000</td>\n",
       "      <td>&lt;a href=\"http://twitter.com/download/iphone\" r...</td>\n",
       "      <td>This is Tilly. She's just checking pup on you....</td>\n",
       "      <td>NaN</td>\n",
       "      <td>NaN</td>\n",
       "      <td>NaN</td>\n",
       "      <td>https://twitter.com/dog_rates/status/892177421...</td>\n",
       "      <td>13</td>\n",
       "      <td>10</td>\n",
       "      <td>Tilly</td>\n",
       "      <td>None</td>\n",
       "      <td>None</td>\n",
       "      <td>None</td>\n",
       "      <td>None</td>\n",
       "    </tr>\n",
       "    <tr>\n",
       "      <th>2</th>\n",
       "      <td>891815181378084864</td>\n",
       "      <td>NaN</td>\n",
       "      <td>NaN</td>\n",
       "      <td>2017-07-31 00:18:03 +0000</td>\n",
       "      <td>&lt;a href=\"http://twitter.com/download/iphone\" r...</td>\n",
       "      <td>This is Archie. He is a rare Norwegian Pouncin...</td>\n",
       "      <td>NaN</td>\n",
       "      <td>NaN</td>\n",
       "      <td>NaN</td>\n",
       "      <td>https://twitter.com/dog_rates/status/891815181...</td>\n",
       "      <td>12</td>\n",
       "      <td>10</td>\n",
       "      <td>Archie</td>\n",
       "      <td>None</td>\n",
       "      <td>None</td>\n",
       "      <td>None</td>\n",
       "      <td>None</td>\n",
       "    </tr>\n",
       "    <tr>\n",
       "      <th>3</th>\n",
       "      <td>891689557279858688</td>\n",
       "      <td>NaN</td>\n",
       "      <td>NaN</td>\n",
       "      <td>2017-07-30 15:58:51 +0000</td>\n",
       "      <td>&lt;a href=\"http://twitter.com/download/iphone\" r...</td>\n",
       "      <td>This is Darla. She commenced a snooze mid meal...</td>\n",
       "      <td>NaN</td>\n",
       "      <td>NaN</td>\n",
       "      <td>NaN</td>\n",
       "      <td>https://twitter.com/dog_rates/status/891689557...</td>\n",
       "      <td>13</td>\n",
       "      <td>10</td>\n",
       "      <td>Darla</td>\n",
       "      <td>None</td>\n",
       "      <td>None</td>\n",
       "      <td>None</td>\n",
       "      <td>None</td>\n",
       "    </tr>\n",
       "    <tr>\n",
       "      <th>4</th>\n",
       "      <td>891327558926688256</td>\n",
       "      <td>NaN</td>\n",
       "      <td>NaN</td>\n",
       "      <td>2017-07-29 16:00:24 +0000</td>\n",
       "      <td>&lt;a href=\"http://twitter.com/download/iphone\" r...</td>\n",
       "      <td>This is Franklin. He would like you to stop ca...</td>\n",
       "      <td>NaN</td>\n",
       "      <td>NaN</td>\n",
       "      <td>NaN</td>\n",
       "      <td>https://twitter.com/dog_rates/status/891327558...</td>\n",
       "      <td>12</td>\n",
       "      <td>10</td>\n",
       "      <td>Franklin</td>\n",
       "      <td>None</td>\n",
       "      <td>None</td>\n",
       "      <td>None</td>\n",
       "      <td>None</td>\n",
       "    </tr>\n",
       "    <tr>\n",
       "      <th>...</th>\n",
       "      <td>...</td>\n",
       "      <td>...</td>\n",
       "      <td>...</td>\n",
       "      <td>...</td>\n",
       "      <td>...</td>\n",
       "      <td>...</td>\n",
       "      <td>...</td>\n",
       "      <td>...</td>\n",
       "      <td>...</td>\n",
       "      <td>...</td>\n",
       "      <td>...</td>\n",
       "      <td>...</td>\n",
       "      <td>...</td>\n",
       "      <td>...</td>\n",
       "      <td>...</td>\n",
       "      <td>...</td>\n",
       "      <td>...</td>\n",
       "    </tr>\n",
       "    <tr>\n",
       "      <th>2351</th>\n",
       "      <td>666049248165822465</td>\n",
       "      <td>NaN</td>\n",
       "      <td>NaN</td>\n",
       "      <td>2015-11-16 00:24:50 +0000</td>\n",
       "      <td>&lt;a href=\"http://twitter.com/download/iphone\" r...</td>\n",
       "      <td>Here we have a 1949 1st generation vulpix. Enj...</td>\n",
       "      <td>NaN</td>\n",
       "      <td>NaN</td>\n",
       "      <td>NaN</td>\n",
       "      <td>https://twitter.com/dog_rates/status/666049248...</td>\n",
       "      <td>5</td>\n",
       "      <td>10</td>\n",
       "      <td>None</td>\n",
       "      <td>None</td>\n",
       "      <td>None</td>\n",
       "      <td>None</td>\n",
       "      <td>None</td>\n",
       "    </tr>\n",
       "    <tr>\n",
       "      <th>2352</th>\n",
       "      <td>666044226329800704</td>\n",
       "      <td>NaN</td>\n",
       "      <td>NaN</td>\n",
       "      <td>2015-11-16 00:04:52 +0000</td>\n",
       "      <td>&lt;a href=\"http://twitter.com/download/iphone\" r...</td>\n",
       "      <td>This is a purebred Piers Morgan. Loves to Netf...</td>\n",
       "      <td>NaN</td>\n",
       "      <td>NaN</td>\n",
       "      <td>NaN</td>\n",
       "      <td>https://twitter.com/dog_rates/status/666044226...</td>\n",
       "      <td>6</td>\n",
       "      <td>10</td>\n",
       "      <td>a</td>\n",
       "      <td>None</td>\n",
       "      <td>None</td>\n",
       "      <td>None</td>\n",
       "      <td>None</td>\n",
       "    </tr>\n",
       "    <tr>\n",
       "      <th>2353</th>\n",
       "      <td>666033412701032449</td>\n",
       "      <td>NaN</td>\n",
       "      <td>NaN</td>\n",
       "      <td>2015-11-15 23:21:54 +0000</td>\n",
       "      <td>&lt;a href=\"http://twitter.com/download/iphone\" r...</td>\n",
       "      <td>Here is a very happy pup. Big fan of well-main...</td>\n",
       "      <td>NaN</td>\n",
       "      <td>NaN</td>\n",
       "      <td>NaN</td>\n",
       "      <td>https://twitter.com/dog_rates/status/666033412...</td>\n",
       "      <td>9</td>\n",
       "      <td>10</td>\n",
       "      <td>a</td>\n",
       "      <td>None</td>\n",
       "      <td>None</td>\n",
       "      <td>None</td>\n",
       "      <td>None</td>\n",
       "    </tr>\n",
       "    <tr>\n",
       "      <th>2354</th>\n",
       "      <td>666029285002620928</td>\n",
       "      <td>NaN</td>\n",
       "      <td>NaN</td>\n",
       "      <td>2015-11-15 23:05:30 +0000</td>\n",
       "      <td>&lt;a href=\"http://twitter.com/download/iphone\" r...</td>\n",
       "      <td>This is a western brown Mitsubishi terrier. Up...</td>\n",
       "      <td>NaN</td>\n",
       "      <td>NaN</td>\n",
       "      <td>NaN</td>\n",
       "      <td>https://twitter.com/dog_rates/status/666029285...</td>\n",
       "      <td>7</td>\n",
       "      <td>10</td>\n",
       "      <td>a</td>\n",
       "      <td>None</td>\n",
       "      <td>None</td>\n",
       "      <td>None</td>\n",
       "      <td>None</td>\n",
       "    </tr>\n",
       "    <tr>\n",
       "      <th>2355</th>\n",
       "      <td>666020888022790149</td>\n",
       "      <td>NaN</td>\n",
       "      <td>NaN</td>\n",
       "      <td>2015-11-15 22:32:08 +0000</td>\n",
       "      <td>&lt;a href=\"http://twitter.com/download/iphone\" r...</td>\n",
       "      <td>Here we have a Japanese Irish Setter. Lost eye...</td>\n",
       "      <td>NaN</td>\n",
       "      <td>NaN</td>\n",
       "      <td>NaN</td>\n",
       "      <td>https://twitter.com/dog_rates/status/666020888...</td>\n",
       "      <td>8</td>\n",
       "      <td>10</td>\n",
       "      <td>None</td>\n",
       "      <td>None</td>\n",
       "      <td>None</td>\n",
       "      <td>None</td>\n",
       "      <td>None</td>\n",
       "    </tr>\n",
       "  </tbody>\n",
       "</table>\n",
       "<p>2356 rows × 17 columns</p>\n",
       "</div>"
      ],
      "text/plain": [
       "                tweet_id  in_reply_to_status_id  in_reply_to_user_id  \\\n",
       "0     892420643555336193                    NaN                  NaN   \n",
       "1     892177421306343426                    NaN                  NaN   \n",
       "2     891815181378084864                    NaN                  NaN   \n",
       "3     891689557279858688                    NaN                  NaN   \n",
       "4     891327558926688256                    NaN                  NaN   \n",
       "...                  ...                    ...                  ...   \n",
       "2351  666049248165822465                    NaN                  NaN   \n",
       "2352  666044226329800704                    NaN                  NaN   \n",
       "2353  666033412701032449                    NaN                  NaN   \n",
       "2354  666029285002620928                    NaN                  NaN   \n",
       "2355  666020888022790149                    NaN                  NaN   \n",
       "\n",
       "                      timestamp  \\\n",
       "0     2017-08-01 16:23:56 +0000   \n",
       "1     2017-08-01 00:17:27 +0000   \n",
       "2     2017-07-31 00:18:03 +0000   \n",
       "3     2017-07-30 15:58:51 +0000   \n",
       "4     2017-07-29 16:00:24 +0000   \n",
       "...                         ...   \n",
       "2351  2015-11-16 00:24:50 +0000   \n",
       "2352  2015-11-16 00:04:52 +0000   \n",
       "2353  2015-11-15 23:21:54 +0000   \n",
       "2354  2015-11-15 23:05:30 +0000   \n",
       "2355  2015-11-15 22:32:08 +0000   \n",
       "\n",
       "                                                 source  \\\n",
       "0     <a href=\"http://twitter.com/download/iphone\" r...   \n",
       "1     <a href=\"http://twitter.com/download/iphone\" r...   \n",
       "2     <a href=\"http://twitter.com/download/iphone\" r...   \n",
       "3     <a href=\"http://twitter.com/download/iphone\" r...   \n",
       "4     <a href=\"http://twitter.com/download/iphone\" r...   \n",
       "...                                                 ...   \n",
       "2351  <a href=\"http://twitter.com/download/iphone\" r...   \n",
       "2352  <a href=\"http://twitter.com/download/iphone\" r...   \n",
       "2353  <a href=\"http://twitter.com/download/iphone\" r...   \n",
       "2354  <a href=\"http://twitter.com/download/iphone\" r...   \n",
       "2355  <a href=\"http://twitter.com/download/iphone\" r...   \n",
       "\n",
       "                                                   text  retweeted_status_id  \\\n",
       "0     This is Phineas. He's a mystical boy. Only eve...                  NaN   \n",
       "1     This is Tilly. She's just checking pup on you....                  NaN   \n",
       "2     This is Archie. He is a rare Norwegian Pouncin...                  NaN   \n",
       "3     This is Darla. She commenced a snooze mid meal...                  NaN   \n",
       "4     This is Franklin. He would like you to stop ca...                  NaN   \n",
       "...                                                 ...                  ...   \n",
       "2351  Here we have a 1949 1st generation vulpix. Enj...                  NaN   \n",
       "2352  This is a purebred Piers Morgan. Loves to Netf...                  NaN   \n",
       "2353  Here is a very happy pup. Big fan of well-main...                  NaN   \n",
       "2354  This is a western brown Mitsubishi terrier. Up...                  NaN   \n",
       "2355  Here we have a Japanese Irish Setter. Lost eye...                  NaN   \n",
       "\n",
       "      retweeted_status_user_id retweeted_status_timestamp  \\\n",
       "0                          NaN                        NaN   \n",
       "1                          NaN                        NaN   \n",
       "2                          NaN                        NaN   \n",
       "3                          NaN                        NaN   \n",
       "4                          NaN                        NaN   \n",
       "...                        ...                        ...   \n",
       "2351                       NaN                        NaN   \n",
       "2352                       NaN                        NaN   \n",
       "2353                       NaN                        NaN   \n",
       "2354                       NaN                        NaN   \n",
       "2355                       NaN                        NaN   \n",
       "\n",
       "                                          expanded_urls  rating_numerator  \\\n",
       "0     https://twitter.com/dog_rates/status/892420643...                13   \n",
       "1     https://twitter.com/dog_rates/status/892177421...                13   \n",
       "2     https://twitter.com/dog_rates/status/891815181...                12   \n",
       "3     https://twitter.com/dog_rates/status/891689557...                13   \n",
       "4     https://twitter.com/dog_rates/status/891327558...                12   \n",
       "...                                                 ...               ...   \n",
       "2351  https://twitter.com/dog_rates/status/666049248...                 5   \n",
       "2352  https://twitter.com/dog_rates/status/666044226...                 6   \n",
       "2353  https://twitter.com/dog_rates/status/666033412...                 9   \n",
       "2354  https://twitter.com/dog_rates/status/666029285...                 7   \n",
       "2355  https://twitter.com/dog_rates/status/666020888...                 8   \n",
       "\n",
       "      rating_denominator      name doggo floofer pupper puppo  \n",
       "0                     10   Phineas  None    None   None  None  \n",
       "1                     10     Tilly  None    None   None  None  \n",
       "2                     10    Archie  None    None   None  None  \n",
       "3                     10     Darla  None    None   None  None  \n",
       "4                     10  Franklin  None    None   None  None  \n",
       "...                  ...       ...   ...     ...    ...   ...  \n",
       "2351                  10      None  None    None   None  None  \n",
       "2352                  10         a  None    None   None  None  \n",
       "2353                  10         a  None    None   None  None  \n",
       "2354                  10         a  None    None   None  None  \n",
       "2355                  10      None  None    None   None  None  \n",
       "\n",
       "[2356 rows x 17 columns]"
      ]
     },
     "execution_count": 11,
     "metadata": {},
     "output_type": "execute_result"
    }
   ],
   "source": [
    "twitter_archive"
   ]
  },
  {
   "cell_type": "code",
   "execution_count": 12,
   "metadata": {
    "scrolled": true
   },
   "outputs": [
    {
     "name": "stdout",
     "output_type": "stream",
     "text": [
      "<class 'pandas.core.frame.DataFrame'>\n",
      "RangeIndex: 2356 entries, 0 to 2355\n",
      "Data columns (total 17 columns):\n",
      " #   Column                      Non-Null Count  Dtype  \n",
      "---  ------                      --------------  -----  \n",
      " 0   tweet_id                    2356 non-null   int64  \n",
      " 1   in_reply_to_status_id       78 non-null     float64\n",
      " 2   in_reply_to_user_id         78 non-null     float64\n",
      " 3   timestamp                   2356 non-null   object \n",
      " 4   source                      2356 non-null   object \n",
      " 5   text                        2356 non-null   object \n",
      " 6   retweeted_status_id         181 non-null    float64\n",
      " 7   retweeted_status_user_id    181 non-null    float64\n",
      " 8   retweeted_status_timestamp  181 non-null    object \n",
      " 9   expanded_urls               2297 non-null   object \n",
      " 10  rating_numerator            2356 non-null   int64  \n",
      " 11  rating_denominator          2356 non-null   int64  \n",
      " 12  name                        2356 non-null   object \n",
      " 13  doggo                       2356 non-null   object \n",
      " 14  floofer                     2356 non-null   object \n",
      " 15  pupper                      2356 non-null   object \n",
      " 16  puppo                       2356 non-null   object \n",
      "dtypes: float64(4), int64(3), object(10)\n",
      "memory usage: 313.0+ KB\n"
     ]
    }
   ],
   "source": [
    "twitter_archive.info()"
   ]
  },
  {
   "cell_type": "code",
   "execution_count": 13,
   "metadata": {},
   "outputs": [
    {
     "data": {
      "text/plain": [
       "6.671522e+17    2\n",
       "8.562860e+17    1\n",
       "8.131273e+17    1\n",
       "6.754971e+17    1\n",
       "6.827884e+17    1\n",
       "               ..\n",
       "8.482121e+17    1\n",
       "6.715449e+17    1\n",
       "6.936422e+17    1\n",
       "6.849598e+17    1\n",
       "7.331095e+17    1\n",
       "Name: in_reply_to_status_id, Length: 77, dtype: int64"
      ]
     },
     "execution_count": 13,
     "metadata": {},
     "output_type": "execute_result"
    }
   ],
   "source": [
    "twitter_archive.in_reply_to_status_id.value_counts()"
   ]
  },
  {
   "cell_type": "code",
   "execution_count": 14,
   "metadata": {
    "scrolled": true
   },
   "outputs": [
    {
     "data": {
      "text/plain": [
       "7.757333e+17    1\n",
       "7.507196e+17    1\n",
       "6.742918e+17    1\n",
       "6.833919e+17    1\n",
       "8.269587e+17    1\n",
       "               ..\n",
       "7.848260e+17    1\n",
       "7.806013e+17    1\n",
       "8.305833e+17    1\n",
       "7.047611e+17    1\n",
       "7.331095e+17    1\n",
       "Name: retweeted_status_id, Length: 181, dtype: int64"
      ]
     },
     "execution_count": 14,
     "metadata": {},
     "output_type": "execute_result"
    }
   ],
   "source": [
    "twitter_archive.retweeted_status_id.value_counts()"
   ]
  },
  {
   "cell_type": "code",
   "execution_count": 15,
   "metadata": {},
   "outputs": [
    {
     "data": {
      "text/plain": [
       "<a href=\"http://twitter.com/download/iphone\" rel=\"nofollow\">Twitter for iPhone</a>     2221\n",
       "<a href=\"http://vine.co\" rel=\"nofollow\">Vine - Make a Scene</a>                          91\n",
       "<a href=\"http://twitter.com\" rel=\"nofollow\">Twitter Web Client</a>                       33\n",
       "<a href=\"https://about.twitter.com/products/tweetdeck\" rel=\"nofollow\">TweetDeck</a>      11\n",
       "Name: source, dtype: int64"
      ]
     },
     "execution_count": 15,
     "metadata": {},
     "output_type": "execute_result"
    }
   ],
   "source": [
    "twitter_archive.source.value_counts()"
   ]
  },
  {
   "cell_type": "code",
   "execution_count": 16,
   "metadata": {
    "scrolled": false
   },
   "outputs": [
    {
     "name": "stdout",
     "output_type": "stream",
     "text": [
      "record index: 30\n",
      "@NonWhiteHat @MayhewMayhem omg hello tanner you are a scary good boy 12/10 would pet with extreme caution\n",
      "stage: None\n",
      "record index: 31\n",
      "This is Waffles. His doggles are pupside down. Unsure how to fix. 13/10 someone assist Waffles https://t.co/xZDA9Qsq1O\n",
      "stage: None\n",
      "record index: 32\n",
      "RT @Athletics: 12/10 #BATP https://t.co/WxwJmvjfxo\n",
      "stage: None\n",
      "record index: 33\n",
      "Viewer discretion advised. This is Jimbo. He will rip ur finger right h*ckin off. Other dog clearly an accessory. 12/10 pls pet with caution https://t.co/BuveP0uMF1\n",
      "stage: None\n",
      "record index: 34\n",
      "This is Maisey. She fell asleep mid-excavation. Happens to the best of us. 13/10 would pat noggin approvingly https://t.co/tp1kQ8i9JF\n",
      "stage: None\n",
      "record index: 35\n",
      "I have a new hero and his name is Howard. 14/10 https://t.co/gzLHboL7Sk\n",
      "stage: None\n",
      "record index: 36\n",
      "RT @dog_rates: This is Lilly. She just parallel barked. Kindly requests a reward now. 13/10 would pet so well https://t.co/SATN4If5H5\n",
      "stage: None\n",
      "record index: 37\n",
      "Here we have a corgi undercover as a malamute. Pawbably doing important investigative work. Zero control over tongue happenings. 13/10 https://t.co/44ItaMubBf\n",
      "stage: None\n",
      "record index: 38\n",
      "This is Earl. He found a hat. Nervous about what you think of it. 12/10 it's delightful, Earl https://t.co/MYJvdlNRVa\n",
      "stage: None\n",
      "record index: 39\n",
      "This is Lola. It's her first time outside. Must test the earth and taste the atmosphere. 13/10 you're doing great Lola https://t.co/74TKAUsLkO\n",
      "stage: None\n",
      "record index: 40\n",
      "This is Kevin. He's just so happy. 13/10 what is your secret Kevin https://t.co/1r4MFCbCX5\n",
      "stage: None\n",
      "record index: 41\n",
      "I present to you, Pup in Hat. Pup in Hat is great for all occasions. Extremely versatile. Compact as h*ck. 14/10 (IG: itselizabethgales) https://t.co/vvBOcC2VdC\n",
      "stage: None\n",
      "record index: 42\n",
      "OMG HE DIDN'T MEAN TO HE WAS JUST TRYING A LITTLE BARKOUR HE'S SUPER SORRY 13/10 WOULD FORGIVE IMMEDIATE https://t.co/uF3pQ8Wubj\n",
      "stage: None\n",
      "record index: 43\n",
      "Meet Yogi. He doesn't have any important dog meetings today he just enjoys looking his best at all times. 12/10 for dangerously dapper doggo https://t.co/YSI00BzTBZ\n",
      "stage: None\n",
      "record index: 44\n",
      "This is Noah. He can't believe someone made this mess. Got the vacuum out for you though. Offered to help clean pup. 12/10 super good boy https://t.co/V85xujjDDY\n",
      "stage: None\n",
      "record index: 45\n",
      "This is Bella. She hopes her smile made you smile. If not, she is also offering you her favorite monkey. 13.5/10 https://t.co/qjrljjt948\n",
      "stage: None\n",
      "record index: 46\n",
      "Meet Grizzwald. He may be the floofiest floofer I ever did see. Lost eyes saving a schoolbus from a volcano erpuption. 13/10 heroic as h*ck https://t.co/rf661IFEYP\n",
      "stage: None\n",
      "record index: 47\n",
      "Please only send dogs. We don't rate mechanics, no matter how h*ckin good. Thank you... 13/10 would sneak a pat https://t.co/Se5fZ9wp5E\n",
      "stage: None\n",
      "record index: 48\n",
      "This is Rusty. He wasn't ready for the first pic. Clearly puppared for the second. 13/10 confirmed great boy https://t.co/tyER0KpdXj\n",
      "stage: None\n",
      "record index: 49\n",
      "This is Gus. He's quite the cheeky pupper. Already perfected the disinterested wink. 12/10 would let steal my girl https://t.co/D43I96SlVu\n",
      "stage: None\n"
     ]
    }
   ],
   "source": [
    "for i in range(30,50):\n",
    "    print('record index: '+ str(i) + '\\n'+ twitter_archive.text[i] + '\\nstage: ' + twitter_archive.puppo[i])"
   ]
  },
  {
   "cell_type": "code",
   "execution_count": 17,
   "metadata": {
    "scrolled": true
   },
   "outputs": [
    {
     "data": {
      "text/plain": [
       "7.757333e+17    1\n",
       "7.507196e+17    1\n",
       "6.742918e+17    1\n",
       "6.833919e+17    1\n",
       "8.269587e+17    1\n",
       "               ..\n",
       "7.848260e+17    1\n",
       "7.806013e+17    1\n",
       "8.305833e+17    1\n",
       "7.047611e+17    1\n",
       "7.331095e+17    1\n",
       "Name: retweeted_status_id, Length: 181, dtype: int64"
      ]
     },
     "execution_count": 17,
     "metadata": {},
     "output_type": "execute_result"
    }
   ],
   "source": [
    "twitter_archive.retweeted_status_id.value_counts()"
   ]
  },
  {
   "cell_type": "code",
   "execution_count": 18,
   "metadata": {},
   "outputs": [
    {
     "data": {
      "text/plain": [
       "count    2356.000000\n",
       "mean       13.126486\n",
       "std        45.876648\n",
       "min         0.000000\n",
       "25%        10.000000\n",
       "50%        11.000000\n",
       "75%        12.000000\n",
       "max      1776.000000\n",
       "Name: rating_numerator, dtype: float64"
      ]
     },
     "execution_count": 18,
     "metadata": {},
     "output_type": "execute_result"
    }
   ],
   "source": [
    "twitter_archive.rating_numerator.describe()"
   ]
  },
  {
   "cell_type": "code",
   "execution_count": 19,
   "metadata": {},
   "outputs": [
    {
     "data": {
      "text/plain": [
       "10     2333\n",
       "11        3\n",
       "50        3\n",
       "80        2\n",
       "20        2\n",
       "2         1\n",
       "16        1\n",
       "40        1\n",
       "70        1\n",
       "15        1\n",
       "90        1\n",
       "110       1\n",
       "120       1\n",
       "130       1\n",
       "150       1\n",
       "170       1\n",
       "7         1\n",
       "0         1\n",
       "Name: rating_denominator, dtype: int64"
      ]
     },
     "execution_count": 19,
     "metadata": {},
     "output_type": "execute_result"
    }
   ],
   "source": [
    "twitter_archive.rating_denominator.value_counts()"
   ]
  },
  {
   "cell_type": "code",
   "execution_count": 20,
   "metadata": {},
   "outputs": [
    {
     "data": {
      "text/plain": [
       "None     2259\n",
       "doggo      97\n",
       "Name: doggo, dtype: int64"
      ]
     },
     "execution_count": 20,
     "metadata": {},
     "output_type": "execute_result"
    }
   ],
   "source": [
    "twitter_archive['doggo'].value_counts()"
   ]
  },
  {
   "cell_type": "code",
   "execution_count": 21,
   "metadata": {},
   "outputs": [
    {
     "data": {
      "text/plain": [
       "None       2346\n",
       "floofer      10\n",
       "Name: floofer, dtype: int64"
      ]
     },
     "execution_count": 21,
     "metadata": {},
     "output_type": "execute_result"
    }
   ],
   "source": [
    "twitter_archive['floofer'].value_counts()"
   ]
  },
  {
   "cell_type": "code",
   "execution_count": 22,
   "metadata": {},
   "outputs": [
    {
     "data": {
      "text/plain": [
       "None      2099\n",
       "pupper     257\n",
       "Name: pupper, dtype: int64"
      ]
     },
     "execution_count": 22,
     "metadata": {},
     "output_type": "execute_result"
    }
   ],
   "source": [
    "twitter_archive['pupper'].value_counts()"
   ]
  },
  {
   "cell_type": "code",
   "execution_count": 23,
   "metadata": {},
   "outputs": [
    {
     "data": {
      "text/plain": [
       "None     2326\n",
       "puppo      30\n",
       "Name: puppo, dtype: int64"
      ]
     },
     "execution_count": 23,
     "metadata": {},
     "output_type": "execute_result"
    }
   ],
   "source": [
    "twitter_archive['puppo'].value_counts()"
   ]
  },
  {
   "cell_type": "code",
   "execution_count": 24,
   "metadata": {},
   "outputs": [
    {
     "data": {
      "text/plain": [
       "None          745\n",
       "a              55\n",
       "Charlie        12\n",
       "Cooper         11\n",
       "Lucy           11\n",
       "             ... \n",
       "Geoff           1\n",
       "Tobi            1\n",
       "Chesterson      1\n",
       "Aqua            1\n",
       "Daniel          1\n",
       "Name: name, Length: 957, dtype: int64"
      ]
     },
     "execution_count": 24,
     "metadata": {},
     "output_type": "execute_result"
    }
   ],
   "source": [
    "twitter_archive['name'].value_counts()"
   ]
  },
  {
   "cell_type": "code",
   "execution_count": 25,
   "metadata": {},
   "outputs": [
    {
     "name": "stderr",
     "output_type": "stream",
     "text": [
      "D:\\anaconda3\\lib\\site-packages\\ipykernel_launcher.py:1: FutureWarning: Passing a negative integer is deprecated in version 1.0 and will not be supported in future version. Instead, use None to not limit the column width.\n",
      "  \"\"\"Entry point for launching an IPython kernel.\n"
     ]
    },
    {
     "data": {
      "text/plain": [
       "56      Here is a pupper approaching maximum borkdrive. Zooming at never before seen speeds. 14/10 paw-inspiring af \\n(IG: puffie_the_chow) https://t.co/ghXBIIeQZF\n",
       "649     Here is a perfect example of someone who has their priorities in order. 13/10 for both owner and Forrest https://t.co/LRyMrU7Wfq                           \n",
       "801     Guys this is getting so out of hand. We only rate dogs. This is a Galapagos Speed Panda. Pls only send dogs... 10/10 https://t.co/8lpAGaZRFn               \n",
       "1002    This is a mighty rare blue-tailed hammer sherk. Human almost lost a limb trying to take these. Be careful guys. 8/10 https://t.co/TGenMeXreW               \n",
       "1004    Viewer discretion is advised. This is a terrible attack in progress. Not even in water (tragic af). 4/10 bad sherk https://t.co/L3U0j14N5R                 \n",
       "1017    This is a carrot. We only rate dogs. Please only send in dogs. You all really should know this by now ...11/10 https://t.co/9e48aPrBm2                     \n",
       "1049    This is a very rare Great Alaskan Bush Pupper. Hard to stumble upon without spooking. 12/10 would pet passionately https://t.co/xOBKCdpzaa                 \n",
       "1193    People please. This is a Deadly Mediterranean Plop T-Rex. We only rate dogs. Only send in dogs. Thanks you... 11/10 https://t.co/2ATDsgHD4n                \n",
       "1207    This is a taco. We only rate dogs. Please only send in dogs. Dogs are what we rate. Not tacos. Thank you... 10/10 https://t.co/cxl6xGY8B9                  \n",
       "1340    Here is a heartbreaking scene of an incredible pupper being laid to rest. 10/10 RIP pupper https://t.co/81mvJ0rGRu                                         \n",
       "1351    Here is a whole flock of puppers.  60/50 I'll take the lot https://t.co/9dpcw6MdWa                                                                         \n",
       "1361    This is a Butternut Cumberfloof. It's not windy they just look like that. 11/10 back at it again with the red socks https://t.co/hMjzhdUHaW                \n",
       "1368    This is a Wild Tuscan Poofwiggle. Careful not to startle. Rare tongue slip. One eye magical. 12/10 would def pet https://t.co/4EnShAQjv6                   \n",
       "1382    \"Pupper is a present to world. Here is a bow for pupper.\" 12/10 precious as hell https://t.co/ItSsE92gCW                                                   \n",
       "1499    This is a rare Arctic Wubberfloof. Unamused by the happenings. No longer has the appetites. 12/10 would totally hug https://t.co/krvbacIX0N                \n",
       "1737    Guys this really needs to stop. We've been over this way too many times. This is a giraffe. We only rate dogs.. 7/10 https://t.co/yavgkHYPOC               \n",
       "1785    This is a dog swinging. I really enjoyed it so I hope you all do as well. 11/10 https://t.co/Ozo9KHTRND                                                    \n",
       "1853    This is a Sizzlin Menorah spaniel from Brooklyn named Wylie. Lovable eyes. Chiller as hell. 10/10 and I'm out.. poof https://t.co/7E0AiJXPmI               \n",
       "1854    Seriously guys?! Only send in dogs. I only rate dogs. This is a baby black bear... 11/10 https://t.co/H7kpabTfLj                                           \n",
       "1877    C'mon guys. We've been over this. We only rate dogs. This is a cow. Please only submit dogs. Thank you...... 9/10 https://t.co/WjcELNEqN2                  \n",
       "1878    This is a fluffy albino Bacardi Columbia mix. Excellent at the tweets. 11/10 would hug gently https://t.co/diboDRUuEI                                      \n",
       "1923    This is a Sagitariot Baklava mix. Loves her new hat. 11/10 radiant pup https://t.co/Bko5kFJYUU                                                             \n",
       "1941    This is a heavily opinionated dog. Loves walls. Nobody knows how the hair works. Always ready for a kiss. 4/10 https://t.co/dFiaKZ9cDl                     \n",
       "1955    This is a Lofted Aphrodisiac Terrier named Kip. Big fan of bed n breakfasts. Fits perfectly. 10/10 would pet firmly https://t.co/gKlLpNzIl3                \n",
       "1994    This is a baby Rand Paul. Curls for days. 11/10 would cuddle the hell out of https://t.co/xHXNaPAYRe                                                       \n",
       "2034    This is a Tuscaloosa Alcatraz named Jacob (Yacōb). Loves to sit in swing. Stellar tongue. 11/10 look at his feet https://t.co/2IslQ8ZSc7                   \n",
       "2066    This is a Helvetica Listerine named Rufus. This time Rufus will be ready for the UPS guy. He'll never expect it 9/10 https://t.co/34OhVhMkVr               \n",
       "2116    This is a Deciduous Trimester mix named Spork. Only 1 ear works. No seat belt. Incredibly reckless. 9/10 still cute https://t.co/CtuJoLHiDo                \n",
       "2125    This is a Rich Mahogany Seltzer named Cherokee. Just got destroyed by a snowball. Isn't very happy about it. 9/10 https://t.co/98ZBi6o4dj                  \n",
       "2128    This is a Speckled Cauliflower Yosemite named Hemry. He's terrified of intruder dog. Not one bit comfortable. 9/10 https://t.co/yV3Qgjh8iN                 \n",
       "2146    This is a spotted Lipitor Rumpelstiltskin named Alphred. He can't wait for the Turkey. 10/10 would pet really well https://t.co/6GUGO7azNX                 \n",
       "2153    This is a brave dog. Excellent free climber. Trying to get closer to God. Not very loyal though. Doesn't bark. 5/10 https://t.co/ODnILTr4QM                \n",
       "2161    This is a Coriander Baton Rouge named Alfredo. Loves to cuddle with smaller well-dressed dog. 10/10 would hug lots https://t.co/eCRdwouKCl                 \n",
       "2191    This is a Slovakian Helter Skelter Feta named Leroi. Likes to skip on roofs. Good traction. Much balance. 10/10 wow! https://t.co/Dmy2mY2Qj5               \n",
       "2198    This is a wild Toblerone from Papua New Guinea. Mouth always open. Addicted to hay. Acts blind. 7/10 handsome dog https://t.co/IGmVbz07tZ                  \n",
       "2211    Here is a horned dog. Much grace. Can jump over moons (dam!). Paws not soft. Bad at barking. 7/10 can still pet tho https://t.co/2Su7gmsnZm                \n",
       "2218    This is a Birmingham Quagmire named Chuk. Loves to relax and watch the game while sippin on that iced mocha. 10/10 https://t.co/HvNg9JWxFt                 \n",
       "2222    Here is a mother dog caring for her pups. Snazzy red mohawk. Doesn't wag tail. Pups look confused. Overall 4/10 https://t.co/YOHe6lf09m                    \n",
       "2235    This is a Trans Siberian Kellogg named Alfonso. Huge ass eyeballs. Actually Dobby from Harry Potter. 7/10 https://t.co/XpseHBlAAb                          \n",
       "2249    This is a Shotokon Macadamia mix named Cheryl. Sophisticated af. Looks like a disappointed librarian. Shh (lol) 9/10 https://t.co/J4GnJ5Swba               \n",
       "2255    This is a rare Hungarian Pinot named Jessiga. She is either mid-stroke or got stuck in the washing machine. 8/10 https://t.co/ZU0i0KJyqD                   \n",
       "2264    This is a southwest Coriander named Klint. Hat looks expensive. Still on house arrest :(\\n9/10 https://t.co/IQTOMqDUIe                                     \n",
       "2273    This is a northern Wahoo named Kohl. He runs this town. Chases tumbleweeds. Draws gun wicked fast. 11/10 legendary https://t.co/J4vn2rOYFk                 \n",
       "2287    This is a Dasani Kingfisher from Maine. His name is Daryl. Daryl doesn't like being swallowed by a panda. 8/10 https://t.co/jpaeu6LNmW                     \n",
       "2304    This is a curly Ticonderoga named Pepe. No feet. Loves to jet ski. 11/10 would hug until forever https://t.co/cyDfaK8NBc                                   \n",
       "2311    This is a purebred Bacardi named Octaviath. Can shoot spaghetti out of mouth. 10/10 https://t.co/uEvsGLOFHa                                                \n",
       "2314    This is a golden Buckminsterfullerene named Johm. Drives trucks. Lumberjack (?). Enjoys wall. 8/10 would hug softly https://t.co/uQbZJM2DQB                \n",
       "2327    This is a southern Vesuvius bumblegruff. Can drive a truck (wow). Made friends with 5 other nifty dogs (neat). 7/10 https://t.co/LopTBkKa8h                \n",
       "2334    This is a funny dog. Weird toes. Won't come down. Loves branch. Refuses to eat his food. Hard to cuddle with. 3/10 https://t.co/IIXis0zta0                 \n",
       "2347    My oh my. This is a rare blond Canadian terrier on wheels. Only $8.98. Rather docile. 9/10 very rare https://t.co/yWBqbrzy8O                               \n",
       "2348    Here is a Siberian heavily armored polar bear mix. Strong owner. 10/10 I would do unspeakable things to pet this dog https://t.co/rdivxLiqEt               \n",
       "2350    This is a truly beautiful English Wilson Staff retriever. Has a nice phone. Privileged. 10/10 would trade lives with https://t.co/fvIbQfHjIe               \n",
       "2352    This is a purebred Piers Morgan. Loves to Netflix and chill. Always looks like he forgot to unplug the iron. 6/10 https://t.co/DWnyCjf2mx                  \n",
       "2353    Here is a very happy pup. Big fan of well-maintained decks. Just look at that tongue. 9/10 would cuddle af https://t.co/y671yMhoiR                         \n",
       "2354    This is a western brown Mitsubishi terrier. Upset about leaf. Actually 2 dogs here. 7/10 would walk the shit out of https://t.co/r7mOb2m0UI                \n",
       "Name: text, dtype: object"
      ]
     },
     "execution_count": 25,
     "metadata": {},
     "output_type": "execute_result"
    }
   ],
   "source": [
    "pd.set_option('display.max_colwidth', -1)\n",
    "twitter_archive[twitter_archive.name == 'a'].text"
   ]
  },
  {
   "cell_type": "markdown",
   "metadata": {},
   "source": [
    "####  3.1.2 Data Assessing: `img_pred` table\n",
    "This table is pretty clean without any issues for now."
   ]
  },
  {
   "cell_type": "code",
   "execution_count": 26,
   "metadata": {},
   "outputs": [
    {
     "data": {
      "text/html": [
       "<div>\n",
       "<style scoped>\n",
       "    .dataframe tbody tr th:only-of-type {\n",
       "        vertical-align: middle;\n",
       "    }\n",
       "\n",
       "    .dataframe tbody tr th {\n",
       "        vertical-align: top;\n",
       "    }\n",
       "\n",
       "    .dataframe thead th {\n",
       "        text-align: right;\n",
       "    }\n",
       "</style>\n",
       "<table border=\"1\" class=\"dataframe\">\n",
       "  <thead>\n",
       "    <tr style=\"text-align: right;\">\n",
       "      <th></th>\n",
       "      <th>tweet_id</th>\n",
       "      <th>jpg_url</th>\n",
       "      <th>img_num</th>\n",
       "      <th>p1</th>\n",
       "      <th>p1_conf</th>\n",
       "      <th>p1_dog</th>\n",
       "      <th>p2</th>\n",
       "      <th>p2_conf</th>\n",
       "      <th>p2_dog</th>\n",
       "      <th>p3</th>\n",
       "      <th>p3_conf</th>\n",
       "      <th>p3_dog</th>\n",
       "    </tr>\n",
       "  </thead>\n",
       "  <tbody>\n",
       "    <tr>\n",
       "      <th>0</th>\n",
       "      <td>666020888022790149</td>\n",
       "      <td>https://pbs.twimg.com/media/CT4udn0WwAA0aMy.jpg</td>\n",
       "      <td>1</td>\n",
       "      <td>Welsh_springer_spaniel</td>\n",
       "      <td>0.465074</td>\n",
       "      <td>True</td>\n",
       "      <td>collie</td>\n",
       "      <td>0.156665</td>\n",
       "      <td>True</td>\n",
       "      <td>Shetland_sheepdog</td>\n",
       "      <td>0.061428</td>\n",
       "      <td>True</td>\n",
       "    </tr>\n",
       "    <tr>\n",
       "      <th>1</th>\n",
       "      <td>666029285002620928</td>\n",
       "      <td>https://pbs.twimg.com/media/CT42GRgUYAA5iDo.jpg</td>\n",
       "      <td>1</td>\n",
       "      <td>redbone</td>\n",
       "      <td>0.506826</td>\n",
       "      <td>True</td>\n",
       "      <td>miniature_pinscher</td>\n",
       "      <td>0.074192</td>\n",
       "      <td>True</td>\n",
       "      <td>Rhodesian_ridgeback</td>\n",
       "      <td>0.072010</td>\n",
       "      <td>True</td>\n",
       "    </tr>\n",
       "    <tr>\n",
       "      <th>2</th>\n",
       "      <td>666033412701032449</td>\n",
       "      <td>https://pbs.twimg.com/media/CT4521TWwAEvMyu.jpg</td>\n",
       "      <td>1</td>\n",
       "      <td>German_shepherd</td>\n",
       "      <td>0.596461</td>\n",
       "      <td>True</td>\n",
       "      <td>malinois</td>\n",
       "      <td>0.138584</td>\n",
       "      <td>True</td>\n",
       "      <td>bloodhound</td>\n",
       "      <td>0.116197</td>\n",
       "      <td>True</td>\n",
       "    </tr>\n",
       "    <tr>\n",
       "      <th>3</th>\n",
       "      <td>666044226329800704</td>\n",
       "      <td>https://pbs.twimg.com/media/CT5Dr8HUEAA-lEu.jpg</td>\n",
       "      <td>1</td>\n",
       "      <td>Rhodesian_ridgeback</td>\n",
       "      <td>0.408143</td>\n",
       "      <td>True</td>\n",
       "      <td>redbone</td>\n",
       "      <td>0.360687</td>\n",
       "      <td>True</td>\n",
       "      <td>miniature_pinscher</td>\n",
       "      <td>0.222752</td>\n",
       "      <td>True</td>\n",
       "    </tr>\n",
       "    <tr>\n",
       "      <th>4</th>\n",
       "      <td>666049248165822465</td>\n",
       "      <td>https://pbs.twimg.com/media/CT5IQmsXIAAKY4A.jpg</td>\n",
       "      <td>1</td>\n",
       "      <td>miniature_pinscher</td>\n",
       "      <td>0.560311</td>\n",
       "      <td>True</td>\n",
       "      <td>Rottweiler</td>\n",
       "      <td>0.243682</td>\n",
       "      <td>True</td>\n",
       "      <td>Doberman</td>\n",
       "      <td>0.154629</td>\n",
       "      <td>True</td>\n",
       "    </tr>\n",
       "    <tr>\n",
       "      <th>...</th>\n",
       "      <td>...</td>\n",
       "      <td>...</td>\n",
       "      <td>...</td>\n",
       "      <td>...</td>\n",
       "      <td>...</td>\n",
       "      <td>...</td>\n",
       "      <td>...</td>\n",
       "      <td>...</td>\n",
       "      <td>...</td>\n",
       "      <td>...</td>\n",
       "      <td>...</td>\n",
       "      <td>...</td>\n",
       "    </tr>\n",
       "    <tr>\n",
       "      <th>2070</th>\n",
       "      <td>891327558926688256</td>\n",
       "      <td>https://pbs.twimg.com/media/DF6hr6BUMAAzZgT.jpg</td>\n",
       "      <td>2</td>\n",
       "      <td>basset</td>\n",
       "      <td>0.555712</td>\n",
       "      <td>True</td>\n",
       "      <td>English_springer</td>\n",
       "      <td>0.225770</td>\n",
       "      <td>True</td>\n",
       "      <td>German_short-haired_pointer</td>\n",
       "      <td>0.175219</td>\n",
       "      <td>True</td>\n",
       "    </tr>\n",
       "    <tr>\n",
       "      <th>2071</th>\n",
       "      <td>891689557279858688</td>\n",
       "      <td>https://pbs.twimg.com/media/DF_q7IAWsAEuuN8.jpg</td>\n",
       "      <td>1</td>\n",
       "      <td>paper_towel</td>\n",
       "      <td>0.170278</td>\n",
       "      <td>False</td>\n",
       "      <td>Labrador_retriever</td>\n",
       "      <td>0.168086</td>\n",
       "      <td>True</td>\n",
       "      <td>spatula</td>\n",
       "      <td>0.040836</td>\n",
       "      <td>False</td>\n",
       "    </tr>\n",
       "    <tr>\n",
       "      <th>2072</th>\n",
       "      <td>891815181378084864</td>\n",
       "      <td>https://pbs.twimg.com/media/DGBdLU1WsAANxJ9.jpg</td>\n",
       "      <td>1</td>\n",
       "      <td>Chihuahua</td>\n",
       "      <td>0.716012</td>\n",
       "      <td>True</td>\n",
       "      <td>malamute</td>\n",
       "      <td>0.078253</td>\n",
       "      <td>True</td>\n",
       "      <td>kelpie</td>\n",
       "      <td>0.031379</td>\n",
       "      <td>True</td>\n",
       "    </tr>\n",
       "    <tr>\n",
       "      <th>2073</th>\n",
       "      <td>892177421306343426</td>\n",
       "      <td>https://pbs.twimg.com/media/DGGmoV4XsAAUL6n.jpg</td>\n",
       "      <td>1</td>\n",
       "      <td>Chihuahua</td>\n",
       "      <td>0.323581</td>\n",
       "      <td>True</td>\n",
       "      <td>Pekinese</td>\n",
       "      <td>0.090647</td>\n",
       "      <td>True</td>\n",
       "      <td>papillon</td>\n",
       "      <td>0.068957</td>\n",
       "      <td>True</td>\n",
       "    </tr>\n",
       "    <tr>\n",
       "      <th>2074</th>\n",
       "      <td>892420643555336193</td>\n",
       "      <td>https://pbs.twimg.com/media/DGKD1-bXoAAIAUK.jpg</td>\n",
       "      <td>1</td>\n",
       "      <td>orange</td>\n",
       "      <td>0.097049</td>\n",
       "      <td>False</td>\n",
       "      <td>bagel</td>\n",
       "      <td>0.085851</td>\n",
       "      <td>False</td>\n",
       "      <td>banana</td>\n",
       "      <td>0.076110</td>\n",
       "      <td>False</td>\n",
       "    </tr>\n",
       "  </tbody>\n",
       "</table>\n",
       "<p>2075 rows × 12 columns</p>\n",
       "</div>"
      ],
      "text/plain": [
       "                tweet_id                                          jpg_url  \\\n",
       "0     666020888022790149  https://pbs.twimg.com/media/CT4udn0WwAA0aMy.jpg   \n",
       "1     666029285002620928  https://pbs.twimg.com/media/CT42GRgUYAA5iDo.jpg   \n",
       "2     666033412701032449  https://pbs.twimg.com/media/CT4521TWwAEvMyu.jpg   \n",
       "3     666044226329800704  https://pbs.twimg.com/media/CT5Dr8HUEAA-lEu.jpg   \n",
       "4     666049248165822465  https://pbs.twimg.com/media/CT5IQmsXIAAKY4A.jpg   \n",
       "...                  ...                                              ...   \n",
       "2070  891327558926688256  https://pbs.twimg.com/media/DF6hr6BUMAAzZgT.jpg   \n",
       "2071  891689557279858688  https://pbs.twimg.com/media/DF_q7IAWsAEuuN8.jpg   \n",
       "2072  891815181378084864  https://pbs.twimg.com/media/DGBdLU1WsAANxJ9.jpg   \n",
       "2073  892177421306343426  https://pbs.twimg.com/media/DGGmoV4XsAAUL6n.jpg   \n",
       "2074  892420643555336193  https://pbs.twimg.com/media/DGKD1-bXoAAIAUK.jpg   \n",
       "\n",
       "      img_num                      p1   p1_conf  p1_dog                  p2  \\\n",
       "0     1        Welsh_springer_spaniel  0.465074  True    collie               \n",
       "1     1        redbone                 0.506826  True    miniature_pinscher   \n",
       "2     1        German_shepherd         0.596461  True    malinois             \n",
       "3     1        Rhodesian_ridgeback     0.408143  True    redbone              \n",
       "4     1        miniature_pinscher      0.560311  True    Rottweiler           \n",
       "...  ..                       ...           ...   ...           ...           \n",
       "2070  2        basset                  0.555712  True    English_springer     \n",
       "2071  1        paper_towel             0.170278  False   Labrador_retriever   \n",
       "2072  1        Chihuahua               0.716012  True    malamute             \n",
       "2073  1        Chihuahua               0.323581  True    Pekinese             \n",
       "2074  1        orange                  0.097049  False   bagel                \n",
       "\n",
       "       p2_conf  p2_dog                           p3   p3_conf  p3_dog  \n",
       "0     0.156665  True    Shetland_sheepdog            0.061428  True    \n",
       "1     0.074192  True    Rhodesian_ridgeback          0.072010  True    \n",
       "2     0.138584  True    bloodhound                   0.116197  True    \n",
       "3     0.360687  True    miniature_pinscher           0.222752  True    \n",
       "4     0.243682  True    Doberman                     0.154629  True    \n",
       "...        ...   ...         ...                          ...   ...    \n",
       "2070  0.225770  True    German_short-haired_pointer  0.175219  True    \n",
       "2071  0.168086  True    spatula                      0.040836  False   \n",
       "2072  0.078253  True    kelpie                       0.031379  True    \n",
       "2073  0.090647  True    papillon                     0.068957  True    \n",
       "2074  0.085851  False   banana                       0.076110  False   \n",
       "\n",
       "[2075 rows x 12 columns]"
      ]
     },
     "execution_count": 26,
     "metadata": {},
     "output_type": "execute_result"
    }
   ],
   "source": [
    "img_pred"
   ]
  },
  {
   "cell_type": "code",
   "execution_count": 27,
   "metadata": {},
   "outputs": [
    {
     "name": "stdout",
     "output_type": "stream",
     "text": [
      "<class 'pandas.core.frame.DataFrame'>\n",
      "RangeIndex: 2075 entries, 0 to 2074\n",
      "Data columns (total 12 columns):\n",
      " #   Column    Non-Null Count  Dtype  \n",
      "---  ------    --------------  -----  \n",
      " 0   tweet_id  2075 non-null   int64  \n",
      " 1   jpg_url   2075 non-null   object \n",
      " 2   img_num   2075 non-null   int64  \n",
      " 3   p1        2075 non-null   object \n",
      " 4   p1_conf   2075 non-null   float64\n",
      " 5   p1_dog    2075 non-null   bool   \n",
      " 6   p2        2075 non-null   object \n",
      " 7   p2_conf   2075 non-null   float64\n",
      " 8   p2_dog    2075 non-null   bool   \n",
      " 9   p3        2075 non-null   object \n",
      " 10  p3_conf   2075 non-null   float64\n",
      " 11  p3_dog    2075 non-null   bool   \n",
      "dtypes: bool(3), float64(3), int64(2), object(4)\n",
      "memory usage: 152.1+ KB\n"
     ]
    }
   ],
   "source": [
    "img_pred.info()"
   ]
  },
  {
   "cell_type": "code",
   "execution_count": 28,
   "metadata": {},
   "outputs": [
    {
     "data": {
      "text/html": [
       "<div>\n",
       "<style scoped>\n",
       "    .dataframe tbody tr th:only-of-type {\n",
       "        vertical-align: middle;\n",
       "    }\n",
       "\n",
       "    .dataframe tbody tr th {\n",
       "        vertical-align: top;\n",
       "    }\n",
       "\n",
       "    .dataframe thead th {\n",
       "        text-align: right;\n",
       "    }\n",
       "</style>\n",
       "<table border=\"1\" class=\"dataframe\">\n",
       "  <thead>\n",
       "    <tr style=\"text-align: right;\">\n",
       "      <th></th>\n",
       "      <th>tweet_id</th>\n",
       "      <th>img_num</th>\n",
       "      <th>p1_conf</th>\n",
       "      <th>p2_conf</th>\n",
       "      <th>p3_conf</th>\n",
       "    </tr>\n",
       "  </thead>\n",
       "  <tbody>\n",
       "    <tr>\n",
       "      <th>count</th>\n",
       "      <td>2.075000e+03</td>\n",
       "      <td>2075.000000</td>\n",
       "      <td>2075.000000</td>\n",
       "      <td>2.075000e+03</td>\n",
       "      <td>2.075000e+03</td>\n",
       "    </tr>\n",
       "    <tr>\n",
       "      <th>mean</th>\n",
       "      <td>7.384514e+17</td>\n",
       "      <td>1.203855</td>\n",
       "      <td>0.594548</td>\n",
       "      <td>1.345886e-01</td>\n",
       "      <td>6.032417e-02</td>\n",
       "    </tr>\n",
       "    <tr>\n",
       "      <th>std</th>\n",
       "      <td>6.785203e+16</td>\n",
       "      <td>0.561875</td>\n",
       "      <td>0.271174</td>\n",
       "      <td>1.006657e-01</td>\n",
       "      <td>5.090593e-02</td>\n",
       "    </tr>\n",
       "    <tr>\n",
       "      <th>min</th>\n",
       "      <td>6.660209e+17</td>\n",
       "      <td>1.000000</td>\n",
       "      <td>0.044333</td>\n",
       "      <td>1.011300e-08</td>\n",
       "      <td>1.740170e-10</td>\n",
       "    </tr>\n",
       "    <tr>\n",
       "      <th>25%</th>\n",
       "      <td>6.764835e+17</td>\n",
       "      <td>1.000000</td>\n",
       "      <td>0.364412</td>\n",
       "      <td>5.388625e-02</td>\n",
       "      <td>1.622240e-02</td>\n",
       "    </tr>\n",
       "    <tr>\n",
       "      <th>50%</th>\n",
       "      <td>7.119988e+17</td>\n",
       "      <td>1.000000</td>\n",
       "      <td>0.588230</td>\n",
       "      <td>1.181810e-01</td>\n",
       "      <td>4.944380e-02</td>\n",
       "    </tr>\n",
       "    <tr>\n",
       "      <th>75%</th>\n",
       "      <td>7.932034e+17</td>\n",
       "      <td>1.000000</td>\n",
       "      <td>0.843855</td>\n",
       "      <td>1.955655e-01</td>\n",
       "      <td>9.180755e-02</td>\n",
       "    </tr>\n",
       "    <tr>\n",
       "      <th>max</th>\n",
       "      <td>8.924206e+17</td>\n",
       "      <td>4.000000</td>\n",
       "      <td>1.000000</td>\n",
       "      <td>4.880140e-01</td>\n",
       "      <td>2.734190e-01</td>\n",
       "    </tr>\n",
       "  </tbody>\n",
       "</table>\n",
       "</div>"
      ],
      "text/plain": [
       "           tweet_id      img_num      p1_conf       p2_conf       p3_conf\n",
       "count  2.075000e+03  2075.000000  2075.000000  2.075000e+03  2.075000e+03\n",
       "mean   7.384514e+17  1.203855     0.594548     1.345886e-01  6.032417e-02\n",
       "std    6.785203e+16  0.561875     0.271174     1.006657e-01  5.090593e-02\n",
       "min    6.660209e+17  1.000000     0.044333     1.011300e-08  1.740170e-10\n",
       "25%    6.764835e+17  1.000000     0.364412     5.388625e-02  1.622240e-02\n",
       "50%    7.119988e+17  1.000000     0.588230     1.181810e-01  4.944380e-02\n",
       "75%    7.932034e+17  1.000000     0.843855     1.955655e-01  9.180755e-02\n",
       "max    8.924206e+17  4.000000     1.000000     4.880140e-01  2.734190e-01"
      ]
     },
     "execution_count": 28,
     "metadata": {},
     "output_type": "execute_result"
    }
   ],
   "source": [
    "img_pred.describe()"
   ]
  },
  {
   "cell_type": "markdown",
   "metadata": {},
   "source": [
    "####  3.1.3 Data Assessing: `df_api` table\n",
    "**Quality issues**\n",
    "* '[]' and starting point of the range for `display_text_range`\n",
    "* Erroneous datatypes `display_text_range`, `retweet_count` and `favorite_count`\n"
   ]
  },
  {
   "cell_type": "code",
   "execution_count": 29,
   "metadata": {},
   "outputs": [
    {
     "data": {
      "text/html": [
       "<div>\n",
       "<style scoped>\n",
       "    .dataframe tbody tr th:only-of-type {\n",
       "        vertical-align: middle;\n",
       "    }\n",
       "\n",
       "    .dataframe tbody tr th {\n",
       "        vertical-align: top;\n",
       "    }\n",
       "\n",
       "    .dataframe thead th {\n",
       "        text-align: right;\n",
       "    }\n",
       "</style>\n",
       "<table border=\"1\" class=\"dataframe\">\n",
       "  <thead>\n",
       "    <tr style=\"text-align: right;\">\n",
       "      <th></th>\n",
       "      <th>id</th>\n",
       "      <th>display_text_range</th>\n",
       "      <th>retweet_count</th>\n",
       "      <th>favorite_count</th>\n",
       "    </tr>\n",
       "  </thead>\n",
       "  <tbody>\n",
       "    <tr>\n",
       "      <th>0</th>\n",
       "      <td>666020888022790149</td>\n",
       "      <td>[0, 131]</td>\n",
       "      <td>466</td>\n",
       "      <td>2434</td>\n",
       "    </tr>\n",
       "    <tr>\n",
       "      <th>1</th>\n",
       "      <td>666029285002620928</td>\n",
       "      <td>[0, 139]</td>\n",
       "      <td>42</td>\n",
       "      <td>121</td>\n",
       "    </tr>\n",
       "    <tr>\n",
       "      <th>2</th>\n",
       "      <td>666033412701032449</td>\n",
       "      <td>[0, 130]</td>\n",
       "      <td>41</td>\n",
       "      <td>113</td>\n",
       "    </tr>\n",
       "    <tr>\n",
       "      <th>3</th>\n",
       "      <td>666044226329800704</td>\n",
       "      <td>[0, 137]</td>\n",
       "      <td>133</td>\n",
       "      <td>274</td>\n",
       "    </tr>\n",
       "    <tr>\n",
       "      <th>4</th>\n",
       "      <td>666049248165822465</td>\n",
       "      <td>[0, 120]</td>\n",
       "      <td>41</td>\n",
       "      <td>99</td>\n",
       "    </tr>\n",
       "    <tr>\n",
       "      <th>...</th>\n",
       "      <td>...</td>\n",
       "      <td>...</td>\n",
       "      <td>...</td>\n",
       "      <td>...</td>\n",
       "    </tr>\n",
       "    <tr>\n",
       "      <th>2054</th>\n",
       "      <td>891327558926688256</td>\n",
       "      <td>[0, 138]</td>\n",
       "      <td>8555</td>\n",
       "      <td>38021</td>\n",
       "    </tr>\n",
       "    <tr>\n",
       "      <th>2055</th>\n",
       "      <td>891689557279858688</td>\n",
       "      <td>[0, 79]</td>\n",
       "      <td>7926</td>\n",
       "      <td>39825</td>\n",
       "    </tr>\n",
       "    <tr>\n",
       "      <th>2056</th>\n",
       "      <td>891815181378084864</td>\n",
       "      <td>[0, 121]</td>\n",
       "      <td>3808</td>\n",
       "      <td>23699</td>\n",
       "    </tr>\n",
       "    <tr>\n",
       "      <th>2057</th>\n",
       "      <td>892177421306343426</td>\n",
       "      <td>[0, 138]</td>\n",
       "      <td>5752</td>\n",
       "      <td>31449</td>\n",
       "    </tr>\n",
       "    <tr>\n",
       "      <th>2058</th>\n",
       "      <td>892420643555336193</td>\n",
       "      <td>[0, 85]</td>\n",
       "      <td>7759</td>\n",
       "      <td>36489</td>\n",
       "    </tr>\n",
       "  </tbody>\n",
       "</table>\n",
       "<p>2059 rows × 4 columns</p>\n",
       "</div>"
      ],
      "text/plain": [
       "                      id display_text_range retweet_count favorite_count\n",
       "0     666020888022790149  [0, 131]           466           2434         \n",
       "1     666029285002620928  [0, 139]           42            121          \n",
       "2     666033412701032449  [0, 130]           41            113          \n",
       "3     666044226329800704  [0, 137]           133           274          \n",
       "4     666049248165822465  [0, 120]           41            99           \n",
       "...                  ...       ...           ..            ..           \n",
       "2054  891327558926688256  [0, 138]           8555          38021        \n",
       "2055  891689557279858688  [0, 79]            7926          39825        \n",
       "2056  891815181378084864  [0, 121]           3808          23699        \n",
       "2057  892177421306343426  [0, 138]           5752          31449        \n",
       "2058  892420643555336193  [0, 85]            7759          36489        \n",
       "\n",
       "[2059 rows x 4 columns]"
      ]
     },
     "execution_count": 29,
     "metadata": {},
     "output_type": "execute_result"
    }
   ],
   "source": [
    "df_api"
   ]
  },
  {
   "cell_type": "code",
   "execution_count": 30,
   "metadata": {},
   "outputs": [
    {
     "name": "stdout",
     "output_type": "stream",
     "text": [
      "<class 'pandas.core.frame.DataFrame'>\n",
      "RangeIndex: 2059 entries, 0 to 2058\n",
      "Data columns (total 4 columns):\n",
      " #   Column              Non-Null Count  Dtype \n",
      "---  ------              --------------  ----- \n",
      " 0   id                  2059 non-null   object\n",
      " 1   display_text_range  2059 non-null   object\n",
      " 2   retweet_count       2059 non-null   object\n",
      " 3   favorite_count      2059 non-null   object\n",
      "dtypes: object(4)\n",
      "memory usage: 64.5+ KB\n"
     ]
    }
   ],
   "source": [
    "df_api.info()"
   ]
  },
  {
   "cell_type": "markdown",
   "metadata": {},
   "source": [
    "### 3.2 Data Cleaning"
   ]
  },
  {
   "cell_type": "code",
   "execution_count": 31,
   "metadata": {},
   "outputs": [],
   "source": [
    "twitter_archive_clean = twitter_archive.copy()\n",
    "img_pred_clean = img_pred.copy()\n",
    "df_api_clean = df_api.copy()"
   ]
  },
  {
   "cell_type": "markdown",
   "metadata": {},
   "source": [
    "**Issue:** table `twitter_archive_clean` redundant information in `source` column\n",
    "\n",
    "**Define:** remove the html tags using regular expression"
   ]
  },
  {
   "cell_type": "code",
   "execution_count": 32,
   "metadata": {},
   "outputs": [],
   "source": [
    "twitter_archive_clean = twitter_archive_clean.replace({'source': r'<[^>]*>'}, {'source': ''}, regex=True)"
   ]
  },
  {
   "cell_type": "code",
   "execution_count": 33,
   "metadata": {
    "scrolled": true
   },
   "outputs": [
    {
     "data": {
      "text/plain": [
       "Twitter for iPhone     2221\n",
       "Vine - Make a Scene    91  \n",
       "Twitter Web Client     33  \n",
       "TweetDeck              11  \n",
       "Name: source, dtype: int64"
      ]
     },
     "execution_count": 33,
     "metadata": {},
     "output_type": "execute_result"
    }
   ],
   "source": [
    "# test\n",
    "twitter_archive_clean.source.value_counts()"
   ]
  },
  {
   "cell_type": "markdown",
   "metadata": {},
   "source": [
    "**Issue:** * Erroneous datatypes(in_reply_to_status_id, in_reply_to_user_id, timestamp,retweet_status_id, retweet_status_user_id, retweet_status_timestamp)\n",
    "\n",
    "**Define:** Convert ids to 'int64', timestamps to datetime. Replace Nan as 0."
   ]
  },
  {
   "cell_type": "code",
   "execution_count": 34,
   "metadata": {},
   "outputs": [],
   "source": [
    "# replace nan as 0 and convert id related columns to 'int64' \n",
    "ids = ['in_reply_to_status_id', 'in_reply_to_user_id','retweeted_status_id', 'retweeted_status_user_id']\n",
    "twitter_archive_clean[ids] = twitter_archive_clean[ids].fillna(0).astype('int64')"
   ]
  },
  {
   "cell_type": "code",
   "execution_count": 35,
   "metadata": {},
   "outputs": [],
   "source": [
    "# convert string to timestamp for timestamp related columns\n",
    "twitter_archive_clean.timestamp = pd.to_datetime(twitter_archive_clean.timestamp)\n",
    "twitter_archive_clean.retweeted_status_timestamp = pd.to_datetime(twitter_archive_clean.retweeted_status_timestamp)"
   ]
  },
  {
   "cell_type": "code",
   "execution_count": 36,
   "metadata": {},
   "outputs": [
    {
     "name": "stdout",
     "output_type": "stream",
     "text": [
      "<class 'pandas.core.frame.DataFrame'>\n",
      "RangeIndex: 2356 entries, 0 to 2355\n",
      "Data columns (total 17 columns):\n",
      " #   Column                      Non-Null Count  Dtype              \n",
      "---  ------                      --------------  -----              \n",
      " 0   tweet_id                    2356 non-null   int64              \n",
      " 1   in_reply_to_status_id       2356 non-null   int64              \n",
      " 2   in_reply_to_user_id         2356 non-null   int64              \n",
      " 3   timestamp                   2356 non-null   datetime64[ns, UTC]\n",
      " 4   source                      2356 non-null   object             \n",
      " 5   text                        2356 non-null   object             \n",
      " 6   retweeted_status_id         2356 non-null   int64              \n",
      " 7   retweeted_status_user_id    2356 non-null   int64              \n",
      " 8   retweeted_status_timestamp  181 non-null    datetime64[ns, UTC]\n",
      " 9   expanded_urls               2297 non-null   object             \n",
      " 10  rating_numerator            2356 non-null   int64              \n",
      " 11  rating_denominator          2356 non-null   int64              \n",
      " 12  name                        2356 non-null   object             \n",
      " 13  doggo                       2356 non-null   object             \n",
      " 14  floofer                     2356 non-null   object             \n",
      " 15  pupper                      2356 non-null   object             \n",
      " 16  puppo                       2356 non-null   object             \n",
      "dtypes: datetime64[ns, UTC](2), int64(7), object(8)\n",
      "memory usage: 313.0+ KB\n"
     ]
    }
   ],
   "source": [
    "twitter_archive_clean.info()"
   ]
  },
  {
   "cell_type": "markdown",
   "metadata": {},
   "source": [
    "**Issue:** contains retweeted tweets and reply tweet (with retweeted_user_id, in_reply_to_status_id)\n",
    "\n",
    "**Define:** extract rows with 'retweeted_status_id' and 'in_reply_to_status_id' equal to 0."
   ]
  },
  {
   "cell_type": "code",
   "execution_count": 37,
   "metadata": {},
   "outputs": [],
   "source": [
    "twitter_archive_clean = twitter_archive_clean.query('retweeted_status_id == 0 and in_reply_to_status_id==0')"
   ]
  },
  {
   "cell_type": "code",
   "execution_count": 38,
   "metadata": {},
   "outputs": [],
   "source": [
    "twitter_archive_clean = twitter_archive_clean.reset_index(drop=True)"
   ]
  },
  {
   "cell_type": "code",
   "execution_count": 39,
   "metadata": {},
   "outputs": [
    {
     "data": {
      "text/plain": [
       "0    2097\n",
       "Name: retweeted_status_id, dtype: int64"
      ]
     },
     "execution_count": 39,
     "metadata": {},
     "output_type": "execute_result"
    }
   ],
   "source": [
    "twitter_archive_clean.retweeted_status_id.value_counts()"
   ]
  },
  {
   "cell_type": "markdown",
   "metadata": {},
   "source": [
    "**Issue:** table `twitter_archive_clean` More than 50% of NAN values in columns related `in_reply_to` and `retweeted_status`.\n",
    "\n",
    "**Define**: since these infomation is trivial for the later analysis, these columns are dropped."
   ]
  },
  {
   "cell_type": "code",
   "execution_count": 40,
   "metadata": {},
   "outputs": [],
   "source": [
    "labels =  ['in_reply_to_status_id','in_reply_to_user_id','retweeted_status_id','retweeted_status_user_id','retweeted_status_timestamp']\n",
    "twitter_archive_clean = twitter_archive_clean.drop(columns = labels, axis = 1 )"
   ]
  },
  {
   "cell_type": "code",
   "execution_count": 41,
   "metadata": {},
   "outputs": [
    {
     "name": "stdout",
     "output_type": "stream",
     "text": [
      "<class 'pandas.core.frame.DataFrame'>\n",
      "RangeIndex: 2097 entries, 0 to 2096\n",
      "Data columns (total 12 columns):\n",
      " #   Column              Non-Null Count  Dtype              \n",
      "---  ------              --------------  -----              \n",
      " 0   tweet_id            2097 non-null   int64              \n",
      " 1   timestamp           2097 non-null   datetime64[ns, UTC]\n",
      " 2   source              2097 non-null   object             \n",
      " 3   text                2097 non-null   object             \n",
      " 4   expanded_urls       2094 non-null   object             \n",
      " 5   rating_numerator    2097 non-null   int64              \n",
      " 6   rating_denominator  2097 non-null   int64              \n",
      " 7   name                2097 non-null   object             \n",
      " 8   doggo               2097 non-null   object             \n",
      " 9   floofer             2097 non-null   object             \n",
      " 10  pupper              2097 non-null   object             \n",
      " 11  puppo               2097 non-null   object             \n",
      "dtypes: datetime64[ns, UTC](1), int64(3), object(8)\n",
      "memory usage: 196.7+ KB\n"
     ]
    }
   ],
   "source": [
    "# test\n",
    "twitter_archive_clean.info()"
   ]
  },
  {
   "cell_type": "markdown",
   "metadata": {},
   "source": [
    "**Issue:** table `twitter_archive_clean`, `text` column contains multiple variables (text, rate, url)\n",
    "\n",
    "**Define:** add a new column `Full_text` to store text, extract the text using regular expression"
   ]
  },
  {
   "cell_type": "code",
   "execution_count": 42,
   "metadata": {
    "scrolled": true
   },
   "outputs": [],
   "source": [
    "twitter_archive_clean['url'] = twitter_archive_clean.text.str.extract('(http.*)')\n",
    "twitter_archive_clean['rate'] = twitter_archive_clean.text.str.extract('(\\d+.?\\d\\/\\d+)')"
   ]
  },
  {
   "cell_type": "code",
   "execution_count": 43,
   "metadata": {},
   "outputs": [],
   "source": [
    "twitter_archive_clean['Full_text'] = twitter_archive_clean.text.str.replace('(http.*)','').str.replace('(\\d+\\/\\d+)','')"
   ]
  },
  {
   "cell_type": "code",
   "execution_count": 44,
   "metadata": {},
   "outputs": [
    {
     "data": {
      "text/html": [
       "<div>\n",
       "<style scoped>\n",
       "    .dataframe tbody tr th:only-of-type {\n",
       "        vertical-align: middle;\n",
       "    }\n",
       "\n",
       "    .dataframe tbody tr th {\n",
       "        vertical-align: top;\n",
       "    }\n",
       "\n",
       "    .dataframe thead th {\n",
       "        text-align: right;\n",
       "    }\n",
       "</style>\n",
       "<table border=\"1\" class=\"dataframe\">\n",
       "  <thead>\n",
       "    <tr style=\"text-align: right;\">\n",
       "      <th></th>\n",
       "      <th>text</th>\n",
       "      <th>url</th>\n",
       "      <th>rate</th>\n",
       "      <th>Full_text</th>\n",
       "    </tr>\n",
       "  </thead>\n",
       "  <tbody>\n",
       "    <tr>\n",
       "      <th>30</th>\n",
       "      <td>Viewer discretion advised. This is Jimbo. He will rip ur finger right h*ckin off. Other dog clearly an accessory. 12/10 pls pet with caution https://t.co/BuveP0uMF1</td>\n",
       "      <td>https://t.co/BuveP0uMF1</td>\n",
       "      <td>12/10</td>\n",
       "      <td>Viewer discretion advised. This is Jimbo. He will rip ur finger right h*ckin off. Other dog clearly an accessory.  pls pet with caution</td>\n",
       "    </tr>\n",
       "    <tr>\n",
       "      <th>31</th>\n",
       "      <td>This is Maisey. She fell asleep mid-excavation. Happens to the best of us. 13/10 would pat noggin approvingly https://t.co/tp1kQ8i9JF</td>\n",
       "      <td>https://t.co/tp1kQ8i9JF</td>\n",
       "      <td>13/10</td>\n",
       "      <td>This is Maisey. She fell asleep mid-excavation. Happens to the best of us.  would pat noggin approvingly</td>\n",
       "    </tr>\n",
       "    <tr>\n",
       "      <th>32</th>\n",
       "      <td>I have a new hero and his name is Howard. 14/10 https://t.co/gzLHboL7Sk</td>\n",
       "      <td>https://t.co/gzLHboL7Sk</td>\n",
       "      <td>14/10</td>\n",
       "      <td>I have a new hero and his name is Howard.</td>\n",
       "    </tr>\n",
       "    <tr>\n",
       "      <th>33</th>\n",
       "      <td>Here we have a corgi undercover as a malamute. Pawbably doing important investigative work. Zero control over tongue happenings. 13/10 https://t.co/44ItaMubBf</td>\n",
       "      <td>https://t.co/44ItaMubBf</td>\n",
       "      <td>13/10</td>\n",
       "      <td>Here we have a corgi undercover as a malamute. Pawbably doing important investigative work. Zero control over tongue happenings.</td>\n",
       "    </tr>\n",
       "    <tr>\n",
       "      <th>34</th>\n",
       "      <td>This is Earl. He found a hat. Nervous about what you think of it. 12/10 it's delightful, Earl https://t.co/MYJvdlNRVa</td>\n",
       "      <td>https://t.co/MYJvdlNRVa</td>\n",
       "      <td>12/10</td>\n",
       "      <td>This is Earl. He found a hat. Nervous about what you think of it.  it's delightful, Earl</td>\n",
       "    </tr>\n",
       "    <tr>\n",
       "      <th>35</th>\n",
       "      <td>This is Lola. It's her first time outside. Must test the earth and taste the atmosphere. 13/10 you're doing great Lola https://t.co/74TKAUsLkO</td>\n",
       "      <td>https://t.co/74TKAUsLkO</td>\n",
       "      <td>13/10</td>\n",
       "      <td>This is Lola. It's her first time outside. Must test the earth and taste the atmosphere.  you're doing great Lola</td>\n",
       "    </tr>\n",
       "    <tr>\n",
       "      <th>36</th>\n",
       "      <td>This is Kevin. He's just so happy. 13/10 what is your secret Kevin https://t.co/1r4MFCbCX5</td>\n",
       "      <td>https://t.co/1r4MFCbCX5</td>\n",
       "      <td>13/10</td>\n",
       "      <td>This is Kevin. He's just so happy.  what is your secret Kevin</td>\n",
       "    </tr>\n",
       "    <tr>\n",
       "      <th>37</th>\n",
       "      <td>I present to you, Pup in Hat. Pup in Hat is great for all occasions. Extremely versatile. Compact as h*ck. 14/10 (IG: itselizabethgales) https://t.co/vvBOcC2VdC</td>\n",
       "      <td>https://t.co/vvBOcC2VdC</td>\n",
       "      <td>14/10</td>\n",
       "      <td>I present to you, Pup in Hat. Pup in Hat is great for all occasions. Extremely versatile. Compact as h*ck.  (IG: itselizabethgales)</td>\n",
       "    </tr>\n",
       "    <tr>\n",
       "      <th>38</th>\n",
       "      <td>OMG HE DIDN'T MEAN TO HE WAS JUST TRYING A LITTLE BARKOUR HE'S SUPER SORRY 13/10 WOULD FORGIVE IMMEDIATE https://t.co/uF3pQ8Wubj</td>\n",
       "      <td>https://t.co/uF3pQ8Wubj</td>\n",
       "      <td>13/10</td>\n",
       "      <td>OMG HE DIDN'T MEAN TO HE WAS JUST TRYING A LITTLE BARKOUR HE'S SUPER SORRY  WOULD FORGIVE IMMEDIATE</td>\n",
       "    </tr>\n",
       "    <tr>\n",
       "      <th>39</th>\n",
       "      <td>Meet Yogi. He doesn't have any important dog meetings today he just enjoys looking his best at all times. 12/10 for dangerously dapper doggo https://t.co/YSI00BzTBZ</td>\n",
       "      <td>https://t.co/YSI00BzTBZ</td>\n",
       "      <td>12/10</td>\n",
       "      <td>Meet Yogi. He doesn't have any important dog meetings today he just enjoys looking his best at all times.  for dangerously dapper doggo</td>\n",
       "    </tr>\n",
       "    <tr>\n",
       "      <th>40</th>\n",
       "      <td>This is Noah. He can't believe someone made this mess. Got the vacuum out for you though. Offered to help clean pup. 12/10 super good boy https://t.co/V85xujjDDY</td>\n",
       "      <td>https://t.co/V85xujjDDY</td>\n",
       "      <td>12/10</td>\n",
       "      <td>This is Noah. He can't believe someone made this mess. Got the vacuum out for you though. Offered to help clean pup.  super good boy</td>\n",
       "    </tr>\n",
       "    <tr>\n",
       "      <th>41</th>\n",
       "      <td>This is Bella. She hopes her smile made you smile. If not, she is also offering you her favorite monkey. 13.5/10 https://t.co/qjrljjt948</td>\n",
       "      <td>https://t.co/qjrljjt948</td>\n",
       "      <td>13.5/10</td>\n",
       "      <td>This is Bella. She hopes her smile made you smile. If not, she is also offering you her favorite monkey. 13.</td>\n",
       "    </tr>\n",
       "    <tr>\n",
       "      <th>42</th>\n",
       "      <td>Meet Grizzwald. He may be the floofiest floofer I ever did see. Lost eyes saving a schoolbus from a volcano erpuption. 13/10 heroic as h*ck https://t.co/rf661IFEYP</td>\n",
       "      <td>https://t.co/rf661IFEYP</td>\n",
       "      <td>13/10</td>\n",
       "      <td>Meet Grizzwald. He may be the floofiest floofer I ever did see. Lost eyes saving a schoolbus from a volcano erpuption.  heroic as h*ck</td>\n",
       "    </tr>\n",
       "    <tr>\n",
       "      <th>43</th>\n",
       "      <td>Please only send dogs. We don't rate mechanics, no matter how h*ckin good. Thank you... 13/10 would sneak a pat https://t.co/Se5fZ9wp5E</td>\n",
       "      <td>https://t.co/Se5fZ9wp5E</td>\n",
       "      <td>13/10</td>\n",
       "      <td>Please only send dogs. We don't rate mechanics, no matter how h*ckin good. Thank you...  would sneak a pat</td>\n",
       "    </tr>\n",
       "    <tr>\n",
       "      <th>44</th>\n",
       "      <td>This is Rusty. He wasn't ready for the first pic. Clearly puppared for the second. 13/10 confirmed great boy https://t.co/tyER0KpdXj</td>\n",
       "      <td>https://t.co/tyER0KpdXj</td>\n",
       "      <td>13/10</td>\n",
       "      <td>This is Rusty. He wasn't ready for the first pic. Clearly puppared for the second.  confirmed great boy</td>\n",
       "    </tr>\n",
       "    <tr>\n",
       "      <th>45</th>\n",
       "      <td>This is Gus. He's quite the cheeky pupper. Already perfected the disinterested wink. 12/10 would let steal my girl https://t.co/D43I96SlVu</td>\n",
       "      <td>https://t.co/D43I96SlVu</td>\n",
       "      <td>12/10</td>\n",
       "      <td>This is Gus. He's quite the cheeky pupper. Already perfected the disinterested wink.  would let steal my girl</td>\n",
       "    </tr>\n",
       "    <tr>\n",
       "      <th>46</th>\n",
       "      <td>This is Stanley. He has his first swim lesson today. Doggle straps adjusted. Ready to go. 13/10 Phelps is nervous (IG: stanleythe_corgi) https://t.co/Nx52PGwH94</td>\n",
       "      <td>https://t.co/Nx52PGwH94</td>\n",
       "      <td>13/10</td>\n",
       "      <td>This is Stanley. He has his first swim lesson today. Doggle straps adjusted. Ready to go.  Phelps is nervous (IG: stanleythe_corgi)</td>\n",
       "    </tr>\n",
       "    <tr>\n",
       "      <th>47</th>\n",
       "      <td>This is Alfy. You're witnessing his first watermelon experience. I think it was a success. 13/10 happy 4th Alfy 🇺🇸 https://t.co/fYP5RlutfA</td>\n",
       "      <td>https://t.co/fYP5RlutfA</td>\n",
       "      <td>13/10</td>\n",
       "      <td>This is Alfy. You're witnessing his first watermelon experience. I think it was a success.  happy 4th Alfy 🇺🇸</td>\n",
       "    </tr>\n",
       "    <tr>\n",
       "      <th>48</th>\n",
       "      <td>This is Koko. Her owner, inspired by Barney, recently built a cart for her to use during walks if she got tired. 13/10 rest easy Koko https://t.co/zeDpnsKX7w</td>\n",
       "      <td>https://t.co/zeDpnsKX7w</td>\n",
       "      <td>13/10</td>\n",
       "      <td>This is Koko. Her owner, inspired by Barney, recently built a cart for her to use during walks if she got tired.  rest easy Koko</td>\n",
       "    </tr>\n",
       "    <tr>\n",
       "      <th>49</th>\n",
       "      <td>This is Rey. He's a Benebop Cumberfloof. 12/10 dangerously pettable https://t.co/503CgWbhxQ</td>\n",
       "      <td>https://t.co/503CgWbhxQ</td>\n",
       "      <td>12/10</td>\n",
       "      <td>This is Rey. He's a Benebop Cumberfloof.  dangerously pettable</td>\n",
       "    </tr>\n",
       "  </tbody>\n",
       "</table>\n",
       "</div>"
      ],
      "text/plain": [
       "                                                                                                                                                                    text  \\\n",
       "30  Viewer discretion advised. This is Jimbo. He will rip ur finger right h*ckin off. Other dog clearly an accessory. 12/10 pls pet with caution https://t.co/BuveP0uMF1   \n",
       "31  This is Maisey. She fell asleep mid-excavation. Happens to the best of us. 13/10 would pat noggin approvingly https://t.co/tp1kQ8i9JF                                  \n",
       "32  I have a new hero and his name is Howard. 14/10 https://t.co/gzLHboL7Sk                                                                                                \n",
       "33  Here we have a corgi undercover as a malamute. Pawbably doing important investigative work. Zero control over tongue happenings. 13/10 https://t.co/44ItaMubBf         \n",
       "34  This is Earl. He found a hat. Nervous about what you think of it. 12/10 it's delightful, Earl https://t.co/MYJvdlNRVa                                                  \n",
       "35  This is Lola. It's her first time outside. Must test the earth and taste the atmosphere. 13/10 you're doing great Lola https://t.co/74TKAUsLkO                         \n",
       "36  This is Kevin. He's just so happy. 13/10 what is your secret Kevin https://t.co/1r4MFCbCX5                                                                             \n",
       "37  I present to you, Pup in Hat. Pup in Hat is great for all occasions. Extremely versatile. Compact as h*ck. 14/10 (IG: itselizabethgales) https://t.co/vvBOcC2VdC       \n",
       "38  OMG HE DIDN'T MEAN TO HE WAS JUST TRYING A LITTLE BARKOUR HE'S SUPER SORRY 13/10 WOULD FORGIVE IMMEDIATE https://t.co/uF3pQ8Wubj                                       \n",
       "39  Meet Yogi. He doesn't have any important dog meetings today he just enjoys looking his best at all times. 12/10 for dangerously dapper doggo https://t.co/YSI00BzTBZ   \n",
       "40  This is Noah. He can't believe someone made this mess. Got the vacuum out for you though. Offered to help clean pup. 12/10 super good boy https://t.co/V85xujjDDY      \n",
       "41  This is Bella. She hopes her smile made you smile. If not, she is also offering you her favorite monkey. 13.5/10 https://t.co/qjrljjt948                               \n",
       "42  Meet Grizzwald. He may be the floofiest floofer I ever did see. Lost eyes saving a schoolbus from a volcano erpuption. 13/10 heroic as h*ck https://t.co/rf661IFEYP    \n",
       "43  Please only send dogs. We don't rate mechanics, no matter how h*ckin good. Thank you... 13/10 would sneak a pat https://t.co/Se5fZ9wp5E                                \n",
       "44  This is Rusty. He wasn't ready for the first pic. Clearly puppared for the second. 13/10 confirmed great boy https://t.co/tyER0KpdXj                                   \n",
       "45  This is Gus. He's quite the cheeky pupper. Already perfected the disinterested wink. 12/10 would let steal my girl https://t.co/D43I96SlVu                             \n",
       "46  This is Stanley. He has his first swim lesson today. Doggle straps adjusted. Ready to go. 13/10 Phelps is nervous (IG: stanleythe_corgi) https://t.co/Nx52PGwH94       \n",
       "47  This is Alfy. You're witnessing his first watermelon experience. I think it was a success. 13/10 happy 4th Alfy 🇺🇸 https://t.co/fYP5RlutfA                             \n",
       "48  This is Koko. Her owner, inspired by Barney, recently built a cart for her to use during walks if she got tired. 13/10 rest easy Koko https://t.co/zeDpnsKX7w          \n",
       "49  This is Rey. He's a Benebop Cumberfloof. 12/10 dangerously pettable https://t.co/503CgWbhxQ                                                                            \n",
       "\n",
       "                        url     rate  \\\n",
       "30  https://t.co/BuveP0uMF1  12/10     \n",
       "31  https://t.co/tp1kQ8i9JF  13/10     \n",
       "32  https://t.co/gzLHboL7Sk  14/10     \n",
       "33  https://t.co/44ItaMubBf  13/10     \n",
       "34  https://t.co/MYJvdlNRVa  12/10     \n",
       "35  https://t.co/74TKAUsLkO  13/10     \n",
       "36  https://t.co/1r4MFCbCX5  13/10     \n",
       "37  https://t.co/vvBOcC2VdC  14/10     \n",
       "38  https://t.co/uF3pQ8Wubj  13/10     \n",
       "39  https://t.co/YSI00BzTBZ  12/10     \n",
       "40  https://t.co/V85xujjDDY  12/10     \n",
       "41  https://t.co/qjrljjt948  13.5/10   \n",
       "42  https://t.co/rf661IFEYP  13/10     \n",
       "43  https://t.co/Se5fZ9wp5E  13/10     \n",
       "44  https://t.co/tyER0KpdXj  13/10     \n",
       "45  https://t.co/D43I96SlVu  12/10     \n",
       "46  https://t.co/Nx52PGwH94  13/10     \n",
       "47  https://t.co/fYP5RlutfA  13/10     \n",
       "48  https://t.co/zeDpnsKX7w  13/10     \n",
       "49  https://t.co/503CgWbhxQ  12/10     \n",
       "\n",
       "                                                                                                                                   Full_text  \n",
       "30  Viewer discretion advised. This is Jimbo. He will rip ur finger right h*ckin off. Other dog clearly an accessory.  pls pet with caution   \n",
       "31  This is Maisey. She fell asleep mid-excavation. Happens to the best of us.  would pat noggin approvingly                                  \n",
       "32  I have a new hero and his name is Howard.                                                                                                 \n",
       "33  Here we have a corgi undercover as a malamute. Pawbably doing important investigative work. Zero control over tongue happenings.          \n",
       "34  This is Earl. He found a hat. Nervous about what you think of it.  it's delightful, Earl                                                  \n",
       "35  This is Lola. It's her first time outside. Must test the earth and taste the atmosphere.  you're doing great Lola                         \n",
       "36  This is Kevin. He's just so happy.  what is your secret Kevin                                                                             \n",
       "37  I present to you, Pup in Hat. Pup in Hat is great for all occasions. Extremely versatile. Compact as h*ck.  (IG: itselizabethgales)       \n",
       "38  OMG HE DIDN'T MEAN TO HE WAS JUST TRYING A LITTLE BARKOUR HE'S SUPER SORRY  WOULD FORGIVE IMMEDIATE                                       \n",
       "39  Meet Yogi. He doesn't have any important dog meetings today he just enjoys looking his best at all times.  for dangerously dapper doggo   \n",
       "40  This is Noah. He can't believe someone made this mess. Got the vacuum out for you though. Offered to help clean pup.  super good boy      \n",
       "41  This is Bella. She hopes her smile made you smile. If not, she is also offering you her favorite monkey. 13.                              \n",
       "42  Meet Grizzwald. He may be the floofiest floofer I ever did see. Lost eyes saving a schoolbus from a volcano erpuption.  heroic as h*ck    \n",
       "43  Please only send dogs. We don't rate mechanics, no matter how h*ckin good. Thank you...  would sneak a pat                                \n",
       "44  This is Rusty. He wasn't ready for the first pic. Clearly puppared for the second.  confirmed great boy                                   \n",
       "45  This is Gus. He's quite the cheeky pupper. Already perfected the disinterested wink.  would let steal my girl                             \n",
       "46  This is Stanley. He has his first swim lesson today. Doggle straps adjusted. Ready to go.  Phelps is nervous (IG: stanleythe_corgi)       \n",
       "47  This is Alfy. You're witnessing his first watermelon experience. I think it was a success.  happy 4th Alfy 🇺🇸                             \n",
       "48  This is Koko. Her owner, inspired by Barney, recently built a cart for her to use during walks if she got tired.  rest easy Koko          \n",
       "49  This is Rey. He's a Benebop Cumberfloof.  dangerously pettable                                                                            "
      ]
     },
     "execution_count": 44,
     "metadata": {},
     "output_type": "execute_result"
    }
   ],
   "source": [
    "# test I\n",
    "twitter_archive_clean[['text','url','rate','Full_text']].iloc[30:50]"
   ]
  },
  {
   "cell_type": "code",
   "execution_count": 45,
   "metadata": {
    "scrolled": true
   },
   "outputs": [
    {
     "name": "stdout",
     "output_type": "stream",
     "text": [
      "<class 'pandas.core.frame.DataFrame'>\n",
      "RangeIndex: 2097 entries, 0 to 2096\n",
      "Data columns (total 15 columns):\n",
      " #   Column              Non-Null Count  Dtype              \n",
      "---  ------              --------------  -----              \n",
      " 0   tweet_id            2097 non-null   int64              \n",
      " 1   timestamp           2097 non-null   datetime64[ns, UTC]\n",
      " 2   source              2097 non-null   object             \n",
      " 3   text                2097 non-null   object             \n",
      " 4   expanded_urls       2094 non-null   object             \n",
      " 5   rating_numerator    2097 non-null   int64              \n",
      " 6   rating_denominator  2097 non-null   int64              \n",
      " 7   name                2097 non-null   object             \n",
      " 8   doggo               2097 non-null   object             \n",
      " 9   floofer             2097 non-null   object             \n",
      " 10  pupper              2097 non-null   object             \n",
      " 11  puppo               2097 non-null   object             \n",
      " 12  url                 2094 non-null   object             \n",
      " 13  rate                1686 non-null   object             \n",
      " 14  Full_text           2097 non-null   object             \n",
      "dtypes: datetime64[ns, UTC](1), int64(3), object(11)\n",
      "memory usage: 245.9+ KB\n"
     ]
    }
   ],
   "source": [
    "# test II\n",
    "twitter_archive_clean.info()"
   ]
  },
  {
   "cell_type": "markdown",
   "metadata": {},
   "source": [
    "**Issue:** table `twitter_archive_clean`, incorrect rating contains float number (row 45, numerator = 13.5) (and change type to float)\n",
    "\n",
    "**Define:** use split to retrieve numerator and denominator from `rate` assign the corresponding values to `rating_numerator` and `rating_denominator`. Then convert the string to 'float64'"
   ]
  },
  {
   "cell_type": "code",
   "execution_count": 46,
   "metadata": {},
   "outputs": [
    {
     "name": "stderr",
     "output_type": "stream",
     "text": [
      "D:\\anaconda3\\lib\\site-packages\\ipykernel_launcher.py:1: FutureWarning: Columnar iteration over characters will be deprecated in future releases.\n",
      "  \"\"\"Entry point for launching an IPython kernel.\n"
     ]
    }
   ],
   "source": [
    "twitter_archive_clean['rating_numerator'] , twitter_archive_clean['rating_denominator'] = twitter_archive_clean.rate.str.split(pat = '/').str"
   ]
  },
  {
   "cell_type": "code",
   "execution_count": 59,
   "metadata": {},
   "outputs": [],
   "source": [
    "test = twitter_archive_clean.copy()\n",
    "index = test[test.rating_numerator == '3 1'].index"
   ]
  },
  {
   "cell_type": "code",
   "execution_count": 60,
   "metadata": {},
   "outputs": [
    {
     "name": "stderr",
     "output_type": "stream",
     "text": [
      "D:\\anaconda3\\lib\\site-packages\\ipykernel_launcher.py:1: SettingWithCopyWarning: \n",
      "A value is trying to be set on a copy of a slice from a DataFrame\n",
      "\n",
      "See the caveats in the documentation: https://pandas.pydata.org/pandas-docs/stable/user_guide/indexing.html#returning-a-view-versus-a-copy\n",
      "  \"\"\"Entry point for launching an IPython kernel.\n",
      "D:\\anaconda3\\lib\\site-packages\\ipykernel_launcher.py:2: SettingWithCopyWarning: \n",
      "A value is trying to be set on a copy of a slice from a DataFrame\n",
      "\n",
      "See the caveats in the documentation: https://pandas.pydata.org/pandas-docs/stable/user_guide/indexing.html#returning-a-view-versus-a-copy\n",
      "  \n",
      "D:\\anaconda3\\lib\\site-packages\\ipykernel_launcher.py:3: SettingWithCopyWarning: \n",
      "A value is trying to be set on a copy of a slice from a DataFrame\n",
      "\n",
      "See the caveats in the documentation: https://pandas.pydata.org/pandas-docs/stable/user_guide/indexing.html#returning-a-view-versus-a-copy\n",
      "  This is separate from the ipykernel package so we can avoid doing imports until\n"
     ]
    }
   ],
   "source": [
    "twitter_archive_clean.rate[index[0]] = '9/10'\n",
    "twitter_archive_clean.rating_numerator[index[0]] = '9'\n",
    "twitter_archive_clean.rating_denominator[index[0]] = '10'"
   ]
  },
  {
   "cell_type": "code",
   "execution_count": 61,
   "metadata": {},
   "outputs": [
    {
     "data": {
      "text/html": [
       "<div>\n",
       "<style scoped>\n",
       "    .dataframe tbody tr th:only-of-type {\n",
       "        vertical-align: middle;\n",
       "    }\n",
       "\n",
       "    .dataframe tbody tr th {\n",
       "        vertical-align: top;\n",
       "    }\n",
       "\n",
       "    .dataframe thead th {\n",
       "        text-align: right;\n",
       "    }\n",
       "</style>\n",
       "<table border=\"1\" class=\"dataframe\">\n",
       "  <thead>\n",
       "    <tr style=\"text-align: right;\">\n",
       "      <th></th>\n",
       "      <th>tweet_id</th>\n",
       "      <th>timestamp</th>\n",
       "      <th>source</th>\n",
       "      <th>text</th>\n",
       "      <th>expanded_urls</th>\n",
       "      <th>rating_numerator</th>\n",
       "      <th>rating_denominator</th>\n",
       "      <th>name</th>\n",
       "      <th>url</th>\n",
       "      <th>rate</th>\n",
       "      <th>Full_text</th>\n",
       "    </tr>\n",
       "  </thead>\n",
       "  <tbody>\n",
       "    <tr>\n",
       "      <th>2076</th>\n",
       "      <td>666287406224695296</td>\n",
       "      <td>2015-11-16 16:11:11+00:00</td>\n",
       "      <td>Twitter for iPhone</td>\n",
       "      <td>This is an Albanian 3 1/2 legged  Episcopalian. Loves well-polished hardwood flooring. Penis on the collar. 9/10 https://t.co/d9NcXFKwLv</td>\n",
       "      <td>https://twitter.com/dog_rates/status/666287406224695296/photo/1</td>\n",
       "      <td>3 1</td>\n",
       "      <td>2</td>\n",
       "      <td>an</td>\n",
       "      <td>https://t.co/d9NcXFKwLv</td>\n",
       "      <td>3 1/2</td>\n",
       "      <td>This is an Albanian 3  legged  Episcopalian. Loves well-polished hardwood flooring. Penis on the collar.</td>\n",
       "    </tr>\n",
       "  </tbody>\n",
       "</table>\n",
       "</div>"
      ],
      "text/plain": [
       "                tweet_id                 timestamp              source  \\\n",
       "2076  666287406224695296 2015-11-16 16:11:11+00:00  Twitter for iPhone   \n",
       "\n",
       "                                                                                                                                          text  \\\n",
       "2076  This is an Albanian 3 1/2 legged  Episcopalian. Loves well-polished hardwood flooring. Penis on the collar. 9/10 https://t.co/d9NcXFKwLv   \n",
       "\n",
       "                                                        expanded_urls  \\\n",
       "2076  https://twitter.com/dog_rates/status/666287406224695296/photo/1   \n",
       "\n",
       "     rating_numerator rating_denominator name                      url   rate  \\\n",
       "2076  3 1              2                  an   https://t.co/d9NcXFKwLv  3 1/2   \n",
       "\n",
       "                                                                                                       Full_text  \n",
       "2076  This is an Albanian 3  legged  Episcopalian. Loves well-polished hardwood flooring. Penis on the collar.    "
      ]
     },
     "execution_count": 61,
     "metadata": {},
     "output_type": "execute_result"
    }
   ],
   "source": [
    "test[test.rating_numerator == '3 1']"
   ]
  },
  {
   "cell_type": "code",
   "execution_count": 63,
   "metadata": {},
   "outputs": [],
   "source": [
    "twitter_archive_clean[['rating_numerator','rating_denominator']] = twitter_archive_clean[['rating_numerator','rating_denominator']].astype('float64')"
   ]
  },
  {
   "cell_type": "code",
   "execution_count": 64,
   "metadata": {},
   "outputs": [
    {
     "data": {
      "text/plain": [
       "rating_numerator      13.0\n",
       "rating_denominator    10.0\n",
       "Name: 42, dtype: float64"
      ]
     },
     "execution_count": 64,
     "metadata": {},
     "output_type": "execute_result"
    }
   ],
   "source": [
    "# test\n",
    "twitter_archive_clean[['rating_numerator','rating_denominator']].iloc[42]"
   ]
  },
  {
   "cell_type": "markdown",
   "metadata": {},
   "source": [
    "**Issue:** table `twitter_archive_clean`, for some entries key words ['doggo','floofer','pupper','puppo'] exist in the text but did not record in the corresponding columns\n",
    "\n",
    "**Define:** use str.extract to extract the entries containing the key words('doggo','floofer','pupper','puppo') in `Full_text` column. The key words are defined by regular expression."
   ]
  },
  {
   "cell_type": "code",
   "execution_count": 65,
   "metadata": {},
   "outputs": [],
   "source": [
    "pats = {'doggo':'[Dd][Oo][Gg][Gg][Oo]','floofer':'[Ff][Ll][Oo][Oo][Ff][Ee][Rr]',\n",
    "       'pupper':'[Pp][Uu][Pp][Pp][Ee][Rr]', 'puppo':'[Pp][Uu][Pp][Pp][Oo]'}\n",
    "for pat in pats.keys():\n",
    "    pattern = '('+ pats[pat] + ')'\n",
    "    twitter_archive_clean[pat] = twitter_archive_clean.Full_text.str.extract(pattern)\n",
    "    twitter_archive_clean[pat].fillna('',inplace = True)"
   ]
  },
  {
   "cell_type": "code",
   "execution_count": 66,
   "metadata": {
    "scrolled": true
   },
   "outputs": [
    {
     "data": {
      "text/plain": [
       "(         2006\n",
       " doggo    83  \n",
       " Doggo    7   \n",
       " DOGGO    1   \n",
       " Name: doggo, dtype: int64,\n",
       "            2087\n",
       " Floofer    6   \n",
       " floofer    4   \n",
       " Name: floofer, dtype: int64)"
      ]
     },
     "execution_count": 66,
     "metadata": {},
     "output_type": "execute_result"
    }
   ],
   "source": [
    "twitter_archive_clean.doggo.value_counts(), twitter_archive_clean.floofer.value_counts()"
   ]
  },
  {
   "cell_type": "code",
   "execution_count": 67,
   "metadata": {},
   "outputs": [
    {
     "data": {
      "text/plain": [
       "(          1842\n",
       " pupper    243 \n",
       " Pupper    8   \n",
       " PUPPER    4   \n",
       " Name: pupper, dtype: int64,\n",
       "          2067\n",
       " puppo    29  \n",
       " Puppo    1   \n",
       " Name: puppo, dtype: int64)"
      ]
     },
     "execution_count": 67,
     "metadata": {},
     "output_type": "execute_result"
    }
   ],
   "source": [
    "twitter_archive_clean.pupper.value_counts(), twitter_archive_clean.puppo.value_counts()"
   ]
  },
  {
   "cell_type": "markdown",
   "metadata": {},
   "source": [
    "**Issue:** table `twitter_archive_clean`, ['doggo','floofer','pupper','puppo'] should be in one column.`['doggo','floofer','pupper','puppo']` \n",
    "\n",
    "**Define:** lowercase all the strings within the ['doggo','floofer','pupper','puppo'] columns, and  concatenate four columns into one column `stage`. If one entry contains multiple stage, reassign the stage as 'multiple stage'."
   ]
  },
  {
   "cell_type": "code",
   "execution_count": 68,
   "metadata": {},
   "outputs": [
    {
     "name": "stderr",
     "output_type": "stream",
     "text": [
      "D:\\anaconda3\\lib\\site-packages\\ipykernel_launcher.py:1: UserWarning: Pandas doesn't allow columns to be created via a new attribute name - see https://pandas.pydata.org/pandas-docs/stable/indexing.html#attribute-access\n",
      "  \"\"\"Entry point for launching an IPython kernel.\n"
     ]
    }
   ],
   "source": [
    "twitter_archive_clean.stage = twitter_archive_clean.doggo + twitter_archive_clean.floofer + twitter_archive_clean.pupper + twitter_archive_clean.puppo"
   ]
  },
  {
   "cell_type": "code",
   "execution_count": 69,
   "metadata": {},
   "outputs": [],
   "source": [
    "twitter_archive_clean.stage = twitter_archive_clean.stage.str.lower()"
   ]
  },
  {
   "cell_type": "code",
   "execution_count": 70,
   "metadata": {},
   "outputs": [
    {
     "data": {
      "text/plain": [
       "                1723\n",
       "pupper          246 \n",
       "doggo           79  \n",
       "puppo           28  \n",
       "floofer         9   \n",
       "doggopupper     9   \n",
       "doggopuppo      2   \n",
       "doggofloofer    1   \n",
       "dtype: int64"
      ]
     },
     "execution_count": 70,
     "metadata": {},
     "output_type": "execute_result"
    }
   ],
   "source": [
    "twitter_archive_clean.stage.value_counts()"
   ]
  },
  {
   "cell_type": "code",
   "execution_count": 71,
   "metadata": {},
   "outputs": [],
   "source": [
    "multiple_stage = ['doggopupper','doggopuppo','doggofloofer']\n",
    "for row in range(len(twitter_archive_clean)):\n",
    "    if twitter_archive_clean.stage[row] in multiple_stage:\n",
    "        twitter_archive_clean.stage[row] = 'multiple stage'"
   ]
  },
  {
   "cell_type": "code",
   "execution_count": 72,
   "metadata": {},
   "outputs": [],
   "source": [
    "twitter_archive_clean.drop(columns = ['doggo','floofer','pupper','puppo'],inplace=True)"
   ]
  },
  {
   "cell_type": "code",
   "execution_count": 73,
   "metadata": {},
   "outputs": [
    {
     "data": {
      "text/plain": [
       "                  1723\n",
       "pupper            246 \n",
       "doggo             79  \n",
       "puppo             28  \n",
       "multiple stage    12  \n",
       "floofer           9   \n",
       "dtype: int64"
      ]
     },
     "execution_count": 73,
     "metadata": {},
     "output_type": "execute_result"
    }
   ],
   "source": [
    "twitter_archive_clean.stage.value_counts()"
   ]
  },
  {
   "cell_type": "markdown",
   "metadata": {},
   "source": [
    "**Issue:** table `twitter_archive_clean`, `name` column contains several incorrect names (assigned 'a')\n",
    "\n",
    "**Define:** use str.contains to find the correct names and replace the incorrected names(\"a\" and \"None\")."
   ]
  },
  {
   "cell_type": "code",
   "execution_count": 74,
   "metadata": {},
   "outputs": [],
   "source": [
    "# GET ALL CORRECT NAMES\n",
    "# select \n",
    "nan_name = twitter_archive_clean.query('name == \"a\" or name == \"None\"')\n",
    "# pattern 1: named xxx, pattern 2: name is xxx\n",
    "corrected_names = pd.DataFrame()\n",
    "patterns = ['(named\\s(\\w+))','(name\\sis\\s(\\w+))']\n",
    "for pat in patterns:\n",
    "    names = nan_name.Full_text.str.extract(pat)[1].dropna().to_frame()\n",
    "    corrected_names = corrected_names.append(names)"
   ]
  },
  {
   "cell_type": "code",
   "execution_count": 75,
   "metadata": {},
   "outputs": [],
   "source": [
    "# reset the indices and rename the column in a more decriptive way.\n",
    "corrected_names = corrected_names.reset_index()\n",
    "corrected_names = corrected_names.rename(columns = {'index':'ind',1:'cor_name'})"
   ]
  },
  {
   "cell_type": "code",
   "execution_count": 76,
   "metadata": {},
   "outputs": [
    {
     "data": {
      "text/plain": [
       "'Finley'"
      ]
     },
     "execution_count": 76,
     "metadata": {},
     "output_type": "execute_result"
    }
   ],
   "source": [
    "twitter_archive_clean.name[603]"
   ]
  },
  {
   "cell_type": "code",
   "execution_count": 77,
   "metadata": {
    "scrolled": true
   },
   "outputs": [
    {
     "name": "stderr",
     "output_type": "stream",
     "text": [
      "D:\\anaconda3\\lib\\site-packages\\ipykernel_launcher.py:4: SettingWithCopyWarning: \n",
      "A value is trying to be set on a copy of a slice from a DataFrame\n",
      "\n",
      "See the caveats in the documentation: https://pandas.pydata.org/pandas-docs/stable/user_guide/indexing.html#returning-a-view-versus-a-copy\n",
      "  after removing the cwd from sys.path.\n"
     ]
    }
   ],
   "source": [
    "# replace the incorrect names with the correct name.\n",
    "length = len(corrected_names)\n",
    "for i in range(length):\n",
    "    twitter_archive_clean.name[corrected_names.ind[i]] = corrected_names.cor_name[i]"
   ]
  },
  {
   "cell_type": "code",
   "execution_count": 78,
   "metadata": {},
   "outputs": [
    {
     "data": {
      "text/html": [
       "<div>\n",
       "<style scoped>\n",
       "    .dataframe tbody tr th:only-of-type {\n",
       "        vertical-align: middle;\n",
       "    }\n",
       "\n",
       "    .dataframe tbody tr th {\n",
       "        vertical-align: top;\n",
       "    }\n",
       "\n",
       "    .dataframe thead th {\n",
       "        text-align: right;\n",
       "    }\n",
       "</style>\n",
       "<table border=\"1\" class=\"dataframe\">\n",
       "  <thead>\n",
       "    <tr style=\"text-align: right;\">\n",
       "      <th></th>\n",
       "      <th>name</th>\n",
       "      <th>Full_text</th>\n",
       "    </tr>\n",
       "  </thead>\n",
       "  <tbody>\n",
       "    <tr>\n",
       "      <th>1145</th>\n",
       "      <td>a</td>\n",
       "      <td>This is a Wild Tuscan Poofwiggle. Careful not to startle. Rare tongue slip. One eye magical.  would def pet</td>\n",
       "    </tr>\n",
       "    <tr>\n",
       "      <th>1833</th>\n",
       "      <td>None</td>\n",
       "      <td>I would do radical things in the name of Dog God. I'd believe every word in that book.</td>\n",
       "    </tr>\n",
       "    <tr>\n",
       "      <th>1499</th>\n",
       "      <td>a</td>\n",
       "      <td>Guys this really needs to stop. We've been over this way too many times. This is a giraffe. We only rate dogs..</td>\n",
       "    </tr>\n",
       "    <tr>\n",
       "      <th>1633</th>\n",
       "      <td>a</td>\n",
       "      <td>C'mon guys. We've been over this. We only rate dogs. This is a cow. Please only submit dogs. Thank you......</td>\n",
       "    </tr>\n",
       "    <tr>\n",
       "      <th>2095</th>\n",
       "      <td>a</td>\n",
       "      <td>This is a western brown Mitsubishi terrier. Upset about leaf. Actually 2 dogs here.  would walk the shit out of</td>\n",
       "    </tr>\n",
       "    <tr>\n",
       "      <th>1899</th>\n",
       "      <td>a</td>\n",
       "      <td>This is a brave dog. Excellent free climber. Trying to get closer to God. Not very loyal though. Doesn't bark.</td>\n",
       "    </tr>\n",
       "    <tr>\n",
       "      <th>2046</th>\n",
       "      <td>None</td>\n",
       "      <td>My goodness. Very rare dog here. Large. Tail dangerous. Kinda fat. Only eats leaves. Doesn't come when called</td>\n",
       "    </tr>\n",
       "    <tr>\n",
       "      <th>1159</th>\n",
       "      <td>a</td>\n",
       "      <td>\"Pupper is a present to world. Here is a bow for pupper.\"  precious as hell</td>\n",
       "    </tr>\n",
       "    <tr>\n",
       "      <th>1955</th>\n",
       "      <td>a</td>\n",
       "      <td>Here is a horned dog. Much grace. Can jump over moons (dam!). Paws not soft. Bad at barking.  can still pet tho</td>\n",
       "    </tr>\n",
       "    <tr>\n",
       "      <th>2094</th>\n",
       "      <td>a</td>\n",
       "      <td>Here is a very happy pup. Big fan of well-maintained decks. Just look at that tongue.  would cuddle af</td>\n",
       "    </tr>\n",
       "  </tbody>\n",
       "</table>\n",
       "</div>"
      ],
      "text/plain": [
       "      name  \\\n",
       "1145  a      \n",
       "1833  None   \n",
       "1499  a      \n",
       "1633  a      \n",
       "2095  a      \n",
       "1899  a      \n",
       "2046  None   \n",
       "1159  a      \n",
       "1955  a      \n",
       "2094  a      \n",
       "\n",
       "                                                                                                              Full_text  \n",
       "1145  This is a Wild Tuscan Poofwiggle. Careful not to startle. Rare tongue slip. One eye magical.  would def pet        \n",
       "1833  I would do radical things in the name of Dog God. I'd believe every word in that book.                             \n",
       "1499  Guys this really needs to stop. We've been over this way too many times. This is a giraffe. We only rate dogs..    \n",
       "1633  C'mon guys. We've been over this. We only rate dogs. This is a cow. Please only submit dogs. Thank you......       \n",
       "2095  This is a western brown Mitsubishi terrier. Upset about leaf. Actually 2 dogs here.  would walk the shit out of    \n",
       "1899  This is a brave dog. Excellent free climber. Trying to get closer to God. Not very loyal though. Doesn't bark.     \n",
       "2046  My goodness. Very rare dog here. Large. Tail dangerous. Kinda fat. Only eats leaves. Doesn't come when called      \n",
       "1159  \"Pupper is a present to world. Here is a bow for pupper.\"  precious as hell                                        \n",
       "1955  Here is a horned dog. Much grace. Can jump over moons (dam!). Paws not soft. Bad at barking.  can still pet tho    \n",
       "2094  Here is a very happy pup. Big fan of well-maintained decks. Just look at that tongue.  would cuddle af             "
      ]
     },
     "execution_count": 78,
     "metadata": {},
     "output_type": "execute_result"
    }
   ],
   "source": [
    "# text\n",
    "a = twitter_archive_clean.query('name == \"a\" or name == \"None\" and Full_text.str.contains(\"name|call\")',engine='python')\n",
    "\n",
    "a[['name','Full_text']].sample(10)"
   ]
  },
  {
   "cell_type": "markdown",
   "metadata": {},
   "source": [
    "**Issue:** table `twitter_archive_clean`, contains retweeted tweets (without image)\n",
    "\n",
    "**Define:** merge table `img_pred_clean` to `twitter_archive_clean`.\n"
   ]
  },
  {
   "cell_type": "code",
   "execution_count": 79,
   "metadata": {},
   "outputs": [],
   "source": [
    "twitter_archive_clean = twitter_archive_clean.merge(img_pred_clean,left_on='tweet_id',right_on='tweet_id')"
   ]
  },
  {
   "cell_type": "code",
   "execution_count": 80,
   "metadata": {
    "scrolled": true
   },
   "outputs": [
    {
     "name": "stdout",
     "output_type": "stream",
     "text": [
      "<class 'pandas.core.frame.DataFrame'>\n",
      "Int64Index: 1971 entries, 0 to 1970\n",
      "Data columns (total 22 columns):\n",
      " #   Column              Non-Null Count  Dtype              \n",
      "---  ------              --------------  -----              \n",
      " 0   tweet_id            1971 non-null   int64              \n",
      " 1   timestamp           1971 non-null   datetime64[ns, UTC]\n",
      " 2   source              1971 non-null   object             \n",
      " 3   text                1971 non-null   object             \n",
      " 4   expanded_urls       1971 non-null   object             \n",
      " 5   rating_numerator    1567 non-null   float64            \n",
      " 6   rating_denominator  1567 non-null   float64            \n",
      " 7   name                1971 non-null   object             \n",
      " 8   url                 1971 non-null   object             \n",
      " 9   rate                1567 non-null   object             \n",
      " 10  Full_text           1971 non-null   object             \n",
      " 11  jpg_url             1971 non-null   object             \n",
      " 12  img_num             1971 non-null   int64              \n",
      " 13  p1                  1971 non-null   object             \n",
      " 14  p1_conf             1971 non-null   float64            \n",
      " 15  p1_dog              1971 non-null   bool               \n",
      " 16  p2                  1971 non-null   object             \n",
      " 17  p2_conf             1971 non-null   float64            \n",
      " 18  p2_dog              1971 non-null   bool               \n",
      " 19  p3                  1971 non-null   object             \n",
      " 20  p3_conf             1971 non-null   float64            \n",
      " 21  p3_dog              1971 non-null   bool               \n",
      "dtypes: bool(3), datetime64[ns, UTC](1), float64(5), int64(2), object(11)\n",
      "memory usage: 313.7+ KB\n"
     ]
    }
   ],
   "source": [
    "# test\n",
    "twitter_archive_clean.info()"
   ]
  },
  {
   "cell_type": "markdown",
   "metadata": {},
   "source": [
    "**Issue:** table `df_api`, column `display_text_range` have '[]' and starting point of the range.\n",
    "\n",
    "**Define:** extract the length of the text from list objects."
   ]
  },
  {
   "cell_type": "code",
   "execution_count": 81,
   "metadata": {},
   "outputs": [],
   "source": [
    "df_api_clean['text_len'] = pd.DataFrame({'text_len':df_api_clean.display_text_range[i][1]} for i in range(len(df_api_clean)))"
   ]
  },
  {
   "cell_type": "code",
   "execution_count": 82,
   "metadata": {},
   "outputs": [
    {
     "data": {
      "text/html": [
       "<div>\n",
       "<style scoped>\n",
       "    .dataframe tbody tr th:only-of-type {\n",
       "        vertical-align: middle;\n",
       "    }\n",
       "\n",
       "    .dataframe tbody tr th {\n",
       "        vertical-align: top;\n",
       "    }\n",
       "\n",
       "    .dataframe thead th {\n",
       "        text-align: right;\n",
       "    }\n",
       "</style>\n",
       "<table border=\"1\" class=\"dataframe\">\n",
       "  <thead>\n",
       "    <tr style=\"text-align: right;\">\n",
       "      <th></th>\n",
       "      <th>id</th>\n",
       "      <th>display_text_range</th>\n",
       "      <th>retweet_count</th>\n",
       "      <th>favorite_count</th>\n",
       "      <th>text_len</th>\n",
       "    </tr>\n",
       "  </thead>\n",
       "  <tbody>\n",
       "    <tr>\n",
       "      <th>0</th>\n",
       "      <td>666020888022790149</td>\n",
       "      <td>[0, 131]</td>\n",
       "      <td>466</td>\n",
       "      <td>2434</td>\n",
       "      <td>131</td>\n",
       "    </tr>\n",
       "    <tr>\n",
       "      <th>1</th>\n",
       "      <td>666029285002620928</td>\n",
       "      <td>[0, 139]</td>\n",
       "      <td>42</td>\n",
       "      <td>121</td>\n",
       "      <td>139</td>\n",
       "    </tr>\n",
       "    <tr>\n",
       "      <th>2</th>\n",
       "      <td>666033412701032449</td>\n",
       "      <td>[0, 130]</td>\n",
       "      <td>41</td>\n",
       "      <td>113</td>\n",
       "      <td>130</td>\n",
       "    </tr>\n",
       "    <tr>\n",
       "      <th>3</th>\n",
       "      <td>666044226329800704</td>\n",
       "      <td>[0, 137]</td>\n",
       "      <td>133</td>\n",
       "      <td>274</td>\n",
       "      <td>137</td>\n",
       "    </tr>\n",
       "    <tr>\n",
       "      <th>4</th>\n",
       "      <td>666049248165822465</td>\n",
       "      <td>[0, 120]</td>\n",
       "      <td>41</td>\n",
       "      <td>99</td>\n",
       "      <td>120</td>\n",
       "    </tr>\n",
       "  </tbody>\n",
       "</table>\n",
       "</div>"
      ],
      "text/plain": [
       "                   id display_text_range retweet_count favorite_count  \\\n",
       "0  666020888022790149  [0, 131]           466           2434            \n",
       "1  666029285002620928  [0, 139]           42            121             \n",
       "2  666033412701032449  [0, 130]           41            113             \n",
       "3  666044226329800704  [0, 137]           133           274             \n",
       "4  666049248165822465  [0, 120]           41            99              \n",
       "\n",
       "   text_len  \n",
       "0  131       \n",
       "1  139       \n",
       "2  130       \n",
       "3  137       \n",
       "4  120       "
      ]
     },
     "execution_count": 82,
     "metadata": {},
     "output_type": "execute_result"
    }
   ],
   "source": [
    "df_api_clean.head()"
   ]
  },
  {
   "cell_type": "code",
   "execution_count": 83,
   "metadata": {},
   "outputs": [],
   "source": [
    "df_api_clean = df_api_clean.rename(columns={'id':'tweet_id'})"
   ]
  },
  {
   "cell_type": "code",
   "execution_count": 84,
   "metadata": {},
   "outputs": [],
   "source": [
    "df_api_clean = df_api_clean.drop('display_text_range',axis = 1)"
   ]
  },
  {
   "cell_type": "code",
   "execution_count": 85,
   "metadata": {},
   "outputs": [
    {
     "data": {
      "text/html": [
       "<div>\n",
       "<style scoped>\n",
       "    .dataframe tbody tr th:only-of-type {\n",
       "        vertical-align: middle;\n",
       "    }\n",
       "\n",
       "    .dataframe tbody tr th {\n",
       "        vertical-align: top;\n",
       "    }\n",
       "\n",
       "    .dataframe thead th {\n",
       "        text-align: right;\n",
       "    }\n",
       "</style>\n",
       "<table border=\"1\" class=\"dataframe\">\n",
       "  <thead>\n",
       "    <tr style=\"text-align: right;\">\n",
       "      <th></th>\n",
       "      <th>tweet_id</th>\n",
       "      <th>retweet_count</th>\n",
       "      <th>favorite_count</th>\n",
       "      <th>text_len</th>\n",
       "    </tr>\n",
       "  </thead>\n",
       "  <tbody>\n",
       "    <tr>\n",
       "      <th>0</th>\n",
       "      <td>666020888022790149</td>\n",
       "      <td>466</td>\n",
       "      <td>2434</td>\n",
       "      <td>131</td>\n",
       "    </tr>\n",
       "    <tr>\n",
       "      <th>1</th>\n",
       "      <td>666029285002620928</td>\n",
       "      <td>42</td>\n",
       "      <td>121</td>\n",
       "      <td>139</td>\n",
       "    </tr>\n",
       "    <tr>\n",
       "      <th>2</th>\n",
       "      <td>666033412701032449</td>\n",
       "      <td>41</td>\n",
       "      <td>113</td>\n",
       "      <td>130</td>\n",
       "    </tr>\n",
       "    <tr>\n",
       "      <th>3</th>\n",
       "      <td>666044226329800704</td>\n",
       "      <td>133</td>\n",
       "      <td>274</td>\n",
       "      <td>137</td>\n",
       "    </tr>\n",
       "    <tr>\n",
       "      <th>4</th>\n",
       "      <td>666049248165822465</td>\n",
       "      <td>41</td>\n",
       "      <td>99</td>\n",
       "      <td>120</td>\n",
       "    </tr>\n",
       "  </tbody>\n",
       "</table>\n",
       "</div>"
      ],
      "text/plain": [
       "             tweet_id retweet_count favorite_count  text_len\n",
       "0  666020888022790149  466           2434           131     \n",
       "1  666029285002620928  42            121            139     \n",
       "2  666033412701032449  41            113            130     \n",
       "3  666044226329800704  133           274            137     \n",
       "4  666049248165822465  41            99             120     "
      ]
     },
     "execution_count": 85,
     "metadata": {},
     "output_type": "execute_result"
    }
   ],
   "source": [
    "df_api_clean.head()"
   ]
  },
  {
   "cell_type": "markdown",
   "metadata": {},
   "source": [
    "**Issue:** Erroneous datatypes `tweet_id`, `retweet_count` and `favorite_count`.\n",
    "\n",
    "**Define:** convert strings to int64 using `astype()`\n"
   ]
  },
  {
   "cell_type": "code",
   "execution_count": 86,
   "metadata": {},
   "outputs": [],
   "source": [
    "df_api_clean.retweet_count = df_api_clean.retweet_count.astype('int64')\n",
    "df_api_clean.favorite_count = df_api_clean.favorite_count.astype('int64')\n",
    "df_api_clean.tweet_id = df_api_clean.tweet_id.astype('int64')"
   ]
  },
  {
   "cell_type": "code",
   "execution_count": 87,
   "metadata": {
    "scrolled": false
   },
   "outputs": [
    {
     "name": "stdout",
     "output_type": "stream",
     "text": [
      "<class 'pandas.core.frame.DataFrame'>\n",
      "RangeIndex: 2059 entries, 0 to 2058\n",
      "Data columns (total 4 columns):\n",
      " #   Column          Non-Null Count  Dtype\n",
      "---  ------          --------------  -----\n",
      " 0   tweet_id        2059 non-null   int64\n",
      " 1   retweet_count   2059 non-null   int64\n",
      " 2   favorite_count  2059 non-null   int64\n",
      " 3   text_len        2059 non-null   int64\n",
      "dtypes: int64(4)\n",
      "memory usage: 64.5 KB\n"
     ]
    }
   ],
   "source": [
    "# test\n",
    "df_api_clean.info()"
   ]
  },
  {
   "cell_type": "markdown",
   "metadata": {},
   "source": [
    "merge `df_api_clean` table to `twitter_archive_clean` table "
   ]
  },
  {
   "cell_type": "code",
   "execution_count": 88,
   "metadata": {},
   "outputs": [],
   "source": [
    "# merge df_api_clean and twitter_archive_clean to twitter_clean\n",
    "twitter_clean = twitter_archive_clean.copy()"
   ]
  },
  {
   "cell_type": "code",
   "execution_count": 89,
   "metadata": {},
   "outputs": [],
   "source": [
    "twitter_clean = twitter_clean.merge(df_api_clean,left_on='tweet_id',\n",
    "    right_on='tweet_id')"
   ]
  },
  {
   "cell_type": "code",
   "execution_count": 90,
   "metadata": {},
   "outputs": [
    {
     "name": "stdout",
     "output_type": "stream",
     "text": [
      "<class 'pandas.core.frame.DataFrame'>\n",
      "Int64Index: 1964 entries, 0 to 1963\n",
      "Data columns (total 25 columns):\n",
      " #   Column              Non-Null Count  Dtype              \n",
      "---  ------              --------------  -----              \n",
      " 0   tweet_id            1964 non-null   int64              \n",
      " 1   timestamp           1964 non-null   datetime64[ns, UTC]\n",
      " 2   source              1964 non-null   object             \n",
      " 3   text                1964 non-null   object             \n",
      " 4   expanded_urls       1964 non-null   object             \n",
      " 5   rating_numerator    1560 non-null   float64            \n",
      " 6   rating_denominator  1560 non-null   float64            \n",
      " 7   name                1964 non-null   object             \n",
      " 8   url                 1964 non-null   object             \n",
      " 9   rate                1560 non-null   object             \n",
      " 10  Full_text           1964 non-null   object             \n",
      " 11  jpg_url             1964 non-null   object             \n",
      " 12  img_num             1964 non-null   int64              \n",
      " 13  p1                  1964 non-null   object             \n",
      " 14  p1_conf             1964 non-null   float64            \n",
      " 15  p1_dog              1964 non-null   bool               \n",
      " 16  p2                  1964 non-null   object             \n",
      " 17  p2_conf             1964 non-null   float64            \n",
      " 18  p2_dog              1964 non-null   bool               \n",
      " 19  p3                  1964 non-null   object             \n",
      " 20  p3_conf             1964 non-null   float64            \n",
      " 21  p3_dog              1964 non-null   bool               \n",
      " 22  retweet_count       1964 non-null   int64              \n",
      " 23  favorite_count      1964 non-null   int64              \n",
      " 24  text_len            1964 non-null   int64              \n",
      "dtypes: bool(3), datetime64[ns, UTC](1), float64(5), int64(5), object(11)\n",
      "memory usage: 358.7+ KB\n"
     ]
    }
   ],
   "source": [
    "twitter_clean.info()"
   ]
  },
  {
   "cell_type": "markdown",
   "metadata": {},
   "source": [
    "**Issue:** table `twitter_archive_clean`, contains retweeted tweets (RT, and identical retweet counts)\n",
    "\n",
    "**Define:** remove rows that `Full_text` column with pattern: RT @xxxx"
   ]
  },
  {
   "cell_type": "code",
   "execution_count": 91,
   "metadata": {},
   "outputs": [
    {
     "data": {
      "text/plain": [
       "Series([], Name: Full_text, dtype: object)"
      ]
     },
     "execution_count": 91,
     "metadata": {},
     "output_type": "execute_result"
    }
   ],
   "source": [
    "RT = (twitter_clean.Full_text.str.contains('RT\\s@\\w+') == True)\n",
    "twitter_clean[RT]['Full_text']"
   ]
  },
  {
   "cell_type": "code",
   "execution_count": 92,
   "metadata": {},
   "outputs": [],
   "source": [
    "RT_ind = twitter_clean[RT].index"
   ]
  },
  {
   "cell_type": "code",
   "execution_count": 93,
   "metadata": {},
   "outputs": [],
   "source": [
    "twitter_clean = twitter_clean.drop(RT_ind,axis=0).reset_index()"
   ]
  },
  {
   "cell_type": "code",
   "execution_count": 94,
   "metadata": {},
   "outputs": [
    {
     "data": {
      "text/plain": [
       "0"
      ]
     },
     "execution_count": 94,
     "metadata": {},
     "output_type": "execute_result"
    }
   ],
   "source": [
    "# test\n",
    "sum(twitter_clean.Full_text.str.contains('RT\\s@\\w+') == True)"
   ]
  },
  {
   "cell_type": "markdown",
   "metadata": {},
   "source": [
    "### 3.3 Export clean data "
   ]
  },
  {
   "cell_type": "code",
   "execution_count": 95,
   "metadata": {},
   "outputs": [],
   "source": [
    "# Drop columns that we are not interested in.\n",
    "drop_columns = ['text','expanded_urls','url','rate','jpg_url']\n",
    "twitter_clean.drop(drop_columns,axis=1,inplace=True)"
   ]
  },
  {
   "cell_type": "code",
   "execution_count": 96,
   "metadata": {},
   "outputs": [
    {
     "data": {
      "text/html": [
       "<div>\n",
       "<style scoped>\n",
       "    .dataframe tbody tr th:only-of-type {\n",
       "        vertical-align: middle;\n",
       "    }\n",
       "\n",
       "    .dataframe tbody tr th {\n",
       "        vertical-align: top;\n",
       "    }\n",
       "\n",
       "    .dataframe thead th {\n",
       "        text-align: right;\n",
       "    }\n",
       "</style>\n",
       "<table border=\"1\" class=\"dataframe\">\n",
       "  <thead>\n",
       "    <tr style=\"text-align: right;\">\n",
       "      <th></th>\n",
       "      <th>index</th>\n",
       "      <th>tweet_id</th>\n",
       "      <th>timestamp</th>\n",
       "      <th>source</th>\n",
       "      <th>rating_numerator</th>\n",
       "      <th>rating_denominator</th>\n",
       "      <th>name</th>\n",
       "      <th>Full_text</th>\n",
       "      <th>img_num</th>\n",
       "      <th>p1</th>\n",
       "      <th>...</th>\n",
       "      <th>p1_dog</th>\n",
       "      <th>p2</th>\n",
       "      <th>p2_conf</th>\n",
       "      <th>p2_dog</th>\n",
       "      <th>p3</th>\n",
       "      <th>p3_conf</th>\n",
       "      <th>p3_dog</th>\n",
       "      <th>retweet_count</th>\n",
       "      <th>favorite_count</th>\n",
       "      <th>text_len</th>\n",
       "    </tr>\n",
       "  </thead>\n",
       "  <tbody>\n",
       "    <tr>\n",
       "      <th>0</th>\n",
       "      <td>0</td>\n",
       "      <td>892420643555336193</td>\n",
       "      <td>2017-08-01 16:23:56+00:00</td>\n",
       "      <td>Twitter for iPhone</td>\n",
       "      <td>13.0</td>\n",
       "      <td>10.0</td>\n",
       "      <td>Phineas</td>\n",
       "      <td>This is Phineas. He's a mystical boy. Only ever appears in the hole of a donut.</td>\n",
       "      <td>1</td>\n",
       "      <td>orange</td>\n",
       "      <td>...</td>\n",
       "      <td>False</td>\n",
       "      <td>bagel</td>\n",
       "      <td>0.085851</td>\n",
       "      <td>False</td>\n",
       "      <td>banana</td>\n",
       "      <td>0.076110</td>\n",
       "      <td>False</td>\n",
       "      <td>7759</td>\n",
       "      <td>36489</td>\n",
       "      <td>85</td>\n",
       "    </tr>\n",
       "    <tr>\n",
       "      <th>1</th>\n",
       "      <td>1</td>\n",
       "      <td>892177421306343426</td>\n",
       "      <td>2017-08-01 00:17:27+00:00</td>\n",
       "      <td>Twitter for iPhone</td>\n",
       "      <td>13.0</td>\n",
       "      <td>10.0</td>\n",
       "      <td>Tilly</td>\n",
       "      <td>This is Tilly. She's just checking pup on you. Hopes you're doing ok. If not, she's available for pats, snugs, boops, the whole bit.</td>\n",
       "      <td>1</td>\n",
       "      <td>Chihuahua</td>\n",
       "      <td>...</td>\n",
       "      <td>True</td>\n",
       "      <td>Pekinese</td>\n",
       "      <td>0.090647</td>\n",
       "      <td>True</td>\n",
       "      <td>papillon</td>\n",
       "      <td>0.068957</td>\n",
       "      <td>True</td>\n",
       "      <td>5752</td>\n",
       "      <td>31449</td>\n",
       "      <td>138</td>\n",
       "    </tr>\n",
       "    <tr>\n",
       "      <th>2</th>\n",
       "      <td>2</td>\n",
       "      <td>891815181378084864</td>\n",
       "      <td>2017-07-31 00:18:03+00:00</td>\n",
       "      <td>Twitter for iPhone</td>\n",
       "      <td>12.0</td>\n",
       "      <td>10.0</td>\n",
       "      <td>Archie</td>\n",
       "      <td>This is Archie. He is a rare Norwegian Pouncing Corgo. Lives in the tall grass. You never know when one may strike.</td>\n",
       "      <td>1</td>\n",
       "      <td>Chihuahua</td>\n",
       "      <td>...</td>\n",
       "      <td>True</td>\n",
       "      <td>malamute</td>\n",
       "      <td>0.078253</td>\n",
       "      <td>True</td>\n",
       "      <td>kelpie</td>\n",
       "      <td>0.031379</td>\n",
       "      <td>True</td>\n",
       "      <td>3808</td>\n",
       "      <td>23699</td>\n",
       "      <td>121</td>\n",
       "    </tr>\n",
       "    <tr>\n",
       "      <th>3</th>\n",
       "      <td>3</td>\n",
       "      <td>891689557279858688</td>\n",
       "      <td>2017-07-30 15:58:51+00:00</td>\n",
       "      <td>Twitter for iPhone</td>\n",
       "      <td>13.0</td>\n",
       "      <td>10.0</td>\n",
       "      <td>Darla</td>\n",
       "      <td>This is Darla. She commenced a snooze mid meal.  happens to the best of us</td>\n",
       "      <td>1</td>\n",
       "      <td>paper_towel</td>\n",
       "      <td>...</td>\n",
       "      <td>False</td>\n",
       "      <td>Labrador_retriever</td>\n",
       "      <td>0.168086</td>\n",
       "      <td>True</td>\n",
       "      <td>spatula</td>\n",
       "      <td>0.040836</td>\n",
       "      <td>False</td>\n",
       "      <td>7926</td>\n",
       "      <td>39825</td>\n",
       "      <td>79</td>\n",
       "    </tr>\n",
       "    <tr>\n",
       "      <th>4</th>\n",
       "      <td>4</td>\n",
       "      <td>891327558926688256</td>\n",
       "      <td>2017-07-29 16:00:24+00:00</td>\n",
       "      <td>Twitter for iPhone</td>\n",
       "      <td>12.0</td>\n",
       "      <td>10.0</td>\n",
       "      <td>Franklin</td>\n",
       "      <td>This is Franklin. He would like you to stop calling him \"cute.\" He is a very fierce shark and should be respected as such.  #BarkWeek</td>\n",
       "      <td>2</td>\n",
       "      <td>basset</td>\n",
       "      <td>...</td>\n",
       "      <td>True</td>\n",
       "      <td>English_springer</td>\n",
       "      <td>0.225770</td>\n",
       "      <td>True</td>\n",
       "      <td>German_short-haired_pointer</td>\n",
       "      <td>0.175219</td>\n",
       "      <td>True</td>\n",
       "      <td>8555</td>\n",
       "      <td>38021</td>\n",
       "      <td>138</td>\n",
       "    </tr>\n",
       "  </tbody>\n",
       "</table>\n",
       "<p>5 rows × 21 columns</p>\n",
       "</div>"
      ],
      "text/plain": [
       "   index            tweet_id                 timestamp              source  \\\n",
       "0  0      892420643555336193 2017-08-01 16:23:56+00:00  Twitter for iPhone   \n",
       "1  1      892177421306343426 2017-08-01 00:17:27+00:00  Twitter for iPhone   \n",
       "2  2      891815181378084864 2017-07-31 00:18:03+00:00  Twitter for iPhone   \n",
       "3  3      891689557279858688 2017-07-30 15:58:51+00:00  Twitter for iPhone   \n",
       "4  4      891327558926688256 2017-07-29 16:00:24+00:00  Twitter for iPhone   \n",
       "\n",
       "   rating_numerator  rating_denominator      name  \\\n",
       "0  13.0              10.0                Phineas    \n",
       "1  13.0              10.0                Tilly      \n",
       "2  12.0              10.0                Archie     \n",
       "3  13.0              10.0                Darla      \n",
       "4  12.0              10.0                Franklin   \n",
       "\n",
       "                                                                                                                                Full_text  \\\n",
       "0  This is Phineas. He's a mystical boy. Only ever appears in the hole of a donut.                                                          \n",
       "1  This is Tilly. She's just checking pup on you. Hopes you're doing ok. If not, she's available for pats, snugs, boops, the whole bit.     \n",
       "2  This is Archie. He is a rare Norwegian Pouncing Corgo. Lives in the tall grass. You never know when one may strike.                      \n",
       "3  This is Darla. She commenced a snooze mid meal.  happens to the best of us                                                               \n",
       "4  This is Franklin. He would like you to stop calling him \"cute.\" He is a very fierce shark and should be respected as such.  #BarkWeek    \n",
       "\n",
       "   img_num           p1  ...  p1_dog                  p2   p2_conf  p2_dog  \\\n",
       "0  1        orange       ...  False   bagel               0.085851  False    \n",
       "1  1        Chihuahua    ...  True    Pekinese            0.090647  True     \n",
       "2  1        Chihuahua    ...  True    malamute            0.078253  True     \n",
       "3  1        paper_towel  ...  False   Labrador_retriever  0.168086  True     \n",
       "4  2        basset       ...  True    English_springer    0.225770  True     \n",
       "\n",
       "                            p3   p3_conf  p3_dog  retweet_count  \\\n",
       "0  banana                       0.076110  False   7759            \n",
       "1  papillon                     0.068957  True    5752            \n",
       "2  kelpie                       0.031379  True    3808            \n",
       "3  spatula                      0.040836  False   7926            \n",
       "4  German_short-haired_pointer  0.175219  True    8555            \n",
       "\n",
       "   favorite_count  text_len  \n",
       "0  36489           85        \n",
       "1  31449           138       \n",
       "2  23699           121       \n",
       "3  39825           79        \n",
       "4  38021           138       \n",
       "\n",
       "[5 rows x 21 columns]"
      ]
     },
     "execution_count": 96,
     "metadata": {},
     "output_type": "execute_result"
    }
   ],
   "source": [
    "# test\n",
    "twitter_clean.head()"
   ]
  },
  {
   "cell_type": "code",
   "execution_count": 97,
   "metadata": {},
   "outputs": [],
   "source": [
    "# create a csv file for clean data.\n",
    "twitter_clean.to_csv('twitter_archive_master.csv', sep=',', encoding='utf-8',index=False);"
   ]
  },
  {
   "cell_type": "code",
   "execution_count": 98,
   "metadata": {},
   "outputs": [],
   "source": [
    "# create a sqlite database for clean data.\n",
    "engine = create_engine('sqlite:///twitter_archive_master.db', echo=False)\n",
    "twitter_clean.to_sql('twitter_archive_master', con=engine,if_exists='replace')"
   ]
  },
  {
   "cell_type": "markdown",
   "metadata": {},
   "source": [
    "<a id='4'></a>\n",
    "## 4 Exploratory Data Analysis\n",
    "In this section, we use the clean data to answer the following questions:\n",
    "* Which tweet has the most retweets and/or the most likes?\n",
    "* Which breed of dogs has the most tweets based on the predictions, what about the trend of breeds?\n",
    "* What is the trend of average content length, retweet counts and favorite counts?\n",
    "* Any relationship beween retweet count and favorite count?"
   ]
  },
  {
   "cell_type": "code",
   "execution_count": 99,
   "metadata": {},
   "outputs": [],
   "source": [
    "df = pd.read_csv('twitter_archive_master.csv')"
   ]
  },
  {
   "cell_type": "code",
   "execution_count": 100,
   "metadata": {},
   "outputs": [
    {
     "data": {
      "text/html": [
       "<div>\n",
       "<style scoped>\n",
       "    .dataframe tbody tr th:only-of-type {\n",
       "        vertical-align: middle;\n",
       "    }\n",
       "\n",
       "    .dataframe tbody tr th {\n",
       "        vertical-align: top;\n",
       "    }\n",
       "\n",
       "    .dataframe thead th {\n",
       "        text-align: right;\n",
       "    }\n",
       "</style>\n",
       "<table border=\"1\" class=\"dataframe\">\n",
       "  <thead>\n",
       "    <tr style=\"text-align: right;\">\n",
       "      <th></th>\n",
       "      <th>index</th>\n",
       "      <th>tweet_id</th>\n",
       "      <th>timestamp</th>\n",
       "      <th>source</th>\n",
       "      <th>rating_numerator</th>\n",
       "      <th>rating_denominator</th>\n",
       "      <th>name</th>\n",
       "      <th>Full_text</th>\n",
       "      <th>img_num</th>\n",
       "      <th>p1</th>\n",
       "      <th>...</th>\n",
       "      <th>p1_dog</th>\n",
       "      <th>p2</th>\n",
       "      <th>p2_conf</th>\n",
       "      <th>p2_dog</th>\n",
       "      <th>p3</th>\n",
       "      <th>p3_conf</th>\n",
       "      <th>p3_dog</th>\n",
       "      <th>retweet_count</th>\n",
       "      <th>favorite_count</th>\n",
       "      <th>text_len</th>\n",
       "    </tr>\n",
       "  </thead>\n",
       "  <tbody>\n",
       "    <tr>\n",
       "      <th>0</th>\n",
       "      <td>0</td>\n",
       "      <td>892420643555336193</td>\n",
       "      <td>2017-08-01 16:23:56+00:00</td>\n",
       "      <td>Twitter for iPhone</td>\n",
       "      <td>13.0</td>\n",
       "      <td>10.0</td>\n",
       "      <td>Phineas</td>\n",
       "      <td>This is Phineas. He's a mystical boy. Only ever appears in the hole of a donut.</td>\n",
       "      <td>1</td>\n",
       "      <td>orange</td>\n",
       "      <td>...</td>\n",
       "      <td>False</td>\n",
       "      <td>bagel</td>\n",
       "      <td>0.085851</td>\n",
       "      <td>False</td>\n",
       "      <td>banana</td>\n",
       "      <td>0.076110</td>\n",
       "      <td>False</td>\n",
       "      <td>7759</td>\n",
       "      <td>36489</td>\n",
       "      <td>85</td>\n",
       "    </tr>\n",
       "    <tr>\n",
       "      <th>1</th>\n",
       "      <td>1</td>\n",
       "      <td>892177421306343426</td>\n",
       "      <td>2017-08-01 00:17:27+00:00</td>\n",
       "      <td>Twitter for iPhone</td>\n",
       "      <td>13.0</td>\n",
       "      <td>10.0</td>\n",
       "      <td>Tilly</td>\n",
       "      <td>This is Tilly. She's just checking pup on you. Hopes you're doing ok. If not, she's available for pats, snugs, boops, the whole bit.</td>\n",
       "      <td>1</td>\n",
       "      <td>Chihuahua</td>\n",
       "      <td>...</td>\n",
       "      <td>True</td>\n",
       "      <td>Pekinese</td>\n",
       "      <td>0.090647</td>\n",
       "      <td>True</td>\n",
       "      <td>papillon</td>\n",
       "      <td>0.068957</td>\n",
       "      <td>True</td>\n",
       "      <td>5752</td>\n",
       "      <td>31449</td>\n",
       "      <td>138</td>\n",
       "    </tr>\n",
       "    <tr>\n",
       "      <th>2</th>\n",
       "      <td>2</td>\n",
       "      <td>891815181378084864</td>\n",
       "      <td>2017-07-31 00:18:03+00:00</td>\n",
       "      <td>Twitter for iPhone</td>\n",
       "      <td>12.0</td>\n",
       "      <td>10.0</td>\n",
       "      <td>Archie</td>\n",
       "      <td>This is Archie. He is a rare Norwegian Pouncing Corgo. Lives in the tall grass. You never know when one may strike.</td>\n",
       "      <td>1</td>\n",
       "      <td>Chihuahua</td>\n",
       "      <td>...</td>\n",
       "      <td>True</td>\n",
       "      <td>malamute</td>\n",
       "      <td>0.078253</td>\n",
       "      <td>True</td>\n",
       "      <td>kelpie</td>\n",
       "      <td>0.031379</td>\n",
       "      <td>True</td>\n",
       "      <td>3808</td>\n",
       "      <td>23699</td>\n",
       "      <td>121</td>\n",
       "    </tr>\n",
       "    <tr>\n",
       "      <th>3</th>\n",
       "      <td>3</td>\n",
       "      <td>891689557279858688</td>\n",
       "      <td>2017-07-30 15:58:51+00:00</td>\n",
       "      <td>Twitter for iPhone</td>\n",
       "      <td>13.0</td>\n",
       "      <td>10.0</td>\n",
       "      <td>Darla</td>\n",
       "      <td>This is Darla. She commenced a snooze mid meal.  happens to the best of us</td>\n",
       "      <td>1</td>\n",
       "      <td>paper_towel</td>\n",
       "      <td>...</td>\n",
       "      <td>False</td>\n",
       "      <td>Labrador_retriever</td>\n",
       "      <td>0.168086</td>\n",
       "      <td>True</td>\n",
       "      <td>spatula</td>\n",
       "      <td>0.040836</td>\n",
       "      <td>False</td>\n",
       "      <td>7926</td>\n",
       "      <td>39825</td>\n",
       "      <td>79</td>\n",
       "    </tr>\n",
       "    <tr>\n",
       "      <th>4</th>\n",
       "      <td>4</td>\n",
       "      <td>891327558926688256</td>\n",
       "      <td>2017-07-29 16:00:24+00:00</td>\n",
       "      <td>Twitter for iPhone</td>\n",
       "      <td>12.0</td>\n",
       "      <td>10.0</td>\n",
       "      <td>Franklin</td>\n",
       "      <td>This is Franklin. He would like you to stop calling him \"cute.\" He is a very fierce shark and should be respected as such.  #BarkWeek</td>\n",
       "      <td>2</td>\n",
       "      <td>basset</td>\n",
       "      <td>...</td>\n",
       "      <td>True</td>\n",
       "      <td>English_springer</td>\n",
       "      <td>0.225770</td>\n",
       "      <td>True</td>\n",
       "      <td>German_short-haired_pointer</td>\n",
       "      <td>0.175219</td>\n",
       "      <td>True</td>\n",
       "      <td>8555</td>\n",
       "      <td>38021</td>\n",
       "      <td>138</td>\n",
       "    </tr>\n",
       "  </tbody>\n",
       "</table>\n",
       "<p>5 rows × 21 columns</p>\n",
       "</div>"
      ],
      "text/plain": [
       "   index            tweet_id                  timestamp              source  \\\n",
       "0  0      892420643555336193  2017-08-01 16:23:56+00:00  Twitter for iPhone   \n",
       "1  1      892177421306343426  2017-08-01 00:17:27+00:00  Twitter for iPhone   \n",
       "2  2      891815181378084864  2017-07-31 00:18:03+00:00  Twitter for iPhone   \n",
       "3  3      891689557279858688  2017-07-30 15:58:51+00:00  Twitter for iPhone   \n",
       "4  4      891327558926688256  2017-07-29 16:00:24+00:00  Twitter for iPhone   \n",
       "\n",
       "   rating_numerator  rating_denominator      name  \\\n",
       "0  13.0              10.0                Phineas    \n",
       "1  13.0              10.0                Tilly      \n",
       "2  12.0              10.0                Archie     \n",
       "3  13.0              10.0                Darla      \n",
       "4  12.0              10.0                Franklin   \n",
       "\n",
       "                                                                                                                                Full_text  \\\n",
       "0  This is Phineas. He's a mystical boy. Only ever appears in the hole of a donut.                                                          \n",
       "1  This is Tilly. She's just checking pup on you. Hopes you're doing ok. If not, she's available for pats, snugs, boops, the whole bit.     \n",
       "2  This is Archie. He is a rare Norwegian Pouncing Corgo. Lives in the tall grass. You never know when one may strike.                      \n",
       "3  This is Darla. She commenced a snooze mid meal.  happens to the best of us                                                               \n",
       "4  This is Franklin. He would like you to stop calling him \"cute.\" He is a very fierce shark and should be respected as such.  #BarkWeek    \n",
       "\n",
       "   img_num           p1  ...  p1_dog                  p2   p2_conf  p2_dog  \\\n",
       "0  1        orange       ...  False   bagel               0.085851  False    \n",
       "1  1        Chihuahua    ...  True    Pekinese            0.090647  True     \n",
       "2  1        Chihuahua    ...  True    malamute            0.078253  True     \n",
       "3  1        paper_towel  ...  False   Labrador_retriever  0.168086  True     \n",
       "4  2        basset       ...  True    English_springer    0.225770  True     \n",
       "\n",
       "                            p3   p3_conf  p3_dog  retweet_count  \\\n",
       "0  banana                       0.076110  False   7759            \n",
       "1  papillon                     0.068957  True    5752            \n",
       "2  kelpie                       0.031379  True    3808            \n",
       "3  spatula                      0.040836  False   7926            \n",
       "4  German_short-haired_pointer  0.175219  True    8555            \n",
       "\n",
       "   favorite_count  text_len  \n",
       "0  36489           85        \n",
       "1  31449           138       \n",
       "2  23699           121       \n",
       "3  39825           79        \n",
       "4  38021           138       \n",
       "\n",
       "[5 rows x 21 columns]"
      ]
     },
     "execution_count": 100,
     "metadata": {},
     "output_type": "execute_result"
    }
   ],
   "source": [
    "df.head()"
   ]
  },
  {
   "cell_type": "code",
   "execution_count": 101,
   "metadata": {},
   "outputs": [
    {
     "name": "stdout",
     "output_type": "stream",
     "text": [
      "<class 'pandas.core.frame.DataFrame'>\n",
      "RangeIndex: 1964 entries, 0 to 1963\n",
      "Data columns (total 21 columns):\n",
      " #   Column              Non-Null Count  Dtype  \n",
      "---  ------              --------------  -----  \n",
      " 0   index               1964 non-null   int64  \n",
      " 1   tweet_id            1964 non-null   int64  \n",
      " 2   timestamp           1964 non-null   object \n",
      " 3   source              1964 non-null   object \n",
      " 4   rating_numerator    1560 non-null   float64\n",
      " 5   rating_denominator  1560 non-null   float64\n",
      " 6   name                1964 non-null   object \n",
      " 7   Full_text           1964 non-null   object \n",
      " 8   img_num             1964 non-null   int64  \n",
      " 9   p1                  1964 non-null   object \n",
      " 10  p1_conf             1964 non-null   float64\n",
      " 11  p1_dog              1964 non-null   bool   \n",
      " 12  p2                  1964 non-null   object \n",
      " 13  p2_conf             1964 non-null   float64\n",
      " 14  p2_dog              1964 non-null   bool   \n",
      " 15  p3                  1964 non-null   object \n",
      " 16  p3_conf             1964 non-null   float64\n",
      " 17  p3_dog              1964 non-null   bool   \n",
      " 18  retweet_count       1964 non-null   int64  \n",
      " 19  favorite_count      1964 non-null   int64  \n",
      " 20  text_len            1964 non-null   int64  \n",
      "dtypes: bool(3), float64(5), int64(6), object(7)\n",
      "memory usage: 282.1+ KB\n"
     ]
    }
   ],
   "source": [
    "df.info()"
   ]
  },
  {
   "cell_type": "code",
   "execution_count": 102,
   "metadata": {},
   "outputs": [],
   "source": [
    "df_clean = df.copy()"
   ]
  },
  {
   "cell_type": "markdown",
   "metadata": {},
   "source": [
    "### 4.1 Data clean\n",
    "\n",
    "Based on the questions mentioned above, table `df` are modified by the following steps:\n",
    "* **Drop columns related with prediction 2 and prediction 3**: Since prediction 1 has the highest confidence, prediction 1 is used as the final results.\n",
    "* **Create new columns `Month`,`DayofWeek`,`Time`**：month, day of week and time are extracted and stored individually to study different trends over time.\n",
    "* **create rate ratio**: rating_numerator divides rating_denominator"
   ]
  },
  {
   "cell_type": "markdown",
   "metadata": {},
   "source": [
    "#### 4.1.1 Drop columns related with prediction 2 and prediction 3"
   ]
  },
  {
   "cell_type": "code",
   "execution_count": 103,
   "metadata": {},
   "outputs": [
    {
     "name": "stdout",
     "output_type": "stream",
     "text": [
      "<class 'pandas.core.frame.DataFrame'>\n",
      "RangeIndex: 1964 entries, 0 to 1963\n",
      "Data columns (total 15 columns):\n",
      " #   Column              Non-Null Count  Dtype  \n",
      "---  ------              --------------  -----  \n",
      " 0   index               1964 non-null   int64  \n",
      " 1   tweet_id            1964 non-null   int64  \n",
      " 2   timestamp           1964 non-null   object \n",
      " 3   source              1964 non-null   object \n",
      " 4   rating_numerator    1560 non-null   float64\n",
      " 5   rating_denominator  1560 non-null   float64\n",
      " 6   name                1964 non-null   object \n",
      " 7   Full_text           1964 non-null   object \n",
      " 8   img_num             1964 non-null   int64  \n",
      " 9   p1                  1964 non-null   object \n",
      " 10  p1_conf             1964 non-null   float64\n",
      " 11  p1_dog              1964 non-null   bool   \n",
      " 12  retweet_count       1964 non-null   int64  \n",
      " 13  favorite_count      1964 non-null   int64  \n",
      " 14  text_len            1964 non-null   int64  \n",
      "dtypes: bool(1), float64(3), int64(6), object(5)\n",
      "memory usage: 216.9+ KB\n"
     ]
    }
   ],
   "source": [
    "drop_cols= ['p2','p2_conf','p2_dog','p3','p3_conf','p3_dog']\n",
    "df_clean.drop(drop_cols,axis=1,inplace = True)\n",
    "df_clean.info()"
   ]
  },
  {
   "cell_type": "markdown",
   "metadata": {},
   "source": [
    "#### 4.1.2 create new columns `Date`,`Month`, `DayofWeek`, `Time`"
   ]
  },
  {
   "cell_type": "code",
   "execution_count": 104,
   "metadata": {},
   "outputs": [],
   "source": [
    "# create a year column:\n",
    "df_clean.timestamp = pd.to_datetime(df_clean.timestamp)"
   ]
  },
  {
   "cell_type": "code",
   "execution_count": 105,
   "metadata": {},
   "outputs": [
    {
     "data": {
      "text/plain": [
       "(Timestamp('2015-11-15 22:32:08+0000', tz='UTC'),\n",
       " Timestamp('2017-08-01 16:23:56+0000', tz='UTC'))"
      ]
     },
     "execution_count": 105,
     "metadata": {},
     "output_type": "execute_result"
    }
   ],
   "source": [
    "df_clean.timestamp.min(), df_clean.timestamp.max()"
   ]
  },
  {
   "cell_type": "code",
   "execution_count": 106,
   "metadata": {},
   "outputs": [],
   "source": [
    "df_clean['Date'] = df_clean.timestamp.dt.date"
   ]
  },
  {
   "cell_type": "code",
   "execution_count": 107,
   "metadata": {},
   "outputs": [],
   "source": [
    "df_clean['Month'] = df_clean.timestamp.dt.month"
   ]
  },
  {
   "cell_type": "code",
   "execution_count": 108,
   "metadata": {},
   "outputs": [],
   "source": [
    "df_clean['DayofWeek'] = df_clean.timestamp.dt.dayofweek"
   ]
  },
  {
   "cell_type": "code",
   "execution_count": 109,
   "metadata": {},
   "outputs": [],
   "source": [
    "df_clean['PartsOfDay'] = df_clean.timestamp.dt.hour"
   ]
  },
  {
   "cell_type": "code",
   "execution_count": 110,
   "metadata": {},
   "outputs": [
    {
     "data": {
      "text/html": [
       "<div>\n",
       "<style scoped>\n",
       "    .dataframe tbody tr th:only-of-type {\n",
       "        vertical-align: middle;\n",
       "    }\n",
       "\n",
       "    .dataframe tbody tr th {\n",
       "        vertical-align: top;\n",
       "    }\n",
       "\n",
       "    .dataframe thead th {\n",
       "        text-align: right;\n",
       "    }\n",
       "</style>\n",
       "<table border=\"1\" class=\"dataframe\">\n",
       "  <thead>\n",
       "    <tr style=\"text-align: right;\">\n",
       "      <th></th>\n",
       "      <th>Month</th>\n",
       "      <th>DayofWeek</th>\n",
       "      <th>PartsOfDay</th>\n",
       "    </tr>\n",
       "  </thead>\n",
       "  <tbody>\n",
       "    <tr>\n",
       "      <th>count</th>\n",
       "      <td>1964.000000</td>\n",
       "      <td>1964.000000</td>\n",
       "      <td>1964.000000</td>\n",
       "    </tr>\n",
       "    <tr>\n",
       "      <th>mean</th>\n",
       "      <td>7.170061</td>\n",
       "      <td>2.839104</td>\n",
       "      <td>9.732179</td>\n",
       "    </tr>\n",
       "    <tr>\n",
       "      <th>std</th>\n",
       "      <td>4.119286</td>\n",
       "      <td>2.005235</td>\n",
       "      <td>8.627077</td>\n",
       "    </tr>\n",
       "    <tr>\n",
       "      <th>min</th>\n",
       "      <td>1.000000</td>\n",
       "      <td>0.000000</td>\n",
       "      <td>0.000000</td>\n",
       "    </tr>\n",
       "    <tr>\n",
       "      <th>25%</th>\n",
       "      <td>3.000000</td>\n",
       "      <td>1.000000</td>\n",
       "      <td>1.000000</td>\n",
       "    </tr>\n",
       "    <tr>\n",
       "      <th>50%</th>\n",
       "      <td>7.000000</td>\n",
       "      <td>3.000000</td>\n",
       "      <td>4.000000</td>\n",
       "    </tr>\n",
       "    <tr>\n",
       "      <th>75%</th>\n",
       "      <td>11.000000</td>\n",
       "      <td>5.000000</td>\n",
       "      <td>18.000000</td>\n",
       "    </tr>\n",
       "    <tr>\n",
       "      <th>max</th>\n",
       "      <td>12.000000</td>\n",
       "      <td>6.000000</td>\n",
       "      <td>23.000000</td>\n",
       "    </tr>\n",
       "  </tbody>\n",
       "</table>\n",
       "</div>"
      ],
      "text/plain": [
       "             Month    DayofWeek   PartsOfDay\n",
       "count  1964.000000  1964.000000  1964.000000\n",
       "mean   7.170061     2.839104     9.732179   \n",
       "std    4.119286     2.005235     8.627077   \n",
       "min    1.000000     0.000000     0.000000   \n",
       "25%    3.000000     1.000000     1.000000   \n",
       "50%    7.000000     3.000000     4.000000   \n",
       "75%    11.000000    5.000000     18.000000  \n",
       "max    12.000000    6.000000     23.000000  "
      ]
     },
     "execution_count": 110,
     "metadata": {},
     "output_type": "execute_result"
    }
   ],
   "source": [
    "df_clean[['Month','DayofWeek','PartsOfDay']].describe()"
   ]
  },
  {
   "cell_type": "markdown",
   "metadata": {},
   "source": [
    "#### 4.1.3 create new column `rate_ratio`"
   ]
  },
  {
   "cell_type": "code",
   "execution_count": 111,
   "metadata": {},
   "outputs": [],
   "source": [
    "df_clean['rate_ratio'] = df_clean.rating_numerator/df_clean.rating_denominator"
   ]
  },
  {
   "cell_type": "code",
   "execution_count": 112,
   "metadata": {},
   "outputs": [
    {
     "data": {
      "text/plain": [
       "count    1560.000000\n",
       "mean     1.287358   \n",
       "std      4.589877   \n",
       "min      0.900000   \n",
       "25%      1.000000   \n",
       "50%      1.100000   \n",
       "75%      1.200000   \n",
       "max      177.600000 \n",
       "Name: rate_ratio, dtype: float64"
      ]
     },
     "execution_count": 112,
     "metadata": {},
     "output_type": "execute_result"
    }
   ],
   "source": [
    "df_clean['rate_ratio'].describe()"
   ]
  },
  {
   "cell_type": "markdown",
   "metadata": {},
   "source": [
    "### 4.2 Data analysis and Visualization "
   ]
  },
  {
   "cell_type": "markdown",
   "metadata": {},
   "source": [
    "#### 4.2.0 General analysis"
   ]
  },
  {
   "cell_type": "code",
   "execution_count": 113,
   "metadata": {},
   "outputs": [
    {
     "data": {
      "text/html": [
       "<div>\n",
       "<style scoped>\n",
       "    .dataframe tbody tr th:only-of-type {\n",
       "        vertical-align: middle;\n",
       "    }\n",
       "\n",
       "    .dataframe tbody tr th {\n",
       "        vertical-align: top;\n",
       "    }\n",
       "\n",
       "    .dataframe thead th {\n",
       "        text-align: right;\n",
       "    }\n",
       "</style>\n",
       "<table border=\"1\" class=\"dataframe\">\n",
       "  <thead>\n",
       "    <tr style=\"text-align: right;\">\n",
       "      <th></th>\n",
       "      <th>retweet_count</th>\n",
       "      <th>favorite_count</th>\n",
       "    </tr>\n",
       "  </thead>\n",
       "  <tbody>\n",
       "    <tr>\n",
       "      <th>count</th>\n",
       "      <td>1964.000000</td>\n",
       "      <td>1964.000000</td>\n",
       "    </tr>\n",
       "    <tr>\n",
       "      <th>mean</th>\n",
       "      <td>2492.574847</td>\n",
       "      <td>8396.269348</td>\n",
       "    </tr>\n",
       "    <tr>\n",
       "      <th>std</th>\n",
       "      <td>4453.491562</td>\n",
       "      <td>12336.457384</td>\n",
       "    </tr>\n",
       "    <tr>\n",
       "      <th>min</th>\n",
       "      <td>11.000000</td>\n",
       "      <td>72.000000</td>\n",
       "    </tr>\n",
       "    <tr>\n",
       "      <th>25%</th>\n",
       "      <td>556.750000</td>\n",
       "      <td>1795.750000</td>\n",
       "    </tr>\n",
       "    <tr>\n",
       "      <th>50%</th>\n",
       "      <td>1203.500000</td>\n",
       "      <td>3800.500000</td>\n",
       "    </tr>\n",
       "    <tr>\n",
       "      <th>75%</th>\n",
       "      <td>2842.750000</td>\n",
       "      <td>10451.750000</td>\n",
       "    </tr>\n",
       "    <tr>\n",
       "      <th>max</th>\n",
       "      <td>78486.000000</td>\n",
       "      <td>157726.000000</td>\n",
       "    </tr>\n",
       "  </tbody>\n",
       "</table>\n",
       "</div>"
      ],
      "text/plain": [
       "       retweet_count  favorite_count\n",
       "count  1964.000000    1964.000000   \n",
       "mean   2492.574847    8396.269348   \n",
       "std    4453.491562    12336.457384  \n",
       "min    11.000000      72.000000     \n",
       "25%    556.750000     1795.750000   \n",
       "50%    1203.500000    3800.500000   \n",
       "75%    2842.750000    10451.750000  \n",
       "max    78486.000000   157726.000000 "
      ]
     },
     "execution_count": 113,
     "metadata": {},
     "output_type": "execute_result"
    }
   ],
   "source": [
    "df_clean[['retweet_count','favorite_count']].describe()"
   ]
  },
  {
   "cell_type": "code",
   "execution_count": 114,
   "metadata": {},
   "outputs": [
    {
     "data": {
      "image/png": "[encoded data removed]",
      "text/plain": [
       "<Figure size 432x288 with 1 Axes>"
      ]
     },
     "metadata": {
      "needs_background": "light"
     },
     "output_type": "display_data"
    }
   ],
   "source": [
    "ax = sns.distplot(df_clean['favorite_count'],bins=200)\n",
    "ax = sns.distplot(df_clean['retweet_count'],bins =200)\n",
    "ax.set_xlim(0,40000)\n",
    "plt.xlabel('Counts')\n",
    "plt.title('retweet count vs. favorite count')\n",
    "plt.legend(['favorite_count','retweet_count']);"
   ]
  },
  {
   "cell_type": "markdown",
   "metadata": {},
   "source": [
    "The favorite and retweet counts graph shows that the favorite count is higher than retweet_count in general. One proof is that most of tweets are retweeted less than 5000 times(located with in the interval 0-5000 counts), while tweets gained more likes (more tweets in the interval >5000 counts)."
   ]
  },
  {
   "cell_type": "code",
   "execution_count": 115,
   "metadata": {
    "scrolled": false
   },
   "outputs": [
    {
     "data": {
      "image/png": "[encoded data removed]",
      "text/plain": [
       "<Figure size 720x720 with 20 Axes>"
      ]
     },
     "metadata": {
      "needs_background": "light"
     },
     "output_type": "display_data"
    }
   ],
   "source": [
    "pair = df_clean[['retweet_count','favorite_count','p1','img_num','rate_ratio']]\n",
    "pair = pair[pair.rate_ratio <= 2]\n",
    "pair = pair.dropna()\n",
    "sns.pairplot(pair);"
   ]
  },
  {
   "cell_type": "markdown",
   "metadata": {},
   "source": [
    "The retweet count and favorite count is highly correlated. The rate ratio might overestimate the images based on the retweet count vs rate ratio and favorite count vs rate ratio. The more images in the tweet, the more likely it has a higher rate while has less chance to be retweeted or like."
   ]
  },
  {
   "cell_type": "markdown",
   "metadata": {},
   "source": [
    "#### 4.2.1  Which tweet has the most retweets and/or the most likes?"
   ]
  },
  {
   "cell_type": "code",
   "execution_count": 116,
   "metadata": {},
   "outputs": [],
   "source": [
    "def top_10(df,column):\n",
    "    top_10 = df.sort_values(by=[column],ascending=False)[[column,\n",
    "                                           'Full_text','p1']].head(10)\n",
    "    return top_10"
   ]
  },
  {
   "cell_type": "code",
   "execution_count": 117,
   "metadata": {},
   "outputs": [],
   "source": [
    "def plot(ax,xlabel,ylabel,title,labels,leg_labels = None):\n",
    "    plt.xlabel(xlabel)\n",
    "    plt.ylabel(ylabel)\n",
    "    plt.title(title)\n",
    "    ax.set_xticklabels(labels,rotation=70);\n",
    "    if leg_labels:\n",
    "        plt.legend(leg_labels);"
   ]
  },
  {
   "cell_type": "code",
   "execution_count": 118,
   "metadata": {},
   "outputs": [
    {
     "data": {
      "text/html": [
       "<div>\n",
       "<style scoped>\n",
       "    .dataframe tbody tr th:only-of-type {\n",
       "        vertical-align: middle;\n",
       "    }\n",
       "\n",
       "    .dataframe tbody tr th {\n",
       "        vertical-align: top;\n",
       "    }\n",
       "\n",
       "    .dataframe thead th {\n",
       "        text-align: right;\n",
       "    }\n",
       "</style>\n",
       "<table border=\"1\" class=\"dataframe\">\n",
       "  <thead>\n",
       "    <tr style=\"text-align: right;\">\n",
       "      <th></th>\n",
       "      <th>retweet_count</th>\n",
       "      <th>Full_text</th>\n",
       "      <th>p1</th>\n",
       "    </tr>\n",
       "  </thead>\n",
       "  <tbody>\n",
       "    <tr>\n",
       "      <th>763</th>\n",
       "      <td>78486</td>\n",
       "      <td>Here's a doggo realizing you can stand in a pool.  enlightened af (vid by Tina Conrad)</td>\n",
       "      <td>Labrador_retriever</td>\n",
       "    </tr>\n",
       "    <tr>\n",
       "      <th>798</th>\n",
       "      <td>58202</td>\n",
       "      <td>Here's a doggo blowing bubbles. It's downright legendary.  would watch on repeat forever (vid by Kent Duryee)</td>\n",
       "      <td>Eskimo_dog</td>\n",
       "    </tr>\n",
       "    <tr>\n",
       "      <th>393</th>\n",
       "      <td>57246</td>\n",
       "      <td>This is Stephan. He just wants to help.  such a good boy</td>\n",
       "      <td>Chihuahua</td>\n",
       "    </tr>\n",
       "    <tr>\n",
       "      <th>302</th>\n",
       "      <td>44250</td>\n",
       "      <td>Here's a super supportive puppo participating in the Toronto  #WomensMarch today.</td>\n",
       "      <td>Lakeland_terrier</td>\n",
       "    </tr>\n",
       "    <tr>\n",
       "      <th>58</th>\n",
       "      <td>40903</td>\n",
       "      <td>This is Duddles. He did an attempt.  someone help him (vid by Georgia Felici)</td>\n",
       "      <td>English_springer</td>\n",
       "    </tr>\n",
       "    <tr>\n",
       "      <th>326</th>\n",
       "      <td>37744</td>\n",
       "      <td>This is Bo. He was a very good First Doggo.  would be an absolute honor to pet</td>\n",
       "      <td>standard_poodle</td>\n",
       "    </tr>\n",
       "    <tr>\n",
       "      <th>395</th>\n",
       "      <td>35797</td>\n",
       "      <td>\"Good afternoon class today we're going to learn what makes a good boy so good\"</td>\n",
       "      <td>Arabian_camel</td>\n",
       "    </tr>\n",
       "    <tr>\n",
       "      <th>107</th>\n",
       "      <td>33221</td>\n",
       "      <td>This is Jamesy. He gives a kiss to every other pupper he sees on his walk.  such passion, much tender</td>\n",
       "      <td>French_bulldog</td>\n",
       "    </tr>\n",
       "    <tr>\n",
       "      <th>1402</th>\n",
       "      <td>31633</td>\n",
       "      <td>This made my day.  please enjoy</td>\n",
       "      <td>swing</td>\n",
       "    </tr>\n",
       "    <tr>\n",
       "      <th>1460</th>\n",
       "      <td>30582</td>\n",
       "      <td>This is Kenneth. He's stuck in a bubble.  hang in there Kenneth</td>\n",
       "      <td>bubble</td>\n",
       "    </tr>\n",
       "  </tbody>\n",
       "</table>\n",
       "</div>"
      ],
      "text/plain": [
       "      retweet_count  \\\n",
       "763   78486           \n",
       "798   58202           \n",
       "393   57246           \n",
       "302   44250           \n",
       "58    40903           \n",
       "326   37744           \n",
       "395   35797           \n",
       "107   33221           \n",
       "1402  31633           \n",
       "1460  30582           \n",
       "\n",
       "                                                                                                           Full_text  \\\n",
       "763   Here's a doggo realizing you can stand in a pool.  enlightened af (vid by Tina Conrad)                           \n",
       "798   Here's a doggo blowing bubbles. It's downright legendary.  would watch on repeat forever (vid by Kent Duryee)    \n",
       "393   This is Stephan. He just wants to help.  such a good boy                                                         \n",
       "302   Here's a super supportive puppo participating in the Toronto  #WomensMarch today.                                \n",
       "58    This is Duddles. He did an attempt.  someone help him (vid by Georgia Felici)                                    \n",
       "326   This is Bo. He was a very good First Doggo.  would be an absolute honor to pet                                   \n",
       "395   \"Good afternoon class today we're going to learn what makes a good boy so good\"                                  \n",
       "107   This is Jamesy. He gives a kiss to every other pupper he sees on his walk.  such passion, much tender            \n",
       "1402  This made my day.  please enjoy                                                                                  \n",
       "1460  This is Kenneth. He's stuck in a bubble.  hang in there Kenneth                                                  \n",
       "\n",
       "                      p1  \n",
       "763   Labrador_retriever  \n",
       "798   Eskimo_dog          \n",
       "393   Chihuahua           \n",
       "302   Lakeland_terrier    \n",
       "58    English_springer    \n",
       "326   standard_poodle     \n",
       "395   Arabian_camel       \n",
       "107   French_bulldog      \n",
       "1402  swing               \n",
       "1460  bubble              "
      ]
     },
     "execution_count": 118,
     "metadata": {},
     "output_type": "execute_result"
    }
   ],
   "source": [
    "top_10(df_clean,'retweet_count')"
   ]
  },
  {
   "cell_type": "code",
   "execution_count": 119,
   "metadata": {
    "scrolled": false
   },
   "outputs": [
    {
     "data": {
      "text/html": [
       "<div>\n",
       "<style scoped>\n",
       "    .dataframe tbody tr th:only-of-type {\n",
       "        vertical-align: middle;\n",
       "    }\n",
       "\n",
       "    .dataframe tbody tr th {\n",
       "        vertical-align: top;\n",
       "    }\n",
       "\n",
       "    .dataframe thead th {\n",
       "        text-align: right;\n",
       "    }\n",
       "</style>\n",
       "<table border=\"1\" class=\"dataframe\">\n",
       "  <thead>\n",
       "    <tr style=\"text-align: right;\">\n",
       "      <th></th>\n",
       "      <th>favorite_count</th>\n",
       "      <th>Full_text</th>\n",
       "      <th>p1</th>\n",
       "    </tr>\n",
       "  </thead>\n",
       "  <tbody>\n",
       "    <tr>\n",
       "      <th>763</th>\n",
       "      <td>157726</td>\n",
       "      <td>Here's a doggo realizing you can stand in a pool.  enlightened af (vid by Tina Conrad)</td>\n",
       "      <td>Labrador_retriever</td>\n",
       "    </tr>\n",
       "    <tr>\n",
       "      <th>302</th>\n",
       "      <td>134376</td>\n",
       "      <td>Here's a super supportive puppo participating in the Toronto  #WomensMarch today.</td>\n",
       "      <td>Lakeland_terrier</td>\n",
       "    </tr>\n",
       "    <tr>\n",
       "      <th>393</th>\n",
       "      <td>121747</td>\n",
       "      <td>This is Stephan. He just wants to help.  such a good boy</td>\n",
       "      <td>Chihuahua</td>\n",
       "    </tr>\n",
       "    <tr>\n",
       "      <th>107</th>\n",
       "      <td>117330</td>\n",
       "      <td>This is Jamesy. He gives a kiss to every other pupper he sees on his walk.  such passion, much tender</td>\n",
       "      <td>French_bulldog</td>\n",
       "    </tr>\n",
       "    <tr>\n",
       "      <th>798</th>\n",
       "      <td>116437</td>\n",
       "      <td>Here's a doggo blowing bubbles. It's downright legendary.  would watch on repeat forever (vid by Kent Duryee)</td>\n",
       "      <td>Eskimo_dog</td>\n",
       "    </tr>\n",
       "    <tr>\n",
       "      <th>58</th>\n",
       "      <td>100055</td>\n",
       "      <td>This is Duddles. He did an attempt.  someone help him (vid by Georgia Felici)</td>\n",
       "      <td>English_springer</td>\n",
       "    </tr>\n",
       "    <tr>\n",
       "      <th>326</th>\n",
       "      <td>88869</td>\n",
       "      <td>This is Bo. He was a very good First Doggo.  would be an absolute honor to pet</td>\n",
       "      <td>standard_poodle</td>\n",
       "    </tr>\n",
       "    <tr>\n",
       "      <th>133</th>\n",
       "      <td>87243</td>\n",
       "      <td>We only rate dogs. This is quite clearly a smol broken polar bear. We'd appreciate if you only send dogs. Thank you...</td>\n",
       "      <td>Angora</td>\n",
       "    </tr>\n",
       "    <tr>\n",
       "      <th>92</th>\n",
       "      <td>79103</td>\n",
       "      <td>This is Zoey. She really likes the planet. Would hate to see willful ignorance and the denial of fairly elemental science destroy it.</td>\n",
       "      <td>golden_retriever</td>\n",
       "    </tr>\n",
       "    <tr>\n",
       "      <th>1402</th>\n",
       "      <td>79020</td>\n",
       "      <td>This made my day.  please enjoy</td>\n",
       "      <td>swing</td>\n",
       "    </tr>\n",
       "  </tbody>\n",
       "</table>\n",
       "</div>"
      ],
      "text/plain": [
       "      favorite_count  \\\n",
       "763   157726           \n",
       "302   134376           \n",
       "393   121747           \n",
       "107   117330           \n",
       "798   116437           \n",
       "58    100055           \n",
       "326   88869            \n",
       "133   87243            \n",
       "92    79103            \n",
       "1402  79020            \n",
       "\n",
       "                                                                                                                                    Full_text  \\\n",
       "763   Here's a doggo realizing you can stand in a pool.  enlightened af (vid by Tina Conrad)                                                    \n",
       "302   Here's a super supportive puppo participating in the Toronto  #WomensMarch today.                                                         \n",
       "393   This is Stephan. He just wants to help.  such a good boy                                                                                  \n",
       "107   This is Jamesy. He gives a kiss to every other pupper he sees on his walk.  such passion, much tender                                     \n",
       "798   Here's a doggo blowing bubbles. It's downright legendary.  would watch on repeat forever (vid by Kent Duryee)                             \n",
       "58    This is Duddles. He did an attempt.  someone help him (vid by Georgia Felici)                                                             \n",
       "326   This is Bo. He was a very good First Doggo.  would be an absolute honor to pet                                                            \n",
       "133   We only rate dogs. This is quite clearly a smol broken polar bear. We'd appreciate if you only send dogs. Thank you...                    \n",
       "92    This is Zoey. She really likes the planet. Would hate to see willful ignorance and the denial of fairly elemental science destroy it.     \n",
       "1402  This made my day.  please enjoy                                                                                                           \n",
       "\n",
       "                      p1  \n",
       "763   Labrador_retriever  \n",
       "302   Lakeland_terrier    \n",
       "393   Chihuahua           \n",
       "107   French_bulldog      \n",
       "798   Eskimo_dog          \n",
       "58    English_springer    \n",
       "326   standard_poodle     \n",
       "133   Angora              \n",
       "92    golden_retriever    \n",
       "1402  swing               "
      ]
     },
     "execution_count": 119,
     "metadata": {},
     "output_type": "execute_result"
    }
   ],
   "source": [
    "top_10(df_clean,'favorite_count')"
   ]
  },
  {
   "cell_type": "code",
   "execution_count": 120,
   "metadata": {},
   "outputs": [
    {
     "data": {
      "text/plain": [
       "58      2.446153\n",
       "92     NaN      \n",
       "107     3.531802\n",
       "133    NaN      \n",
       "302     3.036746\n",
       "326     2.354520\n",
       "393     2.126734\n",
       "395    NaN      \n",
       "763     2.009607\n",
       "798     2.000567\n",
       "1402    2.498024\n",
       "1460   NaN      \n",
       "dtype: float64"
      ]
     },
     "execution_count": 120,
     "metadata": {},
     "output_type": "execute_result"
    }
   ],
   "source": [
    "fr_ratio = top_10(df_clean,'favorite_count').favorite_count/top_10(df_clean,'retweet_count').retweet_count\n",
    "fr_ratio"
   ]
  },
  {
   "cell_type": "code",
   "execution_count": 121,
   "metadata": {},
   "outputs": [
    {
     "data": {
      "text/plain": [
       "2.5005190892659654"
      ]
     },
     "execution_count": 121,
     "metadata": {},
     "output_type": "execute_result"
    }
   ],
   "source": [
    "# favorite to retweet count ratio.\n",
    "fr_ratio.mean()"
   ]
  },
  {
   "cell_type": "markdown",
   "metadata": {},
   "source": [
    "A Labrador retriever has gained the most retweets (78486) and favorite counts (157726). Eight tweets are in both ranking. In general, the favorite count is the 2.5 times the same as retweet count for these eight tweets. A more dedicate study on the relationship between favorite count and retweet counts is conducted in the following sections."
   ]
  },
  {
   "cell_type": "markdown",
   "metadata": {},
   "source": [
    "#### 4.2.2 Which breed of dogs have the most tweets based on the predictions?"
   ]
  },
  {
   "cell_type": "code",
   "execution_count": 122,
   "metadata": {},
   "outputs": [
    {
     "data": {
      "image/png": "[encoded data removed]",
      "text/plain": [
       "<Figure size 432x288 with 1 Axes>"
      ]
     },
     "metadata": {
      "needs_background": "light"
     },
     "output_type": "display_data"
    }
   ],
   "source": [
    "top10_breed = df_clean.p1.value_counts().head(10)\n",
    "ax = sns.barplot(x = top10_breed.index, y = top10_breed.values)\n",
    "plot(ax,'Breed','Total counts','Top 10 Breed',top10_breed.index)"
   ]
  },
  {
   "cell_type": "markdown",
   "metadata": {},
   "source": [
    "Top 10 breeds are golden retriever, labrador retriever, pembroke, Chihuahua, pug, chow, Samoyed, Pomeranian, toy poodle and malamute."
   ]
  },
  {
   "cell_type": "markdown",
   "metadata": {},
   "source": [
    "#### 4.2.3 What is the trend of average content length, retweet_count and favorite_count?"
   ]
  },
  {
   "cell_type": "code",
   "execution_count": 123,
   "metadata": {},
   "outputs": [],
   "source": [
    "# barplot and lineplot\n",
    "def time_plot(pltype,series,stats,axes=None):\n",
    "    series_mean = df_clean.groupby(series)[stats].mean()\n",
    "    if pltype == 'bar':\n",
    "        ax = sns.barplot(x = series_mean.index, y = series_mean.values,ax=axes)\n",
    "        plot(ax,series,'AVG ' + stats,'AVG '+ stats + ' by ' + series,series_mean.index)\n",
    "    if pltype == 'line':\n",
    "        ax = sns.lineplot(x = series_mean.index, y = series_mean.values,ax =axes)\n",
    "        plot(ax,'Date','AVG ' + stats,'AVG '+ stats + ' by ' + series,series_mean.index[1:-1:50])\n",
    "        rolling_mean = series_mean.rolling(window=30).mean()\n",
    "        plt.plot(rolling_mean, color='orange');"
   ]
  },
  {
   "cell_type": "code",
   "execution_count": 124,
   "metadata": {},
   "outputs": [],
   "source": [
    "def plot_compare(series,win):\n",
    "    fig, ax1 = plt.subplots()\n",
    "    for stats in ['retweet_count','favorite_count']:\n",
    "        series_mean = df_clean.groupby(series)[stats].mean()\n",
    "        rolling_mean = series_mean.rolling(window=win).mean()\n",
    "        plt.plot(rolling_mean);\n",
    "    plt.xticks(rotation=70)\n",
    "    plt.legend(labels = ['retweet_count','favorite_count'],loc='upper left')\n",
    "        \n",
    "    ax2 = ax1.twinx()\n",
    "    \n",
    "    color = 'tab:red'\n",
    "    stats = 'text_len'\n",
    "    series_mean = df_clean.groupby(series)[stats].mean()\n",
    "    rolling_mean = series_mean.rolling(window=win).mean()\n",
    "    ax2.set_ylabel('text_len', color=color)\n",
    "    ax2.plot(rolling_mean,color=color)\n",
    "    ax2.tick_params(axis='y', labelcolor=color)\n",
    "    plt.legend(labels = ['text_len'],loc='upper right')"
   ]
  },
  {
   "cell_type": "code",
   "execution_count": 125,
   "metadata": {},
   "outputs": [
    {
     "data": {
      "image/png": "[encoded data removed]",
      "text/plain": [
       "<Figure size 432x288 with 2 Axes>"
      ]
     },
     "metadata": {
      "needs_background": "light"
     },
     "output_type": "display_data"
    }
   ],
   "source": [
    "# General trend of retweet count, favorite count and text length. Moving average of 30 days\n",
    "stats = 'Date'\n",
    "plot_compare(stats,30)"
   ]
  },
  {
   "cell_type": "markdown",
   "metadata": {},
   "source": [
    "If we look at the general trend in the entire time period, both retweet count and favorite count follows the same pattern that increases steadily from 2015/12/15 to 2017/8/1, while the favorite count follows a higher growth rate. When it comes to text length, the trend is more complex. It seems people tending to write longer messages during winter and spring and less in the summer and autumn."
   ]
  },
  {
   "cell_type": "code",
   "execution_count": 126,
   "metadata": {
    "scrolled": true
   },
   "outputs": [
    {
     "data": {
      "image/png": "[encoded data removed]",
      "text/plain": [
       "<Figure size 432x288 with 2 Axes>"
      ]
     },
     "metadata": {
      "needs_background": "light"
     },
     "output_type": "display_data"
    }
   ],
   "source": [
    "stats = 'Month'\n",
    "plot_compare(stats,1)\n",
    "plt.xticks(np.arange(13),calendar.month_abbr[0:13]);"
   ]
  },
  {
   "cell_type": "markdown",
   "metadata": {},
   "source": [
    "The figure above shows the general trends for different months. For text length, the trend is consistent with the trend in the previous figure that people write more in the cold months and less in the warm months\n",
    "\n",
    "Interestingly, opposite to the trend of text length, people tend to retweet and like more in the summer and less in the winter."
   ]
  },
  {
   "cell_type": "code",
   "execution_count": 127,
   "metadata": {},
   "outputs": [
    {
     "data": {
      "image/png": "[encoded data removed]",
      "text/plain": [
       "<Figure size 432x288 with 2 Axes>"
      ]
     },
     "metadata": {
      "needs_background": "light"
     },
     "output_type": "display_data"
    }
   ],
   "source": [
    "stats = 'DayofWeek'\n",
    "plot_compare(stats,1)\n",
    "plt.xticks(np.arange(7),calendar.day_abbr[0:7]);"
   ]
  },
  {
   "cell_type": "markdown",
   "metadata": {},
   "source": [
    "When it comes to different days in a week, three metrics follow a quite similar pattern that peaks on Wednesdays and Fridays, valleys on Thursdays."
   ]
  },
  {
   "cell_type": "markdown",
   "metadata": {},
   "source": [
    "#### 4.2.4 Any relationship between columns?"
   ]
  },
  {
   "cell_type": "code",
   "execution_count": 128,
   "metadata": {
    "scrolled": true
   },
   "outputs": [
    {
     "data": {
      "image/png": "[encoded data removed]",
      "text/plain": [
       "<Figure size 432x288 with 1 Axes>"
      ]
     },
     "metadata": {
      "needs_background": "light"
     },
     "output_type": "display_data"
    }
   ],
   "source": [
    "ax = sns.scatterplot(x=\"retweet_count\", y=\"favorite_count\",\n",
    "                     hue=\"img_num\", size=\"img_num\",\n",
    "                     data=df_clean)\n",
    "ax.set_xlim(0,25000)\n",
    "ax.set_ylim(0,70000);"
   ]
  },
  {
   "cell_type": "markdown",
   "metadata": {},
   "source": [
    "The scatter plot shows that favorite count and retweet counts has a positive relationship, however, these two variables are heteroscedastic. Heteroscedasticity leads to biased standard errors, therefore it reduce the precision of the coefficient estimates. Here we logarithmize data to correct the draw data.\n",
    "\n",
    "Unsupervised learning - linear regression"
   ]
  },
  {
   "cell_type": "code",
   "execution_count": 129,
   "metadata": {},
   "outputs": [],
   "source": [
    "unbias_df = np.log(df_clean[['retweet_count','favorite_count']])"
   ]
  },
  {
   "cell_type": "code",
   "execution_count": 130,
   "metadata": {},
   "outputs": [
    {
     "data": {
      "text/plain": [
       "retweet_count     0\n",
       "favorite_count    0\n",
       "dtype: int64"
      ]
     },
     "execution_count": 130,
     "metadata": {},
     "output_type": "execute_result"
    }
   ],
   "source": [
    "np.sum(unbias_df.isnull())"
   ]
  },
  {
   "cell_type": "code",
   "execution_count": 131,
   "metadata": {},
   "outputs": [
    {
     "data": {
      "image/png": "[encoded data removed]",
      "text/plain": [
       "<Figure size 432x288 with 1 Axes>"
      ]
     },
     "metadata": {
      "needs_background": "light"
     },
     "output_type": "display_data"
    }
   ],
   "source": [
    "# corrected data\n",
    "ax = sns.scatterplot(x=\"retweet_count\", y=\"favorite_count\",\n",
    "                     data=unbias_df)"
   ]
  },
  {
   "cell_type": "code",
   "execution_count": 132,
   "metadata": {},
   "outputs": [
    {
     "data": {
      "text/plain": [
       "(0.9377090808020956, array([[1.01320379]]), array([1.10532914]))"
      ]
     },
     "execution_count": 132,
     "metadata": {},
     "output_type": "execute_result"
    }
   ],
   "source": [
    "#  linear approach to modeling the relationship betweet two counts\n",
    "X = np.array(unbias_df.retweet_count).reshape(-1,1)\n",
    "y = np.array(unbias_df.favorite_count).reshape(-1,1)\n",
    "reg = LinearRegression().fit(X, y)\n",
    "reg.score(X, y), reg.coef_, reg.intercept_"
   ]
  },
  {
   "cell_type": "code",
   "execution_count": 133,
   "metadata": {},
   "outputs": [
    {
     "data": {
      "image/png": "[encoded data removed]",
      "text/plain": [
       "<Figure size 432x288 with 1 Axes>"
      ]
     },
     "metadata": {
      "needs_background": "light"
     },
     "output_type": "display_data"
    }
   ],
   "source": [
    "# use the underlying relationship\n",
    "ax = sns.scatterplot(x=\"retweet_count\", y=\"favorite_count\",\n",
    "                     data=unbias_df)\n",
    "def abline(slope, intercept):\n",
    "    \"\"\"Plot a line from slope and intercept\"\"\"\n",
    "    axes = plt.gca()\n",
    "    x_vals = np.array(axes.get_xlim())\n",
    "    y_vals = intercept + slope * x_vals\n",
    "    plt.plot(x_vals, y_vals, '--',color='red')\n",
    "abline(reg.coef_[0][0],reg.intercept_[0])\n"
   ]
  },
  {
   "cell_type": "markdown",
   "metadata": {},
   "source": [
    "It is obvious that retweet count and favorite count are positively related. We can use the red line to predict one of the counts if the other is given."
   ]
  },
  {
   "cell_type": "markdown",
   "metadata": {},
   "source": [
    " <a id='5'></a>\n",
    " ## 5 Conclusion and Limitations"
   ]
  },
  {
   "cell_type": "markdown",
   "metadata": {},
   "source": [
    "According to the analysis, among all breeds golden retriever has the most retweets and favorite. However, the top 1 favorite and retweeted tweet is about a Labrador retriever doggo. \n",
    "\n",
    "The pattern and trend study shows that people prefer to like a tweet more than retweet it. When it is cold outside, people tend to retweet and/or like more tweets and the total length of tweets tends to be short. In contrast, in the summer people prone to write more and retweet less.\n",
    "\n",
    "The retweet count and the favorite count is highly related. A regression line can be used to predict the retweet count based on the favorite count, vice versa.\n",
    "\n",
    "Even though heteroscedasticity is largely corrected by the logrithmization process, the scatter plot shows that the standard deviation is not constant. This phenomenon leads to a slightly biased confidence interval of the computed coefficient and interception."
   ]
  }
 ],
 "metadata": {
  "kernelspec": {
   "display_name": "Python 3",
   "language": "python",
   "name": "python3"
  },
  "language_info": {
   "codemirror_mode": {
    "name": "ipython",
    "version": 3
   },
   "file_extension": ".py",
   "mimetype": "text/x-python",
   "name": "python",
   "nbconvert_exporter": "python",
   "pygments_lexer": "ipython3",
   "version": "3.7.3"
  }
 },
 "nbformat": 4,
 "nbformat_minor": 2
}
